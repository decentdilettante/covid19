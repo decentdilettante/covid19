{
 "cells": [
  {
   "cell_type": "code",
   "execution_count": 1,
   "metadata": {},
   "outputs": [
    {
     "name": "stderr",
     "output_type": "stream",
     "text": [
      "unable to import 'smart_open.gcs', disabling that module\n"
     ]
    }
   ],
   "source": [
    "#universal sentence encoder\n",
    "import pandas as pd\n",
    "import gensim\n",
    "import gensim.corpora as corpora\n",
    "from gensim.utils import simple_preprocess\n",
    "from gensim.models import CoherenceModel\n",
    "import numpy as np\n",
    "import tqdm\n",
    "            \n",
    "\n",
    "import spacy\n",
    "from nltk.corpus import stopwords \n",
    "stops = list(stopwords.words('english'))\n",
    "other_stops = ['author', 'funder', 'all', 'rights', 'reuse', 'allowed' ,'also', 'use', 'without', 'permission', 'the', 'copyright', 'holder', 'for'\\\n",
    "                     'this', 'preprint', 'which', 'was', 'not', 'peer', 'reviewed', 'is', 'the', 'doi', 'biorxiv', 'preprint', 'author',\\\n",
    "                     'funder', 'all', 'reserved', 'copyright', 'holder', 'for', 'this', 'preprint', 'which', 'peer', 'reviewed', 'doi', 'biorxiv', 'preprint',\n",
    "                'the copyright holder for this preprint (which was not peer-reviewed) is the . doi doi: biorxiv preprint author/funder.', \\\n",
    "                'all rights reserved.', ' no reuse allowed without permission.the copyright holder for this preprint (which was not peer-reviewed)', \\\n",
    "               'biorxiv preprint the copyright holder for this preprint (which was not peer-reviewed) is the . doi doi: biorxiv preprint significance is shown comparing the replication of c11 pk disrupt and c11 pk restore (aii).', \\\n",
    "               ' significance shown is compared to wt replicon. error bars are calculated by sem, n = 3, * p 673 < 0 05, **** p < 0 0001  674 author/funder.',\n",
    "               'all rights reserved. no reuse allowed without permission.the copyright holder for this preprint (which was not peer-reviewed) is the . doi doi: biorxiv preprint 33 675 author/funder.',\\\n",
    "               ' all rights reserved. no reuse allowed without permission.the copyright holder for this preprint (which was not peer-reviewed) is the . doi doi: biorxiv preprint ']\n",
    "stops = stops + other_stops\n",
    "\n",
    "\n",
    "#https://www.machinelearningplus.com/nlp/topic-modeling-gensim-python/\n",
    "\n",
    "# Plotting tools\n",
    "import pyLDAvis\n",
    "import pyLDAvis.gensim  # don't skip this\n",
    "import matplotlib.pyplot as plt\n",
    "%matplotlib inline\n",
    "\n",
    "from pprint import pprint\n",
    "\n",
    "from IPython.display import Image\n",
    "import re\n",
    "\n",
    "\n",
    "import pickle\n"
   ]
  },
  {
   "cell_type": "markdown",
   "metadata": {},
   "source": [
    "### Things that can still be done\n",
    "Make sure to remove non-english documents in order to reduce perplexity and to increase coherence\n",
    "    \n",
    "Translate non-english documents to english to increase coherence and reduce perplexity \n",
    "\n",
    "Run a full hyperparameter tuning script to find ideal params to maximize the results\n",
    "\n",
    "Tie in the topics by document as output\n",
    "\n",
    "PYLDAvis for original and optimal model\n",
    "\n",
    "Integrate blog describing process and mathematics \n",
    "\n",
    "Can use Mallet instead of Gensim"
   ]
  },
  {
   "cell_type": "markdown",
   "metadata": {},
   "source": [
    "# Important\n",
    "This is an LDA model, therefore we can ignore elements of semantics, syntax, etc. We are utilizing Bag of Words methodologies, and therefore do not need to relate features in terms of contextual information, i.e, each document is a bag of words that can be used to inform a distribution that will be sampled.\n",
    "\n",
    "Sampling can be done via gibbs iterative sampling, or bayes.\n",
    "\n",
    "\n",
    "IMPORTANT:\n",
    "CODE IS SLOW, NEED TO MOVE FROM PANDAS -> DASK"
   ]
  },
  {
   "cell_type": "code",
   "execution_count": null,
   "metadata": {},
   "outputs": [],
   "source": [
    "print(type(stops))"
   ]
  },
  {
   "cell_type": "markdown",
   "metadata": {},
   "source": [
    "### Preprocessing extended in the pattern below"
   ]
  },
  {
   "cell_type": "code",
   "execution_count": null,
   "metadata": {},
   "outputs": [],
   "source": [
    "# %%timeit \n",
    "#refer to json_to_csv.ipynb for creating the csv below\n",
    "df = pd.read_csv('C:/Users/eovit/Python/Kaggle/research_pdfpapers_v2.csv')"
   ]
  },
  {
   "cell_type": "code",
   "execution_count": null,
   "metadata": {},
   "outputs": [],
   "source": [
    "#check for missing values\n",
    "missing = df.all_body.isnull().sum()"
   ]
  },
  {
   "cell_type": "code",
   "execution_count": null,
   "metadata": {},
   "outputs": [],
   "source": [
    "#no missing values!\n",
    "print(missing)"
   ]
  },
  {
   "cell_type": "code",
   "execution_count": null,
   "metadata": {},
   "outputs": [],
   "source": [
    "#this matches our desiisnullutput from the file list len(pdf_json == 62548)\n",
    "print(f'The size of our df is, {df.shape}')"
   ]
  },
  {
   "cell_type": "code",
   "execution_count": null,
   "metadata": {},
   "outputs": [],
   "source": [
    "#below is common preprocessing, motivated by the code at: https://www.kaggle.com/matteomuffo/a-fine-grained-covid-19-question-answering-engine\n",
    "def preprocessing(text):\n",
    "    # remove mail  \n",
    "    #we do not remove non-english words from the corpus, only non-alpha numeric characters\n",
    "    text = re.sub(r'[a-z0-9._%+-]+@[a-z0-9.-]+\\.[a-z]{2,}', 'MAIL', text)\n",
    "    # remove doi\n",
    "    text = re.sub(r'https\\:\\/\\/doi\\.org[^\\s]+', 'DOI', text)\n",
    "    # remove https\n",
    "    text = re.sub(r'(\\()?\\s?http(s)?\\:\\/\\/[^\\)]+(\\))?', r'\\g<1>LINK\\g<3>', text)\n",
    "    # remove single characters repeated at least 3 times for spacing error (e.g. s u m m a r y)\n",
    "    text = re.sub(r'(\\w\\s+){3,}', ' ', text)\n",
    "    # replace tags (e.g. [3] [4] [5]) with whitespace\n",
    "    text = re.sub(r'(\\[\\d+\\]\\,?\\s?){3,}(\\.|\\,)?', r' \\g<2>', text)\n",
    "    # replace tags (e.g. [3, 4, 5]) with whitespace\n",
    "    text = re.sub(r'\\[[\\d\\,\\s]+\\]', ' ',text)\n",
    "     # replace tags (e.g. (NUM1) repeated at least 3 times with whitespace\n",
    "    text = re.sub(r'(\\(\\d+\\)\\s){3,}', ' ',text)\n",
    "    # remove all full stops as abbreviations (e.g. i.e. cit. and so on)\n",
    "    text = re.sub(r'\\.(\\s)?([^A-Z\\s])', r' \\g<1>\\g<2>', text)\n",
    "    # return alphanumeric information only, reduce non english language in corpus\n",
    "#     text = ' '.join(t for t in text if t.isalpha())\n",
    "    #return the lowered text\n",
    "    return text.lower()\n",
    "\n",
    "#secondary preprocessing incase we miss anything\n",
    "#source https://tedboy.github.io/nlps/generated/generated/gensim.utils.simple_preprocess.html\n",
    "def ppreprocess(data):\n",
    " \n",
    "    temp = data.copy()\n",
    "    temp = [re.sub(r\"\\'\", \"\", x) for x in temp] #remove single quotes\n",
    "    temp = [re.sub(r\"\\,\", \"\", x) for x in temp] #remove commas, technically don't need to but I like too\n",
    "    for sentence in temp:\n",
    "        yield(gensim.utils.simple_preprocess(str(sentence), deacc=True))  # deacc=True removes punctuations"
   ]
  },
  {
   "cell_type": "code",
   "execution_count": null,
   "metadata": {},
   "outputs": [],
   "source": [
    "# %%timeit \n",
    "df.all_body = df.all_body.apply(preprocessing)\n"
   ]
  },
  {
   "cell_type": "code",
   "execution_count": null,
   "metadata": {},
   "outputs": [],
   "source": [
    "#lets make sure that things appear the way we want them to\n",
    "#there are non-english papers in the corpus, so be careful\n",
    "df.head() "
   ]
  },
  {
   "cell_type": "code",
   "execution_count": null,
   "metadata": {},
   "outputs": [],
   "source": [
    "df.all_body.iloc[0]"
   ]
  },
  {
   "cell_type": "code",
   "execution_count": null,
   "metadata": {
    "jupyter": {
     "source_hidden": true
    }
   },
   "outputs": [],
   "source": [
    "#lets write out some training text for the GPT2 model\n",
    "train_text = df.all_body.values.sum()"
   ]
  },
  {
   "cell_type": "code",
   "execution_count": null,
   "metadata": {
    "jupyter": {
     "source_hidden": true
    }
   },
   "outputs": [],
   "source": [
    "file = open('C:/Users/eovit/Python/Kaggle/COVID_code/training_file_gpt520.txt', 'w', encoding= 'utf-8')\n",
    "file.write(train_text)\n",
    "file.close()"
   ]
  },
  {
   "cell_type": "code",
   "execution_count": null,
   "metadata": {},
   "outputs": [],
   "source": [
    "#create a collection of all the elements in the all_body column\n",
    "data = df.all_body.values.tolist()"
   ]
  },
  {
   "cell_type": "code",
   "execution_count": null,
   "metadata": {},
   "outputs": [],
   "source": [
    "#apply secondary preprocessing (which yields a generator) and format it as a list into a manageable data structure \n",
    "#THIS IS A LIST OF LISTS REMEMBER THIS\n",
    "corpus = list(ppreprocess(data))"
   ]
  },
  {
   "cell_type": "code",
   "execution_count": null,
   "metadata": {},
   "outputs": [],
   "source": [
    "corpus[1]"
   ]
  },
  {
   "cell_type": "code",
   "execution_count": null,
   "metadata": {},
   "outputs": [],
   "source": [
    "# Build the bigram and trigram models\n",
    "# %%timeit\n",
    "bigram = gensim.models.Phrases(corpus, min_count=5, threshold=100) # higher threshold fewer phrases.\n",
    "trigram = gensim.models.Phrases(bigram[corpus], threshold=100)  \n",
    "\n",
    "# Faster way to get a sentence clubbed as a trigram/bigram\n",
    "bigram_mod = gensim.models.phrases.Phraser(bigram)\n",
    "trigram_mod = gensim.models.phrases.Phraser(trigram)\n"
   ]
  },
  {
   "cell_type": "code",
   "execution_count": null,
   "metadata": {},
   "outputs": [],
   "source": [
    "# See trigram example\n",
    "#interesting to note that we do not see any trigrams, indicating that we did not meet the threshold, which we could perhaps lower\n",
    "print(trigram_mod[bigram_mod[corpus[0]]]);"
   ]
  },
  {
   "cell_type": "code",
   "execution_count": null,
   "metadata": {},
   "outputs": [],
   "source": [
    "# Define functions for stopwords, bigrams, trigrams and lemmatization\n",
    "def remove_stopwords(texts):\n",
    "    \"\"\"\n",
    "    Input: texts <collection of documents, aka corpus>\n",
    "    ------------\n",
    "    Output: return tokenized text that meets return criteria <gensim.utils.simple_preprocessing> and LEN(WORD) > 3\n",
    "    \"\"\"\n",
    "    #remove words less than 3 can remove certain redundancies in the paper\n",
    "    return [[word for word in gensim.utils.simple_preprocess(str(doc)) if word not in stops and len(word) > 5] for doc in texts]\n",
    "\n",
    "def make_bigrams(texts):\n",
    "    \"\"\"\n",
    "    Input: texts <collection of documents, aka corpus>\n",
    "    ------------\n",
    "    Output: tokenized bigram representation of each document\n",
    "    \"\"\"\n",
    "    return [bigram_mod[doc] for doc in texts]\n",
    "\n",
    "def make_trigrams(texts):\n",
    "    \"\"\"\n",
    "    Input: texts <collection of documents, aka corpus>\n",
    "    ------------\n",
    "    Output: tokenized trigram representation of each document\n",
    "    \"\"\"\n",
    "    return [trigram_mod[bigram_mod[doc]] for doc in texts]\n",
    "\n",
    "def lemmatization(texts, allowed_postags=['NOUN', 'ADJ', 'VERB', 'ADV']):\n",
    "    \"\"\"\n",
    "    Input: texts <collection of documents, aka corpus>\n",
    "           list of POSTAGS check: https://spacy.io/api/annotation\n",
    "    ------------\n",
    "    Output: leammatized representation of corpus, with accompanying tagging from Spacy\n",
    "    \"\"\"\n",
    "    texts_out = []\n",
    "    for sent in texts:\n",
    "        doc = nlp(\" \".join(sent)) \n",
    "        texts_out.append([token.lemma_ for token in doc if token.pos_ in allowed_postags])\n",
    "    return texts_out\n"
   ]
  },
  {
   "cell_type": "code",
   "execution_count": null,
   "metadata": {},
   "outputs": [],
   "source": [
    "# %%timeit\n",
    "# Remove Stop Words\n",
    "corpus_nostops = remove_stopwords(corpus)\n",
    "\n",
    "# Form Bigrams\n",
    "corpus_bigrams = make_bigrams(corpus_nostops)\n",
    "\n"
   ]
  },
  {
   "cell_type": "code",
   "execution_count": null,
   "metadata": {},
   "outputs": [],
   "source": [
    "# Initialize spacy 'en' model, keeping only tagger component (for efficiency)\n",
    "# python3 -m spacy download en\n",
    "\n",
    "#this part can be made much more efficient\n",
    "nlp = spacy.load('en', disable=['parser', 'ner'])\n",
    "nlp.max_length =  2000000\n",
    "# Do lemmatization keeping only noun, adj, vb, adv\n",
    "corpus_lemmatized = lemmatization(corpus_bigrams, allowed_postags=['NOUN', 'ADJ', 'VERB', 'ADV'])\n",
    "\n"
   ]
  },
  {
   "cell_type": "code",
   "execution_count": null,
   "metadata": {},
   "outputs": [],
   "source": [
    "print(corpus_lemmatized[:1]);"
   ]
  },
  {
   "cell_type": "code",
   "execution_count": null,
   "metadata": {
    "jupyter": {
     "source_hidden": true
    }
   },
   "outputs": [],
   "source": [
    "df['lemmatized_corpus'] = corpus_lemmatized"
   ]
  },
  {
   "cell_type": "code",
   "execution_count": null,
   "metadata": {
    "jupyter": {
     "source_hidden": true
    }
   },
   "outputs": [],
   "source": [
    "df.head()\n",
    "df.to_csv('all_body_lemma_corpus.csv')"
   ]
  },
  {
   "cell_type": "code",
   "execution_count": null,
   "metadata": {},
   "outputs": [],
   "source": [
    "#lets create the main inputs into the LDA model, which are the id2word(doc), which is dictionary of the word index adn frequency per document\n",
    "#the other input to add is the corpus , which is the entire id2word(doc) collection, so it can be thought of as a nested dictionary \n",
    "# Create Dictionary\n",
    "id2word = corpora.Dictionary(corpus_lemmatized)\n",
    "\n",
    "# Create Corpus\n",
    "texts = corpus_lemmatized\n",
    "\n",
    "# Term Document Frequency\n",
    "f_corpus = [id2word.doc2bow(text) for text in texts]\n",
    "\n",
    "# View\n",
    "print(f_corpus[:1]);"
   ]
  },
  {
   "cell_type": "markdown",
   "metadata": {},
   "source": [
    "### Write out intermediate representation"
   ]
  },
  {
   "cell_type": "code",
   "execution_count": null,
   "metadata": {},
   "outputs": [],
   "source": [
    "#lets write out our corpus so we can save it\n",
    "\n",
    "pickle.dump(f_corpus, open('corpus.pkl', 'wb'))\n",
    "pickle.dump(corpus_lemmatized, open('lemmatized_corpus.pkl', 'wb'))\n",
    "id2word.save('dictionary528.gensim')"
   ]
  },
  {
   "cell_type": "code",
   "execution_count": 2,
   "metadata": {},
   "outputs": [],
   "source": [
    "#load in the preprocessed information\n",
    "#this works!\n",
    "with open('corpus.pkl', 'rb') as handle:\n",
    "    data = pickle.load(handle)\n",
    "\n",
    "with open('lemmatized_corpus.pkl', 'rb') as f:\n",
    "    dat = pickle.load(f)\n",
    "#where d_corpus indicates downloaded\n",
    "d_corpus = data\n",
    "corp_text = dat\n",
    "id2word1 = corpora.Dictionary.load('dictionary528.gensim')"
   ]
  },
  {
   "cell_type": "code",
   "execution_count": null,
   "metadata": {},
   "outputs": [],
   "source": [
    "#lets check to see if the data we made and the stored files are the same\n",
    "if f_corpus == d_corpus:\n",
    "    print('this one works')\n",
    "if corpus_lemmatized == corp_text:\n",
    "    print('this one too')\n",
    "if id2word == id2word:\n",
    "    print('holy crud!')"
   ]
  },
  {
   "cell_type": "markdown",
   "metadata": {},
   "source": [
    "### Everything after this is the actual modeling and output collection"
   ]
  },
  {
   "cell_type": "code",
   "execution_count": 3,
   "metadata": {},
   "outputs": [
    {
     "name": "stdout",
     "output_type": "stream",
     "text": [
      "[[(0, 4), (1, 1), (2, 1), (3, 1), (4, 1), (5, 1), (6, 2), (7, 2), (8, 1), (9, 1), (10, 1), (11, 1), (12, 1), (13, 1), (14, 1), (15, 4), (16, 26), (17, 27), (18, 1), (19, 1), (20, 2), (21, 2), (22, 4), (23, 2), (24, 1), (25, 1), (26, 3), (27, 1), (28, 2), (29, 1), (30, 3), (31, 1), (32, 1), (33, 1), (34, 2), (35, 1), (36, 1), (37, 1), (38, 1), (39, 3), (40, 2), (41, 2), (42, 1), (43, 1), (44, 1), (45, 1), (46, 1), (47, 1), (48, 1), (49, 1), (50, 2), (51, 1), (52, 1), (53, 2), (54, 1), (55, 1), (56, 1), (57, 2), (58, 1), (59, 1), (60, 2), (61, 1), (62, 2), (63, 1), (64, 3), (65, 1), (66, 4), (67, 1), (68, 1), (69, 1), (70, 4), (71, 1), (72, 3), (73, 2), (74, 3), (75, 1), (76, 1), (77, 1), (78, 1), (79, 1), (80, 1), (81, 1), (82, 4), (83, 3), (84, 2), (85, 1), (86, 1), (87, 1), (88, 1), (89, 1), (90, 1), (91, 1), (92, 1), (93, 11), (94, 2), (95, 9), (96, 1), (97, 12), (98, 1), (99, 2), (100, 1), (101, 1), (102, 1), (103, 1), (104, 1), (105, 1), (106, 2), (107, 1), (108, 2), (109, 2), (110, 2), (111, 3), (112, 1), (113, 10), (114, 4), (115, 1), (116, 1), (117, 2), (118, 1), (119, 1), (120, 1), (121, 4), (122, 25), (123, 10), (124, 6), (125, 2), (126, 1), (127, 2), (128, 2), (129, 1), (130, 4), (131, 3), (132, 1), (133, 2), (134, 6), (135, 1), (136, 1), (137, 2), (138, 1), (139, 1), (140, 1), (141, 1), (142, 2), (143, 2), (144, 1), (145, 2), (146, 1), (147, 2), (148, 1), (149, 1), (150, 1), (151, 4), (152, 1), (153, 1), (154, 10), (155, 1), (156, 8), (157, 1), (158, 1), (159, 1), (160, 1), (161, 2), (162, 8), (163, 10), (164, 2), (165, 2), (166, 1), (167, 2), (168, 2), (169, 1), (170, 1), (171, 1), (172, 1), (173, 1), (174, 1), (175, 3), (176, 2), (177, 1), (178, 3), (179, 1), (180, 1), (181, 1), (182, 1), (183, 1), (184, 1), (185, 4), (186, 2), (187, 7), (188, 2), (189, 1), (190, 1), (191, 1), (192, 8), (193, 2), (194, 19), (195, 1), (196, 1), (197, 1), (198, 1), (199, 5), (200, 11), (201, 1), (202, 1), (203, 1), (204, 1), (205, 1), (206, 1), (207, 1), (208, 3), (209, 2), (210, 1), (211, 1), (212, 1), (213, 4), (214, 1), (215, 1), (216, 2), (217, 1), (218, 2), (219, 1), (220, 1), (221, 1), (222, 1), (223, 4), (224, 5), (225, 1), (226, 1), (227, 1), (228, 2), (229, 1), (230, 1), (231, 1), (232, 4), (233, 6), (234, 1), (235, 1), (236, 1), (237, 1), (238, 1), (239, 3), (240, 11), (241, 8), (242, 2), (243, 1), (244, 1), (245, 3), (246, 2), (247, 1), (248, 1), (249, 1), (250, 1), (251, 1), (252, 20), (253, 1), (254, 1), (255, 4), (256, 1), (257, 7), (258, 1), (259, 1), (260, 2), (261, 1), (262, 1), (263, 2), (264, 1), (265, 1), (266, 1), (267, 3), (268, 1), (269, 1), (270, 1), (271, 1), (272, 1)]]\n"
     ]
    }
   ],
   "source": [
    "#as you can see, we get the same as above\n",
    "print(d_corpus[:1])"
   ]
  },
  {
   "cell_type": "code",
   "execution_count": 5,
   "metadata": {},
   "outputs": [
    {
     "data": {
      "text/plain": [
       "[[('absence', 4),\n",
       "  ('absent', 1),\n",
       "  ('abundantly', 1),\n",
       "  ('accept', 1),\n",
       "  ('accessible', 1),\n",
       "  ('accord', 1),\n",
       "  ('account', 2),\n",
       "  ('adaptive', 2),\n",
       "  ('addition', 1),\n",
       "  ('affect', 1),\n",
       "  ('afterwards', 1),\n",
       "  ('allow', 1),\n",
       "  ('almost', 1),\n",
       "  ('already', 1),\n",
       "  ('analysis', 1),\n",
       "  ('analyze', 4),\n",
       "  ('antibody', 26),\n",
       "  ('antigen', 27),\n",
       "  ('apoptosis', 1),\n",
       "  ('become', 1),\n",
       "  ('belong', 2),\n",
       "  ('bind', 2),\n",
       "  ('biotinylate', 4),\n",
       "  ('block', 2),\n",
       "  ('buckinghamshire', 1),\n",
       "  ('calprotectin', 1),\n",
       "  ('capable', 3),\n",
       "  ('capping', 1),\n",
       "  ('cause', 2),\n",
       "  ('cavity', 1),\n",
       "  ('cellular', 3),\n",
       "  ('centrifugation', 1),\n",
       "  ('centrifuge', 1),\n",
       "  ('characterize', 1),\n",
       "  ('chronic', 2),\n",
       "  ('classical', 1),\n",
       "  ('clear', 1),\n",
       "  ('clinical', 1),\n",
       "  ('clinician', 1),\n",
       "  ('collect', 3),\n",
       "  ('complement', 2),\n",
       "  ('complex', 2),\n",
       "  ('complicated', 1),\n",
       "  ('concentration', 1),\n",
       "  ('conclusion', 1),\n",
       "  ('confirm', 1),\n",
       "  ('conjugate', 1),\n",
       "  ('consequence', 1),\n",
       "  ('consequently', 1),\n",
       "  ('consistent', 1),\n",
       "  ('contain', 2),\n",
       "  ('continue', 1),\n",
       "  ('contrast', 1),\n",
       "  ('control', 2),\n",
       "  ('couple', 1),\n",
       "  ('cover', 1),\n",
       "  ('coverslip', 1),\n",
       "  ('cultivation', 2),\n",
       "  ('cultured', 1),\n",
       "  ('cytoplasmic', 1),\n",
       "  ('cytotoxic', 2),\n",
       "  ('define', 1),\n",
       "  ('demonstrate', 2),\n",
       "  ('depletion', 1),\n",
       "  ('describe', 3),\n",
       "  ('destruction', 1),\n",
       "  ('detect', 4),\n",
       "  ('detectable', 1),\n",
       "  ('detected', 1),\n",
       "  ('detection', 1),\n",
       "  ('determine', 4),\n",
       "  ('develop', 1),\n",
       "  ('dewerchin', 3),\n",
       "  ('difference', 2),\n",
       "  ('different', 3),\n",
       "  ('diluted', 1),\n",
       "  ('disease', 1),\n",
       "  ('disintegrate', 1),\n",
       "  ('distinguish', 1),\n",
       "  ('divide', 1),\n",
       "  ('effect', 1),\n",
       "  ('efficient', 1),\n",
       "  ('effusive', 4),\n",
       "  ('eliminate', 3),\n",
       "  ('elimination', 2),\n",
       "  ('elsevi', 1),\n",
       "  ('enable', 1),\n",
       "  ('equine', 1),\n",
       "  ('euthanize', 1),\n",
       "  ('examination', 1),\n",
       "  ('examine', 1),\n",
       "  ('exception', 1),\n",
       "  ('experiment', 1),\n",
       "  ('express', 11),\n",
       "  ('expressing', 2),\n",
       "  ('expression', 9),\n",
       "  ('extrusion', 1),\n",
       "  ('exudate', 12),\n",
       "  ('favoreel', 1),\n",
       "  ('feline', 2),\n",
       "  ('finding', 1),\n",
       "  ('fipvinfecte', 1),\n",
       "  ('fluorescence', 1),\n",
       "  ('form', 1),\n",
       "  ('generally', 1),\n",
       "  ('glycoprotein', 1),\n",
       "  ('granulocyte', 2),\n",
       "  ('granulomatous', 1),\n",
       "  ('high', 2),\n",
       "  ('hinder', 2),\n",
       "  ('however', 2),\n",
       "  ('humoral', 3),\n",
       "  ('immediately', 1),\n",
       "  ('immune', 10),\n",
       "  ('immunity', 4),\n",
       "  ('immunoblotting', 1),\n",
       "  ('implicate', 1),\n",
       "  ('important', 2),\n",
       "  ('increase', 1),\n",
       "  ('indicate', 1),\n",
       "  ('individual', 1),\n",
       "  ('induce', 4),\n",
       "  ('infect', 25),\n",
       "  ('infected', 10),\n",
       "  ('infection', 6),\n",
       "  ('infectious', 2),\n",
       "  ('ingenious', 1),\n",
       "  ('inhibit', 2),\n",
       "  ('inhibited', 2),\n",
       "  ('interaction', 1),\n",
       "  ('internalization', 4),\n",
       "  ('internalize', 3),\n",
       "  ('investigate', 1),\n",
       "  ('invisible', 2),\n",
       "  ('isolate', 6),\n",
       "  ('isolation', 1),\n",
       "  ('kidney', 1),\n",
       "  ('kill', 2),\n",
       "  ('lack', 1),\n",
       "  ('latter', 1),\n",
       "  ('leave', 1),\n",
       "  ('lesion', 1),\n",
       "  ('likely', 2),\n",
       "  ('lineage', 2),\n",
       "  ('list', 1),\n",
       "  ('load', 2),\n",
       "  ('locate_vetmic', 1),\n",
       "  ('lymphocyte', 2),\n",
       "  ('macrophage', 1),\n",
       "  ('majority', 1),\n",
       "  ('manufacturers_instruction', 1),\n",
       "  ('marker', 4),\n",
       "  ('mechanically', 1),\n",
       "  ('mechanism', 1),\n",
       "  ('mediate', 10),\n",
       "  ('mediator', 1),\n",
       "  ('membrane', 8),\n",
       "  ('microbiology', 1),\n",
       "  ('microscope', 1),\n",
       "  ('microscopy', 1),\n",
       "  ('mijne', 1),\n",
       "  ('mixture', 2),\n",
       "  ('molecule', 8),\n",
       "  ('monocyte', 10),\n",
       "  ('monocyte_macrophage', 2),\n",
       "  ('mononuclear', 2),\n",
       "  ('monospecific_polyclonal', 1),\n",
       "  ('morphology', 2),\n",
       "  ('mount', 2),\n",
       "  ('nature', 1),\n",
       "  ('needle', 1),\n",
       "  ('negative', 1),\n",
       "  ('normally', 1),\n",
       "  ('nucleus', 1),\n",
       "  ('number', 1),\n",
       "  ('observation', 3),\n",
       "  ('observe', 2),\n",
       "  ('obtain', 1),\n",
       "  ('occur', 3),\n",
       "  ('oldstone', 1),\n",
       "  ('organ', 1),\n",
       "  ('originate', 1),\n",
       "  ('outcome', 1),\n",
       "  ('overcome', 1),\n",
       "  ('pathway', 1),\n",
       "  ('peptide', 4),\n",
       "  ('percentage', 2),\n",
       "  ('perform', 7),\n",
       "  ('peritonitis', 2),\n",
       "  ('phagocyte', 1),\n",
       "  ('phosphate_buffered', 1),\n",
       "  ('place', 1),\n",
       "  ('plasma', 8),\n",
       "  ('polyclonal', 2),\n",
       "  ('positive', 19),\n",
       "  ('possibility', 1),\n",
       "  ('possible', 1),\n",
       "  ('postulate', 1),\n",
       "  ('precise', 1),\n",
       "  ('presence', 5),\n",
       "  ('present', 11),\n",
       "  ('production', 1),\n",
       "  ('profile', 1),\n",
       "  ('progeny', 1),\n",
       "  ('progression', 1),\n",
       "  ('proteasome', 1),\n",
       "  ('protect', 1),\n",
       "  ('protection', 1),\n",
       "  ('protein', 3),\n",
       "  ('pseudorabie', 2),\n",
       "  ('purchase', 1),\n",
       "  ('purify', 1),\n",
       "  ('pyogranuloma', 1),\n",
       "  ('pyogranulomas', 4),\n",
       "  ('quantify', 1),\n",
       "  ('reaction', 1),\n",
       "  ('recognition', 2),\n",
       "  ('recognizable', 1),\n",
       "  ('recognize', 2),\n",
       "  ('release', 1),\n",
       "  ('remain', 1),\n",
       "  ('replication', 1),\n",
       "  ('respectively', 1),\n",
       "  ('response', 4),\n",
       "  ('result', 5),\n",
       "  ('retention', 1),\n",
       "  ('reveal', 1),\n",
       "  ('saline', 1),\n",
       "  ('second', 2),\n",
       "  ('seed', 1),\n",
       "  ('separate', 1),\n",
       "  ('serosae', 1),\n",
       "  ('serotype', 4),\n",
       "  ('show', 6),\n",
       "  ('showing', 1),\n",
       "  ('significantly', 1),\n",
       "  ('sisson', 1),\n",
       "  ('slide', 1),\n",
       "  ('soluble', 1),\n",
       "  ('specific', 3),\n",
       "  ('stain', 11),\n",
       "  ('staining', 8),\n",
       "  ('state', 2),\n",
       "  ('statistical', 1),\n",
       "  ('stay', 1),\n",
       "  ('strain', 3),\n",
       "  ('strong', 2),\n",
       "  ('strongly', 1),\n",
       "  ('study', 1),\n",
       "  ('subsequent', 1),\n",
       "  ('succeed', 1),\n",
       "  ('suffer', 1),\n",
       "  ('surface', 20),\n",
       "  ('susceptible', 1),\n",
       "  ('suspect', 1),\n",
       "  ('suspension', 4),\n",
       "  ('synthesize', 1),\n",
       "  ('system', 7),\n",
       "  ('take', 1),\n",
       "  ('technique', 1),\n",
       "  ('tissue', 2),\n",
       "  ('together', 1),\n",
       "  ('transmit', 1),\n",
       "  ('transport', 2),\n",
       "  ('varied', 1),\n",
       "  ('various', 1),\n",
       "  ('veterinary', 1),\n",
       "  ('viability', 3),\n",
       "  ('virus', 1),\n",
       "  ('viruse', 1),\n",
       "  ('virusinfecte', 1),\n",
       "  ('visually', 1),\n",
       "  ('wilcoxon_signed', 1)]]"
      ]
     },
     "execution_count": 5,
     "metadata": {},
     "output_type": "execute_result"
    }
   ],
   "source": [
    "#as we can see, d_corpus is equal to f_corpus\n",
    "[[(id2word1[id], freq) for id, freq in cp] for cp in d_corpus[:1]]"
   ]
  },
  {
   "cell_type": "code",
   "execution_count": null,
   "metadata": {},
   "outputs": [],
   "source": [
    "# Human readable format of corpus (term-frequency)\n",
    "[[(id2word[id], freq) for id, freq in cp] for cp in f_corpus[:1]]"
   ]
  },
  {
   "cell_type": "code",
   "execution_count": null,
   "metadata": {},
   "outputs": [],
   "source": [
    "Image(filename = \"C:/Users/eovit/Python/Kaggle/Lda.png\")\n",
    "#where corpus is collectino of M documents [D]\n",
    "#Doc containts N words\n",
    "#Z is topic selected\n",
    "#solve p(wN | Zn , ThetaN)"
   ]
  },
  {
   "cell_type": "code",
   "execution_count": null,
   "metadata": {},
   "outputs": [],
   "source": [
    "# Build LDA model; can be fine tuned for coherence and perplexity, where K = num_topics, we are updating every iteration\n",
    "\n",
    "#k is important because it\n",
    "lda_model = gensim.models.ldamulticore.LdaMulticore(corpus=f_corpus,\n",
    "                                           id2word=id2word,\n",
    "                                           num_topics=10, \n",
    "                                           random_state=100,\n",
    "                                           chunksize=100,\n",
    "                                           workers=11, # Num. Processing Cores - 1         \n",
    "                                           passes=50,\n",
    "                                           eval_every= 1,\n",
    "                                           #important to note that we lose access to auto-configured alpha when using multicore\n",
    "                                           per_word_topics=True)"
   ]
  },
  {
   "cell_type": "code",
   "execution_count": null,
   "metadata": {},
   "outputs": [],
   "source": [
    "#saved the model\n",
    "lda_model.save('model10.gensim')"
   ]
  },
  {
   "cell_type": "code",
   "execution_count": 6,
   "metadata": {},
   "outputs": [],
   "source": [
    "#lets load the model\n",
    "lda_saved_mod = gensim.models.LdaModel.load('model10.gensim')"
   ]
  },
  {
   "cell_type": "code",
   "execution_count": 7,
   "metadata": {},
   "outputs": [
    {
     "name": "stdout",
     "output_type": "stream",
     "text": [
      "[(0,\n",
      "  '0.017*\"health\" + 0.008*\"public\" + 0.007*\"system\" + 0.006*\"country\" + '\n",
      "  '0.006*\"include\" + 0.006*\"provide\" + 0.006*\"disease\" + 0.005*\"information\" + '\n",
      "  '0.005*\"research\" + 0.005*\"people\"'),\n",
      " (1,\n",
      "  '0.040*\"protein\" + 0.012*\"bind\" + 0.011*\"activity\" + 0.010*\"structure\" + '\n",
      "  '0.009*\"domain\" + 0.007*\"interaction\" + 0.007*\"membrane\" + 0.007*\"peptide\" + '\n",
      "  '0.007*\"target\" + 0.007*\"residue\"'),\n",
      " (2,\n",
      "  '0.030*\"sequence\" + 0.019*\"sample\" + 0.014*\"virus\" + 0.012*\"genome\" + '\n",
      "  '0.012*\"strain\" + 0.009*\"analysis\" + 0.009*\"detection\" + 0.009*\"detect\" + '\n",
      "  '0.008*\"method\" + 0.008*\"identify\"'),\n",
      " (3,\n",
      "  '0.015*\"number\" + 0.009*\"individual\" + 0.009*\"population\" + 0.009*\"result\" + '\n",
      "  '0.009*\"model\" + 0.008*\"estimate\" + 0.007*\"figure\" + 0.007*\"different\" + '\n",
      "  '0.007*\"network\" + 0.006*\"epidemic\"'),\n",
      " (4,\n",
      "  '0.009*\"patient\" + 0.007*\"paciente\" + 0.006*\"wurden\" + 0.005*\"worden\" + '\n",
      "  '0.004*\"wahrend\" + 0.004*\"infection\" + 0.004*\"traitement\" + 0.004*\"therapie\" '\n",
      "  '+ 0.003*\"dieser\" + 0.003*\"allerding\"'),\n",
      " (5,\n",
      "  '0.054*\"patient\" + 0.011*\"treatment\" + 0.011*\"result\" + 0.008*\"clinical\" + '\n",
      "  '0.006*\"increase\" + 0.006*\"follow\" + 0.006*\"method\" + 0.006*\"therapy\" + '\n",
      "  '0.006*\"include\" + 0.006*\"perform\"'),\n",
      " (6,\n",
      "  '0.015*\"expression\" + 0.015*\"response\" + 0.012*\"increase\" + 0.012*\"induce\" + '\n",
      "  '0.011*\"infection\" + 0.011*\"immune\" + 0.009*\"effect\" + 0.009*\"receptor\" + '\n",
      "  '0.008*\"level\" + 0.007*\"inflammatory\"'),\n",
      " (7,\n",
      "  '0.023*\"antibody\" + 0.016*\"infection\" + 0.016*\"vaccine\" + 0.014*\"protein\" + '\n",
      "  '0.012*\"infect\" + 0.010*\"control\" + 0.009*\"result\" + 0.008*\"culture\" + '\n",
      "  '0.008*\"response\" + 0.008*\"figure\"'),\n",
      " (8,\n",
      "  '0.039*\"infection\" + 0.027*\"patient\" + 0.016*\"respiratory\" + 0.016*\"disease\" '\n",
      "  '+ 0.011*\"child\" + 0.011*\"clinical\" + 0.011*\"report\" + 0.010*\"symptom\" + '\n",
      "  '0.010*\"include\" + 0.008*\"study\"'),\n",
      " (9,\n",
      "  '0.017*\"animal\" + 0.009*\"specie\" + 0.009*\"disease\" + 0.006*\"concentration\" + '\n",
      "  '0.006*\"increase\" + 0.005*\"include\" + 0.005*\"particle\" + 0.005*\"surface\" + '\n",
      "  '0.005*\"calf\" + 0.005*\"bacteria\"')]\n"
     ]
    }
   ],
   "source": [
    "# lda_model = gensim.models.LdaModel.load('model15.gensim')\n",
    "#from 15 to 10 topics still retained some german words, which are now in their own topics\n",
    "pprint(lda_saved_mod.print_topics())\n",
    "#two non-english papers\n",
    "doc_lda = lda_saved_mod[d_corpus]"
   ]
  },
  {
   "cell_type": "code",
   "execution_count": 9,
   "metadata": {},
   "outputs": [
    {
     "name": "stdout",
     "output_type": "stream",
     "text": [
      "\n",
      "Perplexity:  -7.904807565058001\n",
      "\n",
      "Coherence Score:  0.45941070392815025\n"
     ]
    }
   ],
   "source": [
    "# Compute Perplexity; lower the better\n",
    "#these reSULTS ARE BETTER THAN ABSTRACT AND TITLE\n",
    "#mallet is better than the LDA implementation \n",
    "#more data has given us better results (about twice as much informatoin)\n",
    "print('\\nPerplexity: ', lda_saved_mod.log_perplexity(d_corpus))  # a measure of how good the model is. lower the better.\n",
    "\n",
    "# Compute Coherence Score, interpreted similarly to acc\n",
    "coherence_model_lda = CoherenceModel(model=lda_saved_mod, texts= corp_text, dictionary=id2word1, coherence='c_v')\n",
    "coherence_lda = coherence_model_lda.get_coherence()\n",
    "print('\\nCoherence Score: ', coherence_lda)\n",
    "\n",
    "#when this code works get a log_perplixty of around -7.9 and Coherence of .45"
   ]
  },
  {
   "cell_type": "code",
   "execution_count": 10,
   "metadata": {},
   "outputs": [
    {
     "name": "stderr",
     "output_type": "stream",
     "text": [
      "c:\\users\\eovit\\miniconda3\\envs\\virt\\lib\\site-packages\\pyLDAvis\\_prepare.py:257: FutureWarning: Sorting because non-concatenation axis is not aligned. A future version\n",
      "of pandas will change to not sort by default.\n",
      "\n",
      "To accept the future behavior, pass 'sort=False'.\n",
      "\n",
      "To retain the current behavior and silence the warning, pass 'sort=True'.\n",
      "\n",
      "  return pd.concat([default_term_info] + list(topic_dfs))\n"
     ]
    },
    {
     "data": {
      "text/html": [
       "\n",
       "<link rel=\"stylesheet\" type=\"text/css\" href=\"https://cdn.rawgit.com/bmabey/pyLDAvis/files/ldavis.v1.0.0.css\">\n",
       "\n",
       "\n",
       "<div id=\"ldavis_el1930427027715753688693654853\"></div>\n",
       "<script type=\"text/javascript\">\n",
       "\n",
       "var ldavis_el1930427027715753688693654853_data = {\"mdsDat\": {\"x\": [-0.014580723805606587, -0.03805972703702028, -0.08087118089114285, -0.05494691109733789, -0.018414140046527545, -0.08384777466294939, -0.06746265370642188, -0.08160102674527096, -0.04254869494299367, 0.4823328329352713], \"y\": [-0.11377550598168688, -0.15856272182643624, 0.1881653892378462, 0.10540962885745844, -0.14102923322189598, 0.1296859409632543, -0.07128351651853879, 0.050736886349543514, -0.030073652218697063, 0.040726784359152314], \"topics\": [1, 2, 3, 4, 5, 6, 7, 8, 9, 10], \"cluster\": [1, 1, 1, 1, 1, 1, 1, 1, 1, 1], \"Freq\": [15.22059154510498, 13.895149230957031, 11.792664527893066, 11.613101959228516, 11.364283561706543, 9.77821159362793, 9.701550483703613, 8.34200668334961, 7.617772579193115, 0.6746762990951538]}, \"tinfo\": {\"Category\": [\"Default\", \"Default\", \"Default\", \"Default\", \"Default\", \"Default\", \"Default\", \"Default\", \"Default\", \"Default\", \"Default\", \"Default\", \"Default\", \"Default\", \"Default\", \"Default\", \"Default\", \"Default\", \"Default\", \"Default\", \"Default\", \"Default\", \"Default\", \"Default\", \"Default\", \"Default\", \"Default\", \"Default\", \"Default\", \"Default\", \"Topic1\", \"Topic1\", \"Topic1\", \"Topic1\", \"Topic1\", \"Topic1\", \"Topic1\", \"Topic1\", \"Topic1\", \"Topic1\", \"Topic1\", \"Topic1\", \"Topic1\", \"Topic1\", \"Topic1\", \"Topic1\", \"Topic1\", \"Topic1\", \"Topic1\", \"Topic1\", \"Topic1\", \"Topic1\", \"Topic1\", \"Topic1\", \"Topic1\", \"Topic1\", \"Topic1\", \"Topic1\", \"Topic1\", \"Topic1\", \"Topic1\", \"Topic1\", \"Topic1\", \"Topic1\", \"Topic1\", \"Topic1\", \"Topic1\", \"Topic1\", \"Topic1\", \"Topic1\", \"Topic1\", \"Topic1\", \"Topic1\", \"Topic1\", \"Topic1\", \"Topic1\", \"Topic1\", \"Topic1\", \"Topic1\", \"Topic1\", \"Topic1\", \"Topic1\", \"Topic1\", \"Topic1\", \"Topic1\", \"Topic1\", \"Topic1\", \"Topic1\", \"Topic1\", \"Topic1\", \"Topic1\", \"Topic1\", \"Topic1\", \"Topic1\", \"Topic1\", \"Topic1\", \"Topic1\", \"Topic1\", \"Topic1\", \"Topic1\", \"Topic1\", \"Topic1\", \"Topic1\", \"Topic1\", \"Topic1\", \"Topic1\", \"Topic1\", \"Topic1\", \"Topic1\", \"Topic1\", \"Topic1\", \"Topic1\", \"Topic1\", \"Topic1\", \"Topic1\", \"Topic1\", \"Topic1\", \"Topic1\", \"Topic1\", \"Topic1\", \"Topic1\", \"Topic1\", \"Topic1\", \"Topic1\", \"Topic1\", \"Topic1\", \"Topic1\", \"Topic1\", \"Topic1\", \"Topic1\", \"Topic1\", \"Topic1\", \"Topic1\", \"Topic1\", \"Topic1\", \"Topic1\", \"Topic1\", \"Topic1\", \"Topic1\", \"Topic2\", \"Topic2\", \"Topic2\", \"Topic2\", \"Topic2\", \"Topic2\", \"Topic2\", \"Topic2\", \"Topic2\", \"Topic2\", \"Topic2\", \"Topic2\", \"Topic2\", \"Topic2\", \"Topic2\", \"Topic2\", \"Topic2\", \"Topic2\", \"Topic2\", \"Topic2\", \"Topic2\", \"Topic2\", \"Topic2\", \"Topic2\", \"Topic2\", \"Topic2\", \"Topic2\", \"Topic2\", \"Topic2\", \"Topic2\", \"Topic2\", \"Topic2\", \"Topic2\", \"Topic2\", \"Topic2\", \"Topic2\", \"Topic2\", \"Topic2\", \"Topic2\", \"Topic2\", \"Topic2\", \"Topic2\", \"Topic2\", \"Topic2\", \"Topic2\", \"Topic2\", \"Topic2\", \"Topic2\", \"Topic2\", \"Topic2\", \"Topic2\", \"Topic2\", \"Topic2\", \"Topic2\", \"Topic2\", \"Topic2\", \"Topic2\", \"Topic2\", \"Topic2\", \"Topic2\", \"Topic2\", \"Topic2\", \"Topic2\", \"Topic2\", \"Topic2\", \"Topic2\", \"Topic2\", \"Topic2\", \"Topic2\", \"Topic2\", \"Topic2\", \"Topic2\", \"Topic2\", \"Topic2\", \"Topic2\", \"Topic2\", \"Topic2\", \"Topic2\", \"Topic2\", \"Topic2\", \"Topic2\", \"Topic2\", \"Topic2\", \"Topic2\", \"Topic2\", \"Topic2\", \"Topic2\", \"Topic2\", \"Topic2\", \"Topic2\", \"Topic2\", \"Topic2\", \"Topic2\", \"Topic2\", \"Topic2\", \"Topic3\", \"Topic3\", \"Topic3\", \"Topic3\", \"Topic3\", \"Topic3\", \"Topic3\", \"Topic3\", \"Topic3\", \"Topic3\", \"Topic3\", \"Topic3\", \"Topic3\", \"Topic3\", \"Topic3\", \"Topic3\", \"Topic3\", \"Topic3\", \"Topic3\", \"Topic3\", \"Topic3\", \"Topic3\", \"Topic3\", \"Topic3\", \"Topic3\", \"Topic3\", \"Topic3\", \"Topic3\", \"Topic3\", \"Topic3\", \"Topic3\", \"Topic3\", \"Topic3\", \"Topic3\", \"Topic3\", \"Topic3\", \"Topic3\", \"Topic3\", \"Topic3\", \"Topic3\", \"Topic3\", \"Topic3\", \"Topic3\", \"Topic3\", \"Topic3\", \"Topic3\", \"Topic3\", \"Topic3\", \"Topic3\", \"Topic3\", \"Topic3\", \"Topic3\", \"Topic3\", \"Topic3\", \"Topic3\", \"Topic3\", \"Topic3\", \"Topic3\", \"Topic3\", \"Topic3\", \"Topic3\", \"Topic3\", \"Topic3\", \"Topic3\", \"Topic3\", \"Topic3\", \"Topic3\", \"Topic3\", \"Topic3\", \"Topic3\", \"Topic3\", \"Topic3\", \"Topic3\", \"Topic3\", \"Topic3\", \"Topic3\", \"Topic3\", \"Topic3\", \"Topic3\", \"Topic3\", \"Topic3\", \"Topic3\", \"Topic3\", \"Topic3\", \"Topic3\", \"Topic3\", \"Topic3\", \"Topic3\", \"Topic3\", \"Topic3\", \"Topic4\", \"Topic4\", \"Topic4\", \"Topic4\", \"Topic4\", \"Topic4\", \"Topic4\", \"Topic4\", \"Topic4\", \"Topic4\", \"Topic4\", \"Topic4\", \"Topic4\", \"Topic4\", \"Topic4\", \"Topic4\", \"Topic4\", \"Topic4\", \"Topic4\", \"Topic4\", \"Topic4\", \"Topic4\", \"Topic4\", \"Topic4\", \"Topic4\", \"Topic4\", \"Topic4\", \"Topic4\", \"Topic4\", \"Topic4\", \"Topic4\", \"Topic4\", \"Topic4\", \"Topic4\", \"Topic4\", \"Topic4\", \"Topic4\", \"Topic4\", \"Topic4\", \"Topic4\", \"Topic4\", \"Topic4\", \"Topic4\", \"Topic4\", \"Topic4\", \"Topic4\", \"Topic4\", \"Topic4\", \"Topic4\", \"Topic4\", \"Topic4\", \"Topic4\", \"Topic4\", \"Topic4\", \"Topic4\", \"Topic4\", \"Topic4\", \"Topic4\", \"Topic4\", \"Topic4\", \"Topic4\", \"Topic4\", \"Topic4\", \"Topic4\", \"Topic4\", \"Topic4\", \"Topic4\", \"Topic4\", \"Topic4\", \"Topic4\", \"Topic4\", \"Topic4\", \"Topic4\", \"Topic4\", \"Topic4\", \"Topic4\", \"Topic4\", \"Topic4\", \"Topic4\", \"Topic4\", \"Topic4\", \"Topic4\", \"Topic4\", \"Topic4\", \"Topic4\", \"Topic4\", \"Topic4\", \"Topic4\", \"Topic4\", \"Topic4\", \"Topic4\", \"Topic4\", \"Topic4\", \"Topic4\", \"Topic4\", \"Topic5\", \"Topic5\", \"Topic5\", \"Topic5\", \"Topic5\", \"Topic5\", \"Topic5\", \"Topic5\", \"Topic5\", \"Topic5\", \"Topic5\", \"Topic5\", \"Topic5\", \"Topic5\", \"Topic5\", \"Topic5\", \"Topic5\", \"Topic5\", \"Topic5\", \"Topic5\", \"Topic5\", \"Topic5\", \"Topic5\", \"Topic5\", \"Topic5\", \"Topic5\", \"Topic5\", \"Topic5\", \"Topic5\", \"Topic5\", \"Topic5\", \"Topic5\", \"Topic5\", \"Topic5\", \"Topic5\", \"Topic5\", \"Topic5\", \"Topic5\", \"Topic5\", \"Topic5\", \"Topic5\", \"Topic5\", \"Topic5\", \"Topic5\", \"Topic5\", \"Topic5\", \"Topic5\", \"Topic5\", \"Topic5\", \"Topic5\", \"Topic5\", \"Topic5\", \"Topic5\", \"Topic5\", \"Topic5\", \"Topic5\", \"Topic5\", \"Topic5\", \"Topic5\", \"Topic5\", \"Topic5\", \"Topic5\", \"Topic5\", \"Topic5\", \"Topic5\", \"Topic5\", \"Topic5\", \"Topic5\", \"Topic5\", \"Topic5\", \"Topic5\", \"Topic5\", \"Topic5\", \"Topic5\", \"Topic5\", \"Topic5\", \"Topic5\", \"Topic5\", \"Topic5\", \"Topic5\", \"Topic5\", \"Topic5\", \"Topic5\", \"Topic5\", \"Topic5\", \"Topic5\", \"Topic5\", \"Topic5\", \"Topic5\", \"Topic5\", \"Topic5\", \"Topic5\", \"Topic5\", \"Topic5\", \"Topic5\", \"Topic5\", \"Topic5\", \"Topic5\", \"Topic5\", \"Topic6\", \"Topic6\", \"Topic6\", \"Topic6\", \"Topic6\", \"Topic6\", \"Topic6\", \"Topic6\", \"Topic6\", \"Topic6\", \"Topic6\", \"Topic6\", \"Topic6\", \"Topic6\", \"Topic6\", \"Topic6\", \"Topic6\", \"Topic6\", \"Topic6\", \"Topic6\", \"Topic6\", \"Topic6\", \"Topic6\", \"Topic6\", \"Topic6\", \"Topic6\", \"Topic6\", \"Topic6\", \"Topic6\", \"Topic6\", \"Topic6\", \"Topic6\", \"Topic6\", \"Topic6\", \"Topic6\", \"Topic6\", \"Topic6\", \"Topic6\", \"Topic6\", \"Topic6\", \"Topic6\", \"Topic6\", \"Topic6\", \"Topic6\", \"Topic6\", \"Topic6\", \"Topic6\", \"Topic6\", \"Topic6\", \"Topic6\", \"Topic6\", \"Topic6\", \"Topic6\", \"Topic6\", \"Topic6\", \"Topic6\", \"Topic6\", \"Topic6\", \"Topic6\", \"Topic6\", \"Topic6\", \"Topic6\", \"Topic6\", \"Topic6\", \"Topic6\", \"Topic6\", \"Topic6\", \"Topic6\", \"Topic6\", \"Topic6\", \"Topic6\", \"Topic6\", \"Topic6\", \"Topic6\", \"Topic6\", \"Topic6\", \"Topic6\", \"Topic6\", \"Topic6\", \"Topic6\", \"Topic6\", \"Topic6\", \"Topic6\", \"Topic6\", \"Topic6\", \"Topic6\", \"Topic6\", \"Topic6\", \"Topic6\", \"Topic6\", \"Topic6\", \"Topic6\", \"Topic6\", \"Topic6\", \"Topic6\", \"Topic6\", \"Topic6\", \"Topic6\", \"Topic6\", \"Topic6\", \"Topic6\", \"Topic6\", \"Topic7\", \"Topic7\", \"Topic7\", \"Topic7\", \"Topic7\", \"Topic7\", \"Topic7\", \"Topic7\", \"Topic7\", \"Topic7\", \"Topic7\", \"Topic7\", \"Topic7\", \"Topic7\", \"Topic7\", \"Topic7\", \"Topic7\", \"Topic7\", \"Topic7\", \"Topic7\", \"Topic7\", \"Topic7\", \"Topic7\", \"Topic7\", \"Topic7\", \"Topic7\", \"Topic7\", \"Topic7\", \"Topic7\", \"Topic7\", \"Topic7\", \"Topic7\", \"Topic7\", \"Topic7\", \"Topic7\", \"Topic7\", \"Topic7\", \"Topic7\", \"Topic7\", \"Topic7\", \"Topic7\", \"Topic7\", \"Topic7\", \"Topic7\", \"Topic7\", \"Topic7\", \"Topic7\", \"Topic7\", \"Topic7\", \"Topic7\", \"Topic7\", \"Topic7\", \"Topic7\", \"Topic7\", \"Topic7\", \"Topic7\", \"Topic7\", \"Topic7\", \"Topic7\", \"Topic7\", \"Topic7\", \"Topic7\", \"Topic7\", \"Topic7\", \"Topic7\", \"Topic7\", \"Topic7\", \"Topic7\", \"Topic7\", \"Topic7\", \"Topic7\", \"Topic7\", \"Topic7\", \"Topic7\", \"Topic7\", \"Topic7\", \"Topic7\", \"Topic7\", \"Topic7\", \"Topic7\", \"Topic7\", \"Topic7\", \"Topic7\", \"Topic7\", \"Topic7\", \"Topic7\", \"Topic7\", \"Topic7\", \"Topic7\", \"Topic7\", \"Topic7\", \"Topic7\", \"Topic8\", \"Topic8\", \"Topic8\", \"Topic8\", \"Topic8\", \"Topic8\", \"Topic8\", \"Topic8\", \"Topic8\", \"Topic8\", \"Topic8\", \"Topic8\", \"Topic8\", \"Topic8\", \"Topic8\", \"Topic8\", \"Topic8\", \"Topic8\", \"Topic8\", \"Topic8\", \"Topic8\", \"Topic8\", \"Topic8\", \"Topic8\", \"Topic8\", \"Topic8\", \"Topic8\", \"Topic8\", \"Topic8\", \"Topic8\", \"Topic8\", \"Topic8\", \"Topic8\", \"Topic8\", \"Topic8\", \"Topic8\", \"Topic8\", \"Topic8\", \"Topic8\", \"Topic8\", \"Topic8\", \"Topic8\", \"Topic8\", \"Topic8\", \"Topic8\", \"Topic8\", \"Topic8\", \"Topic8\", \"Topic8\", \"Topic8\", \"Topic8\", \"Topic8\", \"Topic8\", \"Topic8\", \"Topic8\", \"Topic8\", \"Topic8\", \"Topic8\", \"Topic8\", \"Topic8\", \"Topic8\", \"Topic8\", \"Topic8\", \"Topic8\", \"Topic8\", \"Topic8\", \"Topic8\", \"Topic8\", \"Topic8\", \"Topic8\", \"Topic8\", \"Topic8\", \"Topic8\", \"Topic8\", \"Topic8\", \"Topic8\", \"Topic8\", \"Topic8\", \"Topic8\", \"Topic8\", \"Topic8\", \"Topic8\", \"Topic8\", \"Topic8\", \"Topic8\", \"Topic8\", \"Topic8\", \"Topic8\", \"Topic8\", \"Topic9\", \"Topic9\", \"Topic9\", \"Topic9\", \"Topic9\", \"Topic9\", \"Topic9\", \"Topic9\", \"Topic9\", \"Topic9\", \"Topic9\", \"Topic9\", \"Topic9\", \"Topic9\", \"Topic9\", \"Topic9\", \"Topic9\", \"Topic9\", \"Topic9\", \"Topic9\", \"Topic9\", \"Topic9\", \"Topic9\", \"Topic9\", \"Topic9\", \"Topic9\", \"Topic9\", \"Topic9\", \"Topic9\", \"Topic9\", \"Topic9\", \"Topic9\", \"Topic9\", \"Topic9\", \"Topic9\", \"Topic9\", \"Topic9\", \"Topic9\", \"Topic9\", \"Topic9\", \"Topic9\", \"Topic9\", \"Topic9\", \"Topic9\", \"Topic9\", \"Topic9\", \"Topic9\", \"Topic9\", \"Topic9\", \"Topic9\", \"Topic9\", \"Topic9\", \"Topic9\", \"Topic9\", \"Topic9\", \"Topic9\", \"Topic9\", \"Topic9\", \"Topic9\", \"Topic9\", \"Topic9\", \"Topic9\", \"Topic9\", \"Topic9\", \"Topic9\", \"Topic9\", \"Topic9\", \"Topic9\", \"Topic9\", \"Topic9\", \"Topic9\", \"Topic9\", \"Topic9\", \"Topic9\", \"Topic9\", \"Topic9\", \"Topic9\", \"Topic9\", \"Topic9\", \"Topic9\", \"Topic9\", \"Topic9\", \"Topic9\", \"Topic9\", \"Topic9\", \"Topic9\", \"Topic9\", \"Topic9\", \"Topic9\", \"Topic9\", \"Topic9\", \"Topic9\", \"Topic9\", \"Topic9\", \"Topic9\", \"Topic9\", \"Topic9\", \"Topic9\", \"Topic9\", \"Topic9\", \"Topic10\", \"Topic10\", \"Topic10\", \"Topic10\", \"Topic10\", \"Topic10\", \"Topic10\", \"Topic10\", \"Topic10\", \"Topic10\", \"Topic10\", \"Topic10\", \"Topic10\", \"Topic10\", \"Topic10\", \"Topic10\", \"Topic10\", \"Topic10\", \"Topic10\", \"Topic10\", \"Topic10\", \"Topic10\", \"Topic10\", \"Topic10\", \"Topic10\", \"Topic10\", \"Topic10\", \"Topic10\", \"Topic10\", \"Topic10\", \"Topic10\", \"Topic10\", \"Topic10\", \"Topic10\", \"Topic10\", \"Topic10\", \"Topic10\", \"Topic10\", \"Topic10\", \"Topic10\", \"Topic10\"], \"Freq\": [1058356.0, 672152.0, 744358.0, 286701.0, 251727.0, 241240.0, 252156.0, 195788.0, 305839.0, 201665.0, 312308.0, 201624.0, 252685.0, 148677.0, 184403.0, 156503.0, 116007.0, 180104.0, 190264.0, 128652.0, 140144.0, 276513.0, 505067.0, 257361.0, 151320.0, 156114.0, 115107.0, 112834.0, 335092.0, 90112.0, 4391.35498046875, 4034.244873046875, 2929.33056640625, 2723.1064453125, 2394.585205078125, 2373.702880859375, 2344.109619140625, 2085.713134765625, 1977.123779296875, 1967.6700439453125, 1896.9251708984375, 1862.7392578125, 1753.3631591796875, 1642.5816650390625, 1567.127685546875, 1483.1234130859375, 1326.484619140625, 1119.593994140625, 1087.4979248046875, 1081.77490234375, 1077.661865234375, 3994.918212890625, 1055.7945556640625, 1029.45849609375, 1004.1248168945312, 983.9443969726562, 939.9248657226562, 936.7171630859375, 890.9741821289062, 867.4158935546875, 36162.3984375, 9874.0751953125, 5209.89501953125, 5243.8623046875, 7730.00244140625, 5398.7265625, 3577.0302734375, 40548.04296875, 2915.458740234375, 7911.29931640625, 2958.888427734375, 1863.9788818359375, 2072.766845703125, 2636.731689453125, 42312.09375, 26534.55078125, 13457.71875, 4173.9365234375, 4122.0390625, 3244.897705078125, 17476.0078125, 6067.912109375, 14470.5302734375, 10264.716796875, 9185.16015625, 5071.232421875, 9435.5419921875, 5849.42041015625, 760018.3125, 11948.2568359375, 9967.78515625, 13317.068359375, 20337.47265625, 27883.2578125, 69276.4453125, 19248.783203125, 13379.0732421875, 39238.63671875, 8912.4169921875, 81864.53125, 13147.671875, 17053.123046875, 30941.640625, 24325.6875, 64266.84765625, 40587.55078125, 149783.203125, 54305.76171875, 20799.587890625, 52689.296875, 53577.984375, 35314.5078125, 107979.671875, 26502.85546875, 48816.5390625, 33423.70703125, 35940.18359375, 77770.046875, 148729.9375, 51405.72265625, 84192.5078125, 30821.75390625, 85942.9921875, 75066.7421875, 59909.94140625, 87387.03125, 45823.015625, 81427.2890625, 58426.4453125, 51201.37890625, 54730.65234375, 65717.9921875, 56949.390625, 48209.0625, 48091.453125, 51588.046875, 45002.59765625, 44335.90234375, 44909.7578125, 17813.943359375, 13052.1796875, 11533.837890625, 8314.12890625, 6621.16845703125, 5855.4248046875, 5226.16357421875, 4458.75537109375, 4312.8896484375, 3980.068115234375, 3038.7255859375, 3036.287353515625, 2582.607666015625, 2207.340576171875, 2067.837890625, 1999.5609130859375, 1998.3182373046875, 11452.5888671875, 1923.344970703125, 1839.9342041015625, 1692.46337890625, 1582.6263427734375, 1562.766845703125, 1533.1201171875, 1518.7509765625, 1506.6741943359375, 1494.6722412109375, 1494.1051025390625, 1451.3515625, 1413.4970703125, 42494.78515625, 16354.146484375, 3032.033203125, 4057.210205078125, 4205.21875, 2800.75830078125, 3440.26806640625, 2612.239501953125, 14613.697265625, 10782.904296875, 8233.4814453125, 10108.966796875, 49488.30859375, 19511.232421875, 101154.65625, 13458.890625, 210896.765625, 15492.115234375, 11334.140625, 15894.845703125, 16674.775390625, 4461.02099609375, 39091.82421875, 9335.3984375, 28984.900390625, 28192.169921875, 42916.1640625, 20642.72265625, 26404.013671875, 38891.21875, 14157.275390625, 31669.15625, 29034.435546875, 24562.8203125, 60167.28125, 81291.7578125, 45529.5625, 34296.109375, 63580.31640625, 21761.990234375, 19560.09375, 38968.0703125, 40987.90234375, 66607.8046875, 47598.2578125, 36466.3125, 28139.150390625, 73053.953125, 83014.171875, 33046.95703125, 46840.92578125, 29561.71484375, 77311.140625, 31258.509765625, 72617.0234375, 36557.5625, 41186.4296875, 47810.2109375, 38573.92578125, 38399.8984375, 45553.578125, 46671.68359375, 41774.390625, 36130.75, 36172.66796875, 12874.375, 7565.8681640625, 5021.37890625, 4752.45556640625, 3110.284423828125, 2833.602783203125, 2595.30712890625, 2432.883056640625, 2133.98779296875, 2072.331298828125, 2015.4959716796875, 1780.4547119140625, 1719.03369140625, 1630.7503662109375, 1579.2872314453125, 1572.610107421875, 1245.8155517578125, 1199.718017578125, 1003.251953125, 996.69091796875, 982.89111328125, 977.0557861328125, 960.4551391601562, 952.484375, 908.0611572265625, 900.5150146484375, 869.9031982421875, 850.8280029296875, 850.343505859375, 843.34912109375, 9810.1337890625, 14386.6513671875, 8640.197265625, 16210.017578125, 4583.18896484375, 6776.9248046875, 3773.640625, 5260.37451171875, 6173.142578125, 9844.953125, 3679.19091796875, 74096.203125, 11327.919921875, 6190.43896484375, 3220.0537109375, 28571.53515625, 7274.83544921875, 6387.55615234375, 56749.25, 98804.7734375, 36655.2578125, 128103.4921875, 60858.82421875, 8532.8759765625, 7177.14208984375, 7330.912109375, 32052.9140625, 23330.84765625, 76784.9375, 38073.1484375, 436722.5, 76743.6875, 111386.25, 24893.19140625, 39494.99609375, 8255.5185546875, 41724.88671875, 36516.06640625, 80100.6171875, 47472.75390625, 51462.21484375, 48679.84375, 62842.609375, 119038.921875, 25930.6796875, 56819.1015625, 76716.421875, 31691.57421875, 62349.7734375, 46089.078125, 52884.60546875, 35383.62890625, 45052.734375, 49773.296875, 47797.34765625, 42309.51953125, 48735.140625, 41636.71875, 41501.0078125, 38422.515625, 6095.85986328125, 4165.7109375, 2475.718017578125, 2008.4605712890625, 1972.421630859375, 1854.50634765625, 1803.0869140625, 1706.7635498046875, 1681.408447265625, 1661.7813720703125, 1622.5660400390625, 1608.7763671875, 1594.635986328125, 8887.12109375, 1379.125244140625, 938.9981689453125, 915.61767578125, 895.8032836914062, 865.5177612304688, 818.8550415039062, 815.4097290039062, 796.7113647460938, 790.7626953125, 774.6432495117188, 768.0031127929688, 743.4967651367188, 724.6249389648438, 700.749755859375, 681.97900390625, 675.6651611328125, 11034.865234375, 8395.1201171875, 7919.16162109375, 4547.26220703125, 3666.3349609375, 2509.05322265625, 69812.2734375, 12148.5712890625, 5765.228515625, 1866.0538330078125, 34766.921875, 1574.34033203125, 2279.468994140625, 1353.749267578125, 38704.21875, 7437.076171875, 13245.1669921875, 17798.833984375, 75329.3984375, 17894.984375, 31237.70703125, 11376.8505859375, 10210.576171875, 5343.4697265625, 77885.546875, 10864.025390625, 6359.66455078125, 55693.87890625, 44275.14453125, 9760.1513671875, 13486.865234375, 24878.7109375, 59617.4765625, 38250.33203125, 31514.189453125, 164227.578125, 120969.1640625, 122811.453125, 23067.458984375, 90946.453125, 164159.78125, 57410.9375, 26723.306640625, 27602.380859375, 63687.8515625, 17404.27734375, 70662.3984375, 89630.7421875, 26662.388671875, 51493.7109375, 56296.18359375, 124351.984375, 93386.0, 67609.046875, 75425.2109375, 121685.8828125, 61277.08984375, 71132.71875, 77769.8359375, 56466.30859375, 71891.984375, 61101.1328125, 50863.80078125, 47764.29296875, 49041.484375, 999.8350830078125, 719.7135009765625, 717.2432250976562, 660.9017944335938, 542.1905517578125, 535.6477661132812, 533.2211303710938, 516.8453369140625, 501.7814636230469, 448.6494445800781, 417.99188232421875, 405.58807373046875, 376.5654602050781, 290.9865417480469, 287.1507568359375, 282.104248046875, 281.9585266113281, 2890.4599609375, 263.7108459472656, 244.8008575439453, 229.75076293945312, 225.80990600585938, 220.03179931640625, 213.3829803466797, 210.7464141845703, 209.61962890625, 203.91542053222656, 188.24008178710938, 186.22344970703125, 185.439208984375, 8455.6708984375, 7446.04931640625, 6489.47021484375, 2885.630126953125, 12488.1201171875, 7452.9658203125, 482.4685974121094, 1064.068115234375, 5779.1572265625, 15101.056640625, 21094.259765625, 7959.06005859375, 1119.9779052734375, 952.26611328125, 14410.9716796875, 3324.76220703125, 8554.6171875, 168475.375, 37734.26953125, 17937.947265625, 48753.66015625, 3211.966552734375, 118402.8203125, 2528.7080078125, 1663.298828125, 1566.3916015625, 106658.78125, 32006.060546875, 6398.2177734375, 2575.115478515625, 72280.4296875, 3345.266845703125, 31598.869140625, 6414.7734375, 22569.546875, 411576.53125, 44085.3828125, 14463.5546875, 11689.5625, 77724.046875, 12906.8203125, 115646.703125, 29005.30859375, 166104.140625, 279325.90625, 58286.15625, 114464.265625, 28175.015625, 39037.54296875, 49255.1875, 48889.79296875, 42525.81640625, 54135.734375, 101953.25, 64112.25, 83681.1875, 43787.37890625, 39472.6640625, 38466.92578125, 61948.11328125, 54228.83203125, 56980.41796875, 62167.53515625, 55353.94140625, 41951.38671875, 50503.79296875, 45247.7734375, 48079.76171875, 42090.765625, 2168.31103515625, 1613.784423828125, 1162.9630126953125, 1110.2928466796875, 960.0784912109375, 815.9906005859375, 780.6729125976562, 759.3795166015625, 728.5142211914062, 646.6774291992188, 635.792236328125, 602.2789916992188, 555.8445434570312, 522.3287963867188, 500.48150634765625, 482.7501525878906, 457.8722229003906, 456.72216796875, 409.882568359375, 396.6188659667969, 389.4506530761719, 370.5838623046875, 363.59173583984375, 346.14495849609375, 319.6003112792969, 315.87261962890625, 308.4156494140625, 307.7612609863281, 306.14849853515625, 305.5558166503906, 52951.640625, 26960.07421875, 1781.4520263671875, 2041.297119140625, 13699.408203125, 16732.578125, 4300.94482421875, 4015.988037109375, 30221.1875, 7858.74560546875, 7474.3369140625, 25821.068359375, 1121.5162353515625, 29727.82421875, 26533.7578125, 5693.873046875, 19845.423828125, 2224.888427734375, 2581.067626953125, 204265.71875, 40234.2890625, 11332.91796875, 3169.349609375, 5039.3271484375, 6033.5146484375, 3630.708740234375, 20523.755859375, 9115.1689453125, 9606.9912109375, 20483.61328125, 139670.765625, 33825.30078125, 12405.775390625, 15946.1728515625, 21754.294921875, 37611.03125, 11294.03125, 33285.55078125, 14424.6796875, 31383.064453125, 13673.5078125, 44383.24609375, 74882.2578125, 47917.015625, 108898.0234375, 29883.953125, 26073.419921875, 53695.51171875, 69021.421875, 85562.359375, 145921.65625, 44190.8359375, 122632.640625, 57805.6796875, 67049.953125, 64994.41796875, 42598.90625, 70349.171875, 50565.234375, 48101.3671875, 81137.40625, 50853.15234375, 51269.8203125, 49820.546875, 43140.3515625, 56311.46484375, 51752.01953125, 49223.59375, 47231.53515625, 46771.2734375, 50214.59765625, 46932.82421875, 29006.91015625, 8942.7568359375, 5195.91748046875, 4022.30224609375, 3004.80615234375, 2779.456787109375, 2386.283203125, 2208.00390625, 1898.9044189453125, 1398.9110107421875, 1248.954833984375, 1193.2490234375, 1170.179931640625, 1149.977294921875, 966.5921020507812, 954.940673828125, 903.9324951171875, 875.4522705078125, 841.8628540039062, 819.1685180664062, 816.784423828125, 815.0896606445312, 800.5517578125, 779.126953125, 762.1822509765625, 757.5642700195312, 734.4195556640625, 679.3733520507812, 653.7369995117188, 615.0263671875, 6608.4677734375, 4693.24072265625, 20973.45703125, 865.0225219726562, 7173.81689453125, 27344.818359375, 3444.517822265625, 3056.756103515625, 2306.55615234375, 1959.3218994140625, 11196.8427734375, 38407.9765625, 16986.568359375, 6174.27978515625, 4692.79345703125, 8187.29541015625, 11090.3876953125, 12570.671875, 30174.978515625, 10776.390625, 22081.796875, 58107.03125, 32219.662109375, 9113.1572265625, 14152.37890625, 54779.19921875, 9916.2099609375, 25095.689453125, 76431.0859375, 68800.84375, 32762.158203125, 11739.5009765625, 56443.5, 50924.75390625, 19442.345703125, 134924.796875, 39665.22265625, 38389.16796875, 78486.1796875, 48255.38671875, 78273.296875, 16904.994140625, 35470.8125, 63549.37109375, 28282.111328125, 36462.7109375, 49709.0234375, 42429.77734375, 35341.7109375, 61116.515625, 76534.8125, 41848.67578125, 48306.93359375, 47224.984375, 37411.30859375, 46905.44140625, 43903.01171875, 44838.40234375, 41412.9296875, 43552.4921875, 44084.25390625, 36539.6796875, 19292.453125, 6570.55224609375, 4499.623046875, 3959.238037109375, 2799.43017578125, 1580.4798583984375, 1116.3175048828125, 904.3170166015625, 881.1212158203125, 880.9973754882812, 823.083984375, 710.0946655273438, 708.16796875, 650.7373046875, 632.2633056640625, 621.95166015625, 592.7667236328125, 529.0700073242188, 466.5801696777344, 431.4853515625, 426.13018798828125, 416.3464050292969, 401.869384765625, 399.2902526855469, 390.4483947753906, 387.973876953125, 382.6564025878906, 378.1070556640625, 367.1539611816406, 363.0964050292969, 2081.3466796875, 2516.911865234375, 16705.345703125, 20595.48046875, 4189.2392578125, 627.1893310546875, 3429.806640625, 2946.8515625, 26926.291015625, 5533.9609375, 733.2040405273438, 228277.3125, 95351.25, 1557.7362060546875, 14804.45703125, 48935.66015625, 16367.70703125, 29010.35546875, 22247.73828125, 14908.46484375, 2269.322998046875, 9630.61328125, 24961.236328125, 9540.23046875, 3831.235107421875, 4888.9208984375, 17305.396484375, 18830.83203125, 30432.236328125, 45921.49609375, 148608.015625, 69186.5625, 92702.21875, 48533.703125, 106462.7265625, 14582.4892578125, 10870.5771484375, 52410.48046875, 14109.6806640625, 67265.0, 52523.703125, 58552.00390625, 21398.41015625, 69612.0625, 64476.1953125, 65107.09765625, 51430.890625, 50796.3203125, 28804.52734375, 57107.046875, 37161.3671875, 45848.52734375, 35284.69921875, 34135.87890625, 35361.3671875, 26865.3125, 34063.38671875, 28158.232421875, 28153.451171875, 33394.4765625, 6069.04736328125, 3664.0947265625, 3311.45947265625, 3063.798095703125, 2518.67041015625, 2160.230712890625, 1998.8033447265625, 1944.867919921875, 1872.8800048828125, 1393.3480224609375, 1362.083251953125, 1294.974853515625, 1257.391357421875, 1224.411376953125, 1013.5599975585938, 931.3043212890625, 878.2728881835938, 874.8745727539062, 866.395263671875, 866.246826171875, 848.7657470703125, 846.37109375, 781.3306274414062, 775.0834350585938, 717.0914916992188, 707.6849975585938, 701.92236328125, 651.1927490234375, 625.1470947265625, 15476.95703125, 1928.2178955078125, 1242.6026611328125, 1215.4659423828125, 1350.3170166015625, 3114.54736328125, 18126.744140625, 3034.5625, 1046.953125, 5027.44287109375, 7093.435546875, 2939.54931640625, 8824.0634765625, 4419.1474609375, 5084.53173828125, 1618.907470703125, 7569.9423828125, 19349.62890625, 7836.6357421875, 2410.037109375, 8834.263671875, 3523.624267578125, 2999.63232421875, 3833.809326171875, 4308.5751953125, 5867.16064453125, 6200.90234375, 116683.375, 5652.955078125, 12931.458984375, 10289.060546875, 64699.00390625, 15020.8984375, 7757.900390625, 18996.71484375, 18233.86328125, 11600.25, 33133.18359375, 12110.9892578125, 20513.70703125, 34211.26953125, 30450.890625, 20787.607421875, 44891.75, 22979.1484375, 27547.931640625, 34140.67578125, 22593.28125, 21042.912109375, 59618.90234375, 25801.818359375, 29409.099609375, 24111.314453125, 19867.578125, 29456.349609375, 43368.515625, 21306.685546875, 26637.91796875, 37278.82421875, 29818.123046875, 30433.34375, 28056.05078125, 23464.650390625, 27224.666015625, 26374.990234375, 27693.7578125, 21936.126953125, 23496.634765625, 22526.599609375, 21854.330078125, 4248.0087890625, 3631.562744140625, 2825.102294921875, 2615.5791015625, 2267.675048828125, 2165.6953125, 1989.99853515625, 1872.6917724609375, 1625.929443359375, 1503.388427734375, 1385.5274658203125, 1352.57666015625, 1328.0045166015625, 1208.6373291015625, 1206.45361328125, 1164.2049560546875, 1157.8726806640625, 1106.4447021484375, 1089.5838623046875, 1086.3505859375, 1045.553955078125, 973.4138793945312, 956.0761108398438, 941.4341430664062, 884.9464721679688, 853.0109252929688, 852.2095947265625, 827.733642578125, 816.8818359375, 794.3526611328125, 1305.5089111328125, 1414.55908203125, 1153.8153076171875, 2250.135498046875, 5878.6708984375, 2387.414794921875, 1309.1083984375, 1354.9197998046875, 1314.7996826171875, 1316.2586669921875, 1125.8548583984375], \"Term\": [\"patient\", \"protein\", \"infection\", \"sequence\", \"antibody\", \"health\", \"expression\", \"vaccine\", \"sample\", \"respiratory\", \"response\", \"animal\", \"virus\", \"child\", \"strain\", \"bind\", \"genome\", \"immune\", \"induce\", \"specie\", \"symptom\", \"clinical\", \"disease\", \"infect\", \"receptor\", \"structure\", \"domain\", \"public\", \"number\", \"inflammatory\", \"radiologist\", \"preoperative\", \"apheresis\", \"endoscopic\", \"angiography\", \"aneurysm\", \"tracheostomy\", \"haploidentical\", \"allogeneic_hematopoietic\", \"ultrasonography\", \"scintigraphy\", \"systolic\", \"myeloablative\", \"postoperatively\", \"laparoscopic\", \"embolization\", \"diastolic\", \"extracorporeal\", \"pretransplant\", \"matched_unrelated\", \"catheterization\", \"chimerism\", \"laparoscopy\", \"alloantibody\", \"allosct\", \"oncologist\", \"oncologic\", \"fistula\", \"parenteral_nutrition\", \"thalassemia\", \"surgery\", \"postoperative\", \"resection\", \"resuscitation\", \"allogeneic\", \"creatinine\", \"transfuse\", \"transplantation\", \"hemodynamic\", \"ultrasound\", \"stenosis\", \"anticoagulation\", \"cardiac_output\", \"femoral\", \"transplant\", \"transfusion\", \"arterial\", \"radiotherapy\", \"sedation\", \"endoscopy\", \"relapse\", \"fracture\", \"infusion\", \"catheter\", \"artery\", \"engraftment\", \"prognostic\", \"venous\", \"patient\", \"chemotherapy\", \"bleed\", \"trauma\", \"cardiac\", \"surgical\", \"conclusion\", \"imaging\", \"prognosis\", \"complication\", \"recurrence\", \"therapy\", \"abdominal\", \"platelet\", \"median\", \"donor\", \"receive\", \"failure\", \"treatment\", \"outcome\", \"sepsis\", \"month\", \"diagnosis\", \"pressure\", \"clinical\", \"undergo\", \"normal\", \"pulmonary\", \"survival\", \"perform\", \"result\", \"evaluate\", \"method\", \"image\", \"follow\", \"compare\", \"significant\", \"increase\", \"treat\", \"include\", \"present\", \"show\", \"analysis\", \"disease\", \"report\", \"associate\", \"high\", \"study\", \"group\", \"difference\", \"effect\", \"disaster\", \"political\", \"preparedness\", \"tourism\", \"stakeholder\", \"citizen\", \"governance\", \"leadership\", \"tweet\", \"tourist\", \"airline\", \"revenue\", \"twitter\", \"investor\", \"earthquake\", \"informal\", \"discourse\", \"business\", \"equity\", \"asset\", \"accountability\", \"policymaker\", \"politic\", \"negotiation\", \"telehealth\", \"distancing\", \"corporate\", \"duty\", \"administrator\", \"travel_restriction\", \"government\", \"security\", \"china\", \"customer\", \"actor\", \"obligation\", \"partnership\", \"agenda\", \"respondent\", \"agency\", \"investment\", \"infrastructure\", \"service\", \"crisis\", \"public\", \"sector\", \"health\", \"perceive\", \"income\", \"authority\", \"professional\", \"migrant\", \"policy\", \"economy\", \"international\", \"economic\", \"social\", \"education\", \"national\", \"resource\", \"financial\", \"emergency\", \"issue\", \"market\", \"people\", \"country\", \"global\", \"participant\", \"research\", \"threat\", \"communication\", \"practice\", \"community\", \"information\", \"medical\", \"pandemic\", \"access\", \"provide\", \"system\", \"program\", \"support\", \"knowledge\", \"include\", \"concern\", \"disease\", \"impact\", \"hospital\", \"develop\", \"example\", \"development\", \"response\", \"report\", \"increase\", \"population\", \"however\", \"glycan\", \"aptamer\", \"frameshifting\", \"helix\", \"covalent\", \"bilayer\", \"substituent\", \"pseudoknot\", \"functionalize\", \"hydroxyl\", \"crystallization\", \"pharmacophore\", \"crystallography\", \"frameshifte\", \"protomer\", \"diffraction\", \"steric\", \"viroporin\", \"isgylation\", \"intramolecular\", \"virtual_screene\", \"intermolecular\", \"micelle\", \"carboxylate\", \"cyclization\", \"amphipathic\", \"palmitoylation\", \"ribosylation\", \"macrodomain\", \"nanostructure\", \"hydrophobic\", \"catalytic\", \"monomer\", \"conformation\", \"disulfide\", \"docking\", \"dimerization\", \"trimer\", \"moiety\", \"conformational\", \"ubiquitination\", \"residue\", \"fold\", \"ribosome\", \"oligomer\", \"cleavage\", \"ubiquitin\", \"endosome\", \"fusion\", \"domain\", \"protease\", \"bind\", \"compound\", \"helicase\", \"hydrogen\", \"cysteine\", \"substrate\", \"translation\", \"membrane\", \"terminal\", \"protein\", \"peptide\", \"structure\", \"affinity\", \"mutant\", \"terminus\", \"structural\", \"synthesis\", \"interaction\", \"inhibitor\", \"molecule\", \"enzyme\", \"complex\", \"activity\", \"interact\", \"replication\", \"target\", \"formation\", \"contain\", \"surface\", \"receptor\", \"antiviral\", \"region\", \"sequence\", \"virus\", \"function\", \"result\", \"figure\", \"different\", \"suggest\", \"astrocyte\", \"inflammasome\", \"microglial\", \"myelin\", \"axonal\", \"remyelination\", \"catenin\", \"homeostatic\", \"adipocyte\", \"organoid\", \"chemotactic\", \"beclin\", \"microglia\", \"upregulate\", \"smooth_muscle\", \"osteoclast\", \"homing\", \"podocyte\", \"photoreceptor\", \"myocyte\", \"arachidonic\", \"trophoblast\", \"cuprizone\", \"pluripotent\", \"chemotaxis\", \"chemoattractant\", \"myofibroblast\", \"astrocytic\", \"proinflammatory_cytokine\", \"myelination\", \"chemokine\", \"demyelination\", \"upregulation\", \"proinflammatory\", \"autoimmunity\", \"demyelinating\", \"cytokine\", \"apoptotic\", \"oxidative_stress\", \"demyelinate\", \"apoptosis\", \"rante\", \"upregulated\", \"autoreactive\", \"macrophage\", \"neuronal\", \"neuron\", \"monocyte\", \"activation\", \"endothelial\", \"innate\", \"mediator\", \"caspase\", \"downregulate\", \"inflammatory\", \"signaling\", \"homeostasis\", \"activate\", \"inflammation\", \"dendritic\", \"neutrophil\", \"proliferation\", \"pathway\", \"regulate\", \"epithelial\", \"expression\", \"immune\", \"induce\", \"stimulation\", \"receptor\", \"response\", \"mediate\", \"lymphocyte\", \"stimulate\", \"mechanism\", \"differentiation\", \"tissue\", \"level\", \"induction\", \"signal\", \"production\", \"increase\", \"effect\", \"function\", \"factor\", \"infection\", \"suggest\", \"study\", \"disease\", \"activity\", \"protein\", \"result\", \"specific\", \"associate\", \"include\", \"recurrent_wheeze\", \"pneumococcus\", \"sensitisation\", \"rhinorrhea\", \"levofloxacin\", \"carbapenemase\", \"allergic_sensitization\", \"blastomycosis\", \"distemper\", \"codetection\", \"aeroallergen\", \"maculopapular\", \"echinacea\", \"crswnp\", \"pruritic\", \"pneumococcal_conjugate\", \"parainfl\", \"wheezing\", \"nonsuppurative\", \"copathogen\", \"nocardia\", \"mononucleosis\", \"inhaled_corticosteroid\", \"pneumolysin\", \"nonatopic\", \"nonasthmatic\", \"laryngitis\", \"huanan_seafood\", \"nonrespiratory\", \"travelers_returne\", \"wheeze\", \"bronchiolitis\", \"pneumococcal\", \"pharyngitis\", \"pneumoniae\", \"throat\", \"omalizumab\", \"hospitalized\", \"oseltamivir\", \"sputum\", \"exacerbation\", \"nosocomial\", \"varicella\", \"preschool\", \"pneumonia\", \"macrolide\", \"nasopharyngeal\", \"respiratory\", \"asthma\", \"hospitalize\", \"illness\", \"azithromycin\", \"child\", \"influenzae\", \"rhinosinusitis\", \"meningococcal\", \"symptom\", \"infant\", \"coinfection\", \"rhinitis\", \"influenza\", \"otitis\", \"adult\", \"febrile\", \"asymptomatic\", \"infection\", \"antibiotic\", \"hospitalization\", \"seasonal\", \"severe\", \"season\", \"clinical\", \"prevalence\", \"disease\", \"patient\", \"transmission\", \"report\", \"severity\", \"bacterial\", \"hospital\", \"common\", \"outbreak\", \"cause\", \"include\", \"positive\", \"study\", \"test\", \"diagnosis\", \"mortality\", \"virus\", \"associate\", \"infect\", \"treatment\", \"however\", \"infectious\", \"increase\", \"control\", \"result\", \"population\", \"coverslip\", \"lncrna\", \"pcaggs\", \"ebioscience\", \"muench\", \"titere\", \"biolegend\", \"confluency\", \"rabbit_polyclonal\", \"trypsinize\", \"chadox\", \"lsectin\", \"hyclone\", \"mimotope\", \"svegfr\", \"asmase\", \"inoculated_intranasally\", \"dulbeccos_modifie\", \"hybridoma\", \"polyvinylidene_difluoride\", \"reactogenicity\", \"risultati\", \"dulbeccos\", \"fluorescence_microscope\", \"restimulation\", \"mockinfecte\", \"dulbeccos_modified\", \"nanovaccine\", \"postchallenge\", \"restimulate\", \"incubate\", \"supernatant\", \"flask\", \"antiserum\", \"neutralization\", \"immunize\", \"neutralizing\", \"postinfection\", \"neutralize\", \"immunogenicity\", \"resuspend\", \"plate\", \"counterstaine\", \"titer\", \"wash\", \"triplicate\", \"inoculate\", \"immunogen\", \"washed\", \"antibody\", \"epitope\", \"overnight\", \"inoculated\", \"pseudotype\", \"polyclonal\", \"bioscience\", \"dilution\", \"centrifugation\", \"centrifuge\", \"transfecte\", \"vaccine\", \"plasmid\", \"lysate\", \"inoculation\", \"immunization\", \"recombinant\", \"dilute\", \"medium\", \"harvest\", \"stain\", \"plaque\", \"vector\", \"culture\", \"experiment\", \"infect\", \"antigen\", \"purify\", \"express\", \"figure\", \"control\", \"infection\", \"replication\", \"protein\", \"strain\", \"specific\", \"expression\", \"previously\", \"response\", \"determine\", \"concentration\", \"result\", \"describe\", \"observe\", \"contain\", \"treat\", \"follow\", \"compare\", \"perform\", \"indicate\", \"detect\", \"sample\", \"show\", \"perpetuity\", \"version_poste\", \"medrxiv\", \"theorem\", \"international_license\", \"deterministic\", \"dynamical\", \"estimator\", \"embedding\", \"eigenvalue\", \"polynomial\", \"asymptotic\", \"integer\", \"metapopulation\", \"mathematically\", \"regularization\", \"differential_equation\", \"cantilever\", \"autocorrelation\", \"ordinary_differential\", \"quadratic\", \"parameterize\", \"convolution\", \"eigenvector\", \"probabilit\", \"exponent\", \"percolation\", \"infector\", \"reachability\", \"scalar\", \"stochastic\", \"approximation\", \"equation\", \"prior\", \"mathematical\", \"simulation\", \"classifier\", \"computation\", \"semantic\", \"kernel\", \"compute\", \"probability\", \"spatial\", \"forecast\", \"numerical\", \"exponential\", \"reproduction\", \"denote\", \"license\", \"simulate\", \"dataset\", \"network\", \"assume\", \"certify\", \"assumption\", \"parameter\", \"estimation\", \"prediction\", \"model\", \"estimate\", \"dynamic\", \"coefficient\", \"epidemic\", \"distribution\", \"scenario\", \"number\", \"display\", \"average\", \"individual\", \"value\", \"population\", \"random\", \"variable\", \"figure\", \"calculate\", \"contact\", \"measure\", \"transmission\", \"spread\", \"different\", \"result\", \"consider\", \"method\", \"analysis\", \"available\", \"follow\", \"infect\", \"effect\", \"system\", \"increase\", \"disease\", \"period\", \"phylogenetic\", \"amplicon\", \"phylogeny\", \"contig\", \"metagenomic\", \"virome\", \"nonsynonymous\", \"sequencer\", \"monophyletic\", \"beaudette\", \"indel\", \"blastn\", \"unigene\", \"metagenome\", \"refseq\", \"outgroup\", \"gisaid\", \"branch_length\", \"minion\", \"geneious\", \"multiplexing\", \"phylodynamic\", \"neighbor_joine\", \"sublineage\", \"simplot\", \"molecular_beacon\", \"bioedit\", \"neighbor_joining\", \"bootstrap_replicate\", \"substring\", \"multiplexe\", \"quasispecie\", \"recombination\", \"sequencing\", \"synonymous\", \"sanger\", \"clade\", \"ancestral\", \"amplification\", \"annotation\", \"genbank\", \"sequence\", \"genome\", \"genogroup\", \"evolutionary\", \"primer\", \"alignment\", \"genomic\", \"genotype\", \"lineage\", \"astroviruse\", \"hybridization\", \"nucleotide\", \"microarray\", \"annotate\", \"divergence\", \"identity\", \"diversity\", \"variant\", \"genetic\", \"sample\", \"detection\", \"strain\", \"mutation\", \"virus\", \"copy\", \"allele\", \"specie\", \"amplify\", \"detect\", \"isolate\", \"region\", \"database\", \"analysis\", \"identify\", \"method\", \"positive\", \"different\", \"molecular\", \"result\", \"target\", \"include\", \"perform\", \"specific\", \"number\", \"reaction\", \"protein\", \"contain\", \"however\", \"calf\", \"colostrum\", \"oocyst\", \"wastewater\", \"kitten\", \"puppy\", \"pasture\", \"parvum\", \"heifer\", \"manure\", \"tender_procedure\", \"feedlot\", \"bioaerosol\", \"shellfish\", \"cheetah\", \"compost\", \"colostral\", \"milk\", \"lameness\", \"poult\", \"coliform\", \"replacer\", \"slaughterhouse\", \"bushmeat\", \"photocatalytic\", \"farrow\", \"biocide\", \"coccidiosis\", \"fertilizer\", \"groundwater\", \"horse\", \"carcass\", \"graze\", \"mastitis\", \"moisture\", \"spore\", \"cattle\", \"cryptosporidium\", \"perfringen\", \"calve\", \"breed\", \"slaughter\", \"wildlife\", \"veterinarian\", \"habitat\", \"reactor\", \"livestock\", \"parasite\", \"salmonella\", \"rear\", \"veterinary\", \"breeding\", \"ruminant\", \"disinfectant\", \"pollutant\", \"indoor\", \"disinfection\", \"animal\", \"contaminant\", \"contaminate\", \"rabie\", \"specie\", \"contamination\", \"airborne\", \"intestinal\", \"diarrhea\", \"microorganism\", \"bacteria\", \"plant\", \"environmental\", \"particle\", \"temperature\", \"organism\", \"concentration\", \"environment\", \"human\", \"surface\", \"material\", \"lesion\", \"disease\", \"pathogen\", \"produce\", \"exposure\", \"usually\", \"cause\", \"increase\", \"source\", \"condition\", \"include\", \"system\", \"however\", \"sample\", \"affect\", \"effect\", \"present\", \"result\", \"product\", \"study\", \"report\", \"develop\", \"paciente\", \"wurden\", \"worden\", \"wahrend\", \"traitement\", \"dieser\", \"allerding\", \"bereit\", \"mittel\", \"infectie\", \"ebenfall\", \"besonder\", \"peuvent\", \"posible\", \"patienten\", \"infeccion\", \"diese\", \"estudio\", \"risque\", \"infektion\", \"enfant\", \"egalement\", \"respiratoire\", \"souvent\", \"ersten\", \"cellule\", \"dautre\", \"diagnostico\", \"frecuente\", \"behandele\", \"responsable\", \"virale\", \"rahman\", \"therapie\", \"patient\", \"infection\", \"situation\", \"diagnostic\", \"possible\", \"factor\", \"technique\"], \"Total\": [1058356.0, 672152.0, 744358.0, 286701.0, 251727.0, 241240.0, 252156.0, 195788.0, 305839.0, 201665.0, 312308.0, 201624.0, 252685.0, 148677.0, 184403.0, 156503.0, 116007.0, 180104.0, 190264.0, 128652.0, 140144.0, 276513.0, 505067.0, 257361.0, 151320.0, 156114.0, 115107.0, 112834.0, 335092.0, 90112.0, 4392.291015625, 4035.180419921875, 2930.266357421875, 2724.0419921875, 2395.5205078125, 2374.638427734375, 2345.04541015625, 2086.6484375, 1978.0589599609375, 1968.605224609375, 1897.8603515625, 1863.6744384765625, 1754.29833984375, 1643.516845703125, 1568.0628662109375, 1484.05859375, 1327.419921875, 1120.529541015625, 1088.4332275390625, 1082.7100830078125, 1078.5972900390625, 3998.442626953125, 1056.729736328125, 1030.393798828125, 1005.0601806640625, 984.8798217773438, 940.8602905273438, 937.6526489257812, 891.9096069335938, 868.3514404296875, 36864.05859375, 9943.6416015625, 5237.36767578125, 5279.43896484375, 7817.55224609375, 5441.9326171875, 3593.1416015625, 41758.75, 2924.146240234375, 8023.4443359375, 2972.96142578125, 1866.5364990234375, 2078.29443359375, 2653.46630859375, 43862.3984375, 27615.7265625, 13947.9375, 4229.70068359375, 4177.5537109375, 3273.4326171875, 18680.138671875, 6279.66796875, 15495.642578125, 10849.0537109375, 9720.3427734375, 5236.38818359375, 10001.068359375, 6117.65673828125, 1058356.5, 12997.78515625, 10807.4501953125, 14773.9052734375, 23488.01953125, 33328.55078125, 90171.1875, 22649.138671875, 15264.3837890625, 50721.76171875, 9882.9091796875, 126004.765625, 15409.0283203125, 20982.091796875, 42123.64453125, 31864.353515625, 106602.5703125, 62167.7578125, 320682.375, 94031.9453125, 27700.40234375, 94430.8984375, 99503.7421875, 59159.37890625, 276513.03125, 39997.38671875, 97658.7265625, 56622.890625, 64348.875, 212040.46875, 577845.1875, 113762.5234375, 252990.90625, 51669.828125, 309166.75, 249502.609375, 192951.0, 441837.0625, 118997.3359375, 456383.59375, 263334.90625, 207334.453125, 262053.75, 505067.5, 360690.21875, 201426.546875, 204170.984375, 355275.4375, 159342.625, 159148.453125, 304089.71875, 17814.876953125, 13053.1162109375, 11534.7744140625, 8315.0654296875, 6622.1044921875, 5856.36083984375, 5227.099609375, 4459.69140625, 4313.82568359375, 3981.00390625, 3039.66162109375, 3037.22314453125, 2583.54345703125, 2208.276123046875, 2068.773681640625, 2000.4967041015625, 1999.2537841796875, 11457.998046875, 1924.2806396484375, 1840.869873046875, 1693.39892578125, 1583.5618896484375, 1563.702392578125, 1534.0557861328125, 1519.6865234375, 1507.6099853515625, 1495.60791015625, 1495.041015625, 1452.2872314453125, 1414.4327392578125, 42565.58984375, 16410.63671875, 3034.869384765625, 4074.387451171875, 4237.71630859375, 2814.53173828125, 3466.35546875, 2624.81787109375, 15042.60546875, 11032.95703125, 8392.4619140625, 10396.55859375, 52943.9921875, 20455.51953125, 112834.5078125, 14112.818359375, 241240.125, 16382.947265625, 11972.1025390625, 17045.384765625, 18024.8671875, 4548.583984375, 45450.41796875, 9934.455078125, 33286.51171875, 32609.130859375, 51279.16015625, 23662.189453125, 31047.26953125, 47586.48828125, 15744.859375, 39292.4375, 36424.8828125, 30309.83984375, 92322.2421875, 134340.46875, 67117.7734375, 47235.52734375, 105642.015625, 27114.5, 23641.826171875, 61672.78125, 68106.0, 140743.546875, 88230.203125, 59963.2734375, 41765.53515625, 223170.125, 291907.375, 60704.65234375, 128535.21875, 52160.29296875, 456383.59375, 59117.43359375, 505067.5, 88813.484375, 125012.484375, 210849.53125, 124616.7578125, 129333.0390625, 312308.0, 360690.21875, 441837.0625, 211032.546875, 334776.09375, 12875.310546875, 7566.8037109375, 5022.314453125, 4753.39111328125, 3111.2197265625, 2834.5380859375, 2596.241943359375, 2433.81787109375, 2134.923095703125, 2073.2666015625, 2016.4312744140625, 1781.389892578125, 1719.968994140625, 1631.6856689453125, 1580.2222900390625, 1573.5452880859375, 1246.7508544921875, 1200.653076171875, 1004.1871337890625, 997.6260986328125, 983.8262939453125, 977.990966796875, 961.3905029296875, 953.4197387695312, 908.996337890625, 901.4502563476562, 870.83837890625, 851.76318359375, 851.2786865234375, 844.284423828125, 9855.9423828125, 14551.7578125, 8697.9228515625, 16440.095703125, 4596.68994140625, 6831.82421875, 3785.085693359375, 5296.0478515625, 6235.24609375, 10012.478515625, 3704.84228515625, 77198.75, 11632.251953125, 6318.97998046875, 3262.456298828125, 30764.09375, 7588.763671875, 6646.4833984375, 64515.08984375, 115107.7578125, 41506.84375, 156503.625, 71593.4375, 9061.19140625, 7586.90625, 7787.8544921875, 37464.49609375, 26797.982421875, 97578.5078125, 46201.203125, 672152.6875, 102146.0, 156114.78125, 30712.716796875, 52782.109375, 8853.482421875, 57543.671875, 50845.3203125, 128292.90625, 70991.484375, 81090.8984375, 77886.65625, 111577.5859375, 262033.28125, 36537.33984375, 112095.125, 196926.609375, 55853.0625, 187704.875, 110607.1484375, 151320.0625, 84895.234375, 172852.21875, 286701.5625, 252685.828125, 183113.828125, 577845.1875, 221953.765625, 293701.34375, 231460.953125, 6096.7939453125, 4166.64501953125, 2476.652099609375, 2009.3944091796875, 1973.3555908203125, 1855.4400634765625, 1804.020751953125, 1707.6976318359375, 1682.3424072265625, 1662.7152099609375, 1623.499755859375, 1609.7100830078125, 1595.5697021484375, 8892.4638671875, 1380.0592041015625, 939.9320678710938, 916.5515747070312, 896.7371215820312, 866.45166015625, 819.7890014648438, 816.3436889648438, 797.6452026367188, 791.6964721679688, 775.5772705078125, 768.93701171875, 744.4306030273438, 725.5587768554688, 701.68359375, 682.912841796875, 676.5989990234375, 11066.029296875, 8417.4052734375, 7939.0986328125, 4567.10595703125, 3683.302001953125, 2518.4130859375, 72519.6640625, 12403.869140625, 5845.205078125, 1872.3275146484375, 35932.59375, 1577.7457275390625, 2294.361328125, 1359.9228515625, 40874.83984375, 7611.74755859375, 13746.814453125, 18650.5, 82821.5390625, 18922.548828125, 33806.6875, 11967.337890625, 10735.029296875, 5528.6767578125, 90112.78125, 11581.6982421875, 6666.3408203125, 66154.28125, 52793.6796875, 10680.1796875, 15233.8955078125, 29572.771484375, 77383.6484375, 48350.93359375, 39151.7578125, 252156.078125, 180104.515625, 190264.90625, 28689.537109375, 151320.0625, 312308.0, 92297.9921875, 36385.921875, 39040.7109375, 125976.9453125, 21852.91015625, 146943.359375, 205053.96875, 39349.16015625, 102209.859375, 118819.734375, 441837.0625, 304089.71875, 183113.828125, 239413.859375, 744358.3125, 231460.953125, 355275.4375, 505067.5, 262033.28125, 672152.6875, 577845.1875, 259333.515625, 201426.546875, 456383.59375, 1000.771728515625, 720.6505126953125, 718.1806030273438, 661.8385620117188, 543.1275024414062, 536.5860595703125, 534.1578979492188, 517.7822265625, 502.7187805175781, 449.586181640625, 418.9285888671875, 406.5252990722656, 377.50244140625, 291.92327880859375, 288.0877380371094, 283.0409851074219, 282.89569091796875, 2900.177734375, 264.64801025390625, 245.7375030517578, 230.6876220703125, 226.74710083007812, 220.96852111816406, 214.3197784423828, 211.68310546875, 210.55630493164062, 204.85247802734375, 189.1768341064453, 187.1602783203125, 186.3760223388672, 8501.1064453125, 7543.52685546875, 6589.90771484375, 2925.086669921875, 12901.7802734375, 7670.287109375, 485.0050964355469, 1080.46923828125, 5982.9404296875, 15916.08203125, 22655.09765625, 8478.4052734375, 1149.88623046875, 975.5820922851562, 15877.3837890625, 3510.823974609375, 9334.7421875, 201665.109375, 43189.43359375, 20083.537109375, 56910.57421875, 3457.609375, 148677.28125, 2717.679443359375, 1748.9698486328125, 1644.3193359375, 140144.75, 39804.34375, 7273.3486328125, 2780.4296875, 98934.7734375, 3697.25439453125, 41760.80078125, 7514.82470703125, 30382.064453125, 744358.3125, 64818.8046875, 18800.322265625, 15280.0263671875, 145517.0625, 17706.638671875, 276513.03125, 52259.27734375, 505067.5, 1058356.5, 132897.453125, 360690.21875, 53144.6015625, 86544.2734375, 125012.484375, 132275.796875, 106759.453125, 159594.21875, 456383.59375, 217984.9375, 355275.4375, 117361.6640625, 99503.7421875, 95190.3359375, 252685.828125, 201426.546875, 257361.453125, 320682.375, 334776.09375, 143024.1875, 441837.0625, 313306.40625, 577845.1875, 211032.546875, 2169.247314453125, 1614.721435546875, 1163.8990478515625, 1111.2288818359375, 961.0146484375, 816.9268188476562, 781.609130859375, 760.3157348632812, 729.450439453125, 647.6136474609375, 636.7283935546875, 603.2152709960938, 556.78076171875, 523.26513671875, 501.4178161621094, 483.6864318847656, 458.8085021972656, 457.65838623046875, 410.81878662109375, 397.55511474609375, 390.38690185546875, 371.5215759277344, 364.5279846191406, 347.08123779296875, 320.5367736816406, 316.8088073730469, 309.35186767578125, 308.69744873046875, 307.0848083496094, 306.4920959472656, 54884.12890625, 27810.126953125, 1801.1151123046875, 2074.85400390625, 14253.1103515625, 17586.3671875, 4430.88818359375, 4146.21630859375, 32539.275390625, 8238.1201171875, 7836.41455078125, 27800.615234375, 1141.543212890625, 32484.806640625, 29223.380859375, 6057.35009765625, 22022.515625, 2308.62451171875, 2697.129638671875, 251727.953125, 46347.51953125, 12491.5419921875, 3347.066650390625, 5462.6826171875, 6646.3056640625, 3895.915283203125, 24303.267578125, 10299.2392578125, 10895.634765625, 24486.080078125, 195788.796875, 43104.8828125, 14593.3134765625, 19512.1640625, 27538.65625, 50294.80078125, 13516.4541015625, 45346.83984375, 17764.4921875, 43966.44140625, 17095.939453125, 73094.0, 146761.109375, 87117.1484375, 257361.453125, 48312.828125, 41142.9765625, 125552.609375, 221953.765625, 313306.40625, 744358.3125, 112095.125, 672152.6875, 184403.84375, 259333.515625, 252156.078125, 107703.5859375, 312308.0, 163325.703125, 150194.171875, 577845.1875, 187000.625, 202495.6875, 187704.875, 118997.3359375, 309166.75, 249502.609375, 212040.46875, 183280.09375, 193555.4375, 305839.4375, 207334.453125, 29007.845703125, 8943.693359375, 5196.85302734375, 4023.23779296875, 3005.74169921875, 2780.392333984375, 2387.21875, 2208.939453125, 1899.840087890625, 1399.846435546875, 1249.8902587890625, 1194.1846923828125, 1171.1156005859375, 1150.9127197265625, 967.52783203125, 955.876220703125, 904.8679809570312, 876.3878784179688, 842.79833984375, 820.10400390625, 817.7200927734375, 816.025146484375, 801.4874267578125, 780.0624389648438, 763.1177368164062, 758.4998168945312, 735.3551025390625, 680.3090209960938, 654.6724853515625, 615.9619750976562, 6650.8193359375, 4763.8095703125, 21647.57421875, 867.2841186523438, 7426.6279296875, 29268.982421875, 3547.389892578125, 3157.10205078125, 2367.894287109375, 2005.6357421875, 12107.3154296875, 44075.0, 18917.88671875, 6734.255859375, 5100.15771484375, 9177.8056640625, 12823.0908203125, 14670.2080078125, 37742.90234375, 12522.7255859375, 27109.056640625, 77795.1484375, 41415.328125, 10564.2275390625, 17178.640625, 77687.375, 11727.5439453125, 33592.46484375, 120635.546875, 108896.2734375, 46677.66796875, 14416.5546875, 92345.3359375, 86218.0078125, 28622.0859375, 335092.3125, 71367.9765625, 71676.5703125, 187255.4375, 103585.71875, 211032.546875, 24732.64453125, 75687.6015625, 221953.765625, 59638.84375, 99437.7734375, 174956.09375, 132897.453125, 95407.9140625, 293701.34375, 577845.1875, 165888.8125, 252990.90625, 262053.75, 137606.703125, 309166.75, 257361.453125, 304089.71875, 291907.375, 441837.0625, 505067.5, 129606.015625, 19293.38671875, 6571.4873046875, 4500.55810546875, 3960.173095703125, 2800.365234375, 1581.4149169921875, 1117.2525634765625, 905.2521362304688, 882.0562744140625, 881.9327392578125, 824.01904296875, 711.0296630859375, 709.1029663085938, 651.6723022460938, 633.1983032226562, 622.88671875, 593.7020263671875, 530.0050048828125, 467.5152893066406, 432.4203796386719, 427.0653076171875, 417.2814636230469, 402.8044738769531, 400.2253723144531, 391.38336181640625, 388.90899658203125, 383.5914306640625, 379.0420837402344, 368.089111328125, 364.03143310546875, 2107.376220703125, 2557.29833984375, 17313.703125, 21677.66015625, 4365.41650390625, 632.7459106445312, 3609.001708984375, 3100.352783203125, 30446.509765625, 5963.14111328125, 745.5267944335938, 286701.5625, 116007.1875, 1628.8426513671875, 17038.439453125, 60322.55859375, 19079.37109375, 36315.0703125, 27407.115234375, 17911.421875, 2432.605712890625, 11395.5283203125, 32366.68359375, 11786.44140625, 4358.208984375, 5721.07275390625, 23623.826171875, 26390.1015625, 45751.56640625, 74198.296875, 305839.4375, 127646.4453125, 184403.84375, 91294.7109375, 252685.828125, 21619.134765625, 15278.193359375, 128652.4375, 21892.453125, 193555.4375, 137629.109375, 172852.21875, 40075.375, 262053.75, 239640.078125, 252990.90625, 217984.9375, 293701.34375, 85349.0703125, 577845.1875, 196926.609375, 456383.59375, 212040.46875, 259333.515625, 335092.3125, 102561.7421875, 672152.6875, 187704.875, 334776.09375, 33395.41015625, 6069.982421875, 3665.030029296875, 3312.39501953125, 3064.733642578125, 2519.60595703125, 2161.166259765625, 1999.7386474609375, 1945.80322265625, 1873.8153076171875, 1394.2835693359375, 1363.0185546875, 1295.91015625, 1258.3267822265625, 1225.3468017578125, 1014.4953002929688, 932.2396240234375, 879.208251953125, 875.8099365234375, 867.33056640625, 867.1822509765625, 849.7010498046875, 847.3065185546875, 782.2659301757812, 776.0187377929688, 718.02685546875, 708.6204223632812, 702.857666015625, 652.1280517578125, 626.0824584960938, 15800.0693359375, 1933.853515625, 1248.108154296875, 1222.583984375, 1359.697509765625, 3169.905517578125, 19145.94140625, 3093.722900390625, 1051.5501708984375, 5227.6123046875, 7541.3134765625, 3048.279052734375, 9527.1474609375, 4667.14306640625, 5430.98583984375, 1659.9056396484375, 8418.869140625, 22900.248046875, 8815.619140625, 2537.0517578125, 10375.052734375, 3829.046875, 3217.403564453125, 4223.57080078125, 4825.38427734375, 6804.22802734375, 7254.09375, 201624.65625, 6557.93701171875, 17146.130859375, 13843.6923828125, 128652.4375, 22685.86328125, 10086.7685546875, 30765.150390625, 29340.8984375, 16925.357421875, 70058.7890625, 19081.0234375, 38594.5234375, 82794.734375, 74993.2890625, 45667.5625, 150194.171875, 54724.0, 74427.5625, 110607.1484375, 66470.21875, 66026.8515625, 505067.5, 98328.25, 127221.015625, 86817.9375, 63205.3984375, 159594.21875, 441837.0625, 78265.0546875, 141249.78125, 456383.59375, 291907.375, 334776.09375, 305839.4375, 125623.3125, 304089.71875, 263334.90625, 577845.1875, 104860.53125, 355275.4375, 360690.21875, 210849.53125, 4248.9287109375, 3632.482421875, 2826.02197265625, 2616.498779296875, 2268.5947265625, 2166.615234375, 1990.9183349609375, 1873.611572265625, 1626.8492431640625, 1504.3082275390625, 1386.447265625, 1353.4964599609375, 1328.92431640625, 1209.5572509765625, 1207.3734130859375, 1165.124755859375, 1158.79248046875, 1107.3646240234375, 1090.503662109375, 1087.2703857421875, 1046.4737548828125, 974.3336181640625, 956.9959106445312, 942.3538818359375, 885.8662109375, 853.9307861328125, 853.1293334960938, 828.6534423828125, 817.8015747070312, 795.2723999023438, 1308.8389892578125, 1424.7559814453125, 1169.25341796875, 6871.0625, 1058356.5, 744358.3125, 39552.171875, 68510.734375, 122355.1484375, 239413.859375, 72608.984375], \"loglift\": [30.0, 29.0, 28.0, 27.0, 26.0, 25.0, 24.0, 23.0, 22.0, 21.0, 20.0, 19.0, 18.0, 17.0, 16.0, 15.0, 14.0, 13.0, 12.0, 11.0, 10.0, 9.0, 8.0, 7.0, 6.0, 5.0, 4.0, 3.0, 2.0, 1.0, 1.8823000192642212, 1.8823000192642212, 1.882200002670288, 1.882200002670288, 1.882099986076355, 1.882099986076355, 1.882099986076355, 1.882099986076355, 1.8819999694824219, 1.8819999694824219, 1.8819999694824219, 1.8819999694824219, 1.8819999694824219, 1.8819999694824219, 1.8818999528884888, 1.8818999528884888, 1.8818000555038452, 1.881700038909912, 1.881700038909912, 1.881700038909912, 1.881700038909912, 1.881600022315979, 1.881600022315979, 1.881600022315979, 1.881600022315979, 1.881600022315979, 1.881500005722046, 1.881500005722046, 1.881500005722046, 1.8813999891281128, 1.8632999658584595, 1.875499963760376, 1.8773000240325928, 1.8758000135421753, 1.8712999820709229, 1.8746000528335571, 1.878000020980835, 1.8530999422073364, 1.8795000314712524, 1.868399977684021, 1.8777999877929688, 1.8811999559402466, 1.8798999786376953, 1.8761999607086182, 1.846500039100647, 1.8425999879837036, 1.8466999530792236, 1.8693000078201294, 1.8690999746322632, 1.8738000392913818, 1.8158999681472778, 1.8481999635696411, 1.8141000270843506, 1.8272000551223755, 1.8258999586105347, 1.8504999876022339, 1.8243000507354736, 1.8377000093460083, 1.5513999462127686, 1.79830002784729, 1.8015999794006348, 1.7786999940872192, 1.7384999990463257, 1.7041000127792358, 1.618899941444397, 1.7197999954223633, 1.7506999969482422, 1.6258000135421753, 1.7791999578475952, 1.451300024986267, 1.7237999439239502, 1.6751999855041504, 1.5740000009536743, 1.6125999689102173, 1.3765000104904175, 1.4560999870300293, 1.1212999820709229, 1.3335000276565552, 1.5959999561309814, 1.2991000413894653, 1.2634999752044678, 1.3666000366210938, 0.9422000050544739, 1.4709999561309814, 1.1891000270843506, 1.3553999662399292, 1.3000999689102173, 0.8794999718666077, 0.5253000259399414, 1.0881999731063843, 0.7822999954223633, 1.3659000396728516, 0.6022999882698059, 0.6814000010490417, 0.7128999829292297, 0.26190000772476196, 0.9282000064849854, 0.15889999270439148, 0.37689998745918274, 0.48399999737739563, 0.3163999915122986, -0.15680000185966492, 0.03669999912381172, 0.45260000228881836, 0.4366999864578247, -0.0471000000834465, 0.6182000041007996, 0.6044999957084656, -0.03009999915957451, 1.9736000299453735, 1.9736000299453735, 1.9736000299453735, 1.9735000133514404, 1.9735000133514404, 1.9735000133514404, 1.9735000133514404, 1.9733999967575073, 1.9733999967575073, 1.9733999967575073, 1.9732999801635742, 1.9732999801635742, 1.9732999801635742, 1.9731999635696411, 1.9731999635696411, 1.9731999635696411, 1.9731999635696411, 1.9731999635696411, 1.973099946975708, 1.973099946975708, 1.973099946975708, 1.9730000495910645, 1.9730000495910645, 1.9730000495910645, 1.9730000495910645, 1.9730000495910645, 1.9730000495910645, 1.9730000495910645, 1.9730000495910645, 1.9730000495910645, 1.972000002861023, 1.9701999425888062, 1.9726999998092651, 1.9694000482559204, 1.96589994430542, 1.9687000513076782, 1.9660999774932861, 1.9687999486923218, 1.944700002670288, 1.950700044631958, 1.9544999599456787, 1.9456000328063965, 1.9061000347137451, 1.9263999462127686, 1.864400029182434, 1.926200032234192, 1.8392000198364258, 1.9177000522613525, 1.9189000129699707, 1.9036999940872192, 1.895799994468689, 1.954200029373169, 1.8229000568389893, 1.9113999605178833, 1.8352999687194824, 1.8280999660491943, 1.7956000566482544, 1.8371000289916992, 1.8115999698638916, 1.7719000577926636, 1.867300033569336, 1.7578999996185303, 1.746899962425232, 1.7633999586105347, 1.5455000400543213, 1.4713000059127808, 1.5855000019073486, 1.653499960899353, 1.46589994430542, 1.7537000179290771, 1.78410005569458, 1.5145000219345093, 1.4658000469207764, 1.2254999876022339, 1.3565000295639038, 1.4763000011444092, 1.5786999464035034, 0.8568999767303467, 0.7161999940872192, 1.3654999732971191, 0.9642000198364258, 1.4057999849319458, 0.1981000006198883, 1.336400032043457, 0.0340999998152256, 1.0859999656677246, 0.8633000254631042, 0.48969998955726624, 0.8009999990463257, 0.7592999935150146, 0.048500001430511475, -0.07119999825954437, -0.38499999046325684, 0.20880000293254852, -0.2515000104904175, 2.1375999450683594, 2.1375999450683594, 2.137500047683716, 2.137500047683716, 2.137399911880493, 2.137399911880493, 2.1373000144958496, 2.1373000144958496, 2.1373000144958496, 2.137200117111206, 2.137200117111206, 2.137200117111206, 2.137200117111206, 2.1370999813079834, 2.1370999813079834, 2.1370999813079834, 2.136899948120117, 2.136899948120117, 2.1368000507354736, 2.1368000507354736, 2.136699914932251, 2.136699914932251, 2.136699914932251, 2.136699914932251, 2.136699914932251, 2.136699914932251, 2.1366000175476074, 2.1366000175476074, 2.1366000175476074, 2.1366000175476074, 2.132999897003174, 2.126300096511841, 2.13100004196167, 2.1236000061035156, 2.1347999572753906, 2.1296000480651855, 2.134700059890747, 2.1308999061584473, 2.127700090408325, 2.120800018310547, 2.13070011138916, 2.0966999530792236, 2.1112000942230225, 2.1171000003814697, 2.1245999336242676, 2.063800096511841, 2.095400094985962, 2.0980000495910645, 2.009399890899658, 1.9850000143051147, 2.013400077819824, 1.9375, 1.9752000570297241, 2.0776000022888184, 2.082200050354004, 2.077199935913086, 1.9816999435424805, 1.9990999698638916, 1.8980000019073486, 1.944200038909912, 1.7065000534057617, 1.8517999649047852, 1.8000999689102173, 1.9276000261306763, 1.8476999998092651, 2.0678000450134277, 1.8162000179290771, 1.8066999912261963, 1.666700005531311, 1.7352999448776245, 1.6829999685287476, 1.6677000522613525, 1.563599944114685, 1.3487000465393066, 1.794800043106079, 1.4581999778747559, 1.1950000524520874, 1.5709999799728394, 1.035599946975708, 1.2623000144958496, 1.086400032043457, 1.2625000476837158, 0.7930999994277954, 0.38670000433921814, 0.4724999964237213, 0.6725999712944031, -0.3352000117301941, 0.4641999900341034, 0.18080000579357147, 0.3418999910354614, 2.152899980545044, 2.1528000831604004, 2.1526999473571777, 2.152600049972534, 2.152600049972534, 2.1524999141693115, 2.1524999141693115, 2.1524999141693115, 2.1524999141693115, 2.1524999141693115, 2.1524999141693115, 2.1524999141693115, 2.1524999141693115, 2.152400016784668, 2.152400016784668, 2.1519999504089355, 2.1519999504089355, 2.1519999504089355, 2.1519999504089355, 2.151900053024292, 2.151900053024292, 2.151900053024292, 2.151900053024292, 2.1517999172210693, 2.1517999172210693, 2.1517999172210693, 2.1517999172210693, 2.151700019836426, 2.151700019836426, 2.151700019836426, 2.1501998901367188, 2.150399923324585, 2.1505000591278076, 2.148699998855591, 2.148400068283081, 2.1493000984191895, 2.115000009536743, 2.132200002670288, 2.1393001079559326, 2.1496999263763428, 2.1201000213623047, 2.150899887084961, 2.1465001106262207, 2.1484999656677246, 2.0985000133514404, 2.1298000812530518, 2.1159000396728516, 2.106300115585327, 2.058199882507324, 2.0971999168395996, 2.0739998817443848, 2.102400064468384, 2.1029000282287598, 2.11899995803833, 2.007200002670288, 2.089099884033203, 2.1059000492095947, 1.9809000492095947, 1.9771000146865845, 2.062999963760376, 2.0311999320983887, 1.9802000522613525, 1.892199993133545, 1.9186999797821045, 1.9359999895095825, 1.7242000102996826, 1.7549999952316284, 1.7152999639511108, 1.9349000453948975, 1.6439000368118286, 1.5098999738693237, 1.6783000230789185, 1.8444000482559204, 1.8063000440597534, 1.470900058746338, 1.9254000186920166, 1.4208999872207642, 1.3255000114440918, 1.763800024986267, 1.4674999713897705, 1.4061000347137451, 0.885200023651123, 0.9725000262260437, 1.1567000150680542, 0.9980000257492065, 0.34200000762939453, 0.8240000009536743, 0.544700026512146, 0.28209999203681946, 0.6182000041007996, -0.08229999989271164, -0.09369999915361404, 0.5241000056266785, 0.7139000296592712, -0.07760000228881836, 2.173799991607666, 2.1733999252319336, 2.1733999252319336, 2.17330002784729, 2.1730000972747803, 2.1728999614715576, 2.1728999614715576, 2.1728999614715576, 2.172800064086914, 2.172600030899048, 2.172499895095825, 2.1723999977111816, 2.1721999645233154, 2.1714999675750732, 2.1714000701904297, 2.1714000701904297, 2.1714000701904297, 2.171299934387207, 2.171099901199341, 2.1709001064300537, 2.170599937438965, 2.170599937438965, 2.1703999042510986, 2.170300006866455, 2.170300006866455, 2.1702001094818115, 2.170099973678589, 2.1696999073028564, 2.1696999073028564, 2.1696999073028564, 2.169300079345703, 2.1617000102996826, 2.1593000888824463, 2.161099910736084, 2.1421000957489014, 2.1459999084472656, 2.1695001125335693, 2.15939998626709, 2.140000104904175, 2.1221001148223877, 2.103300094604492, 2.1115000247955322, 2.1482999324798584, 2.1505000591278076, 2.0778000354766846, 2.1201999187469482, 2.087399959564209, 1.9948999881744385, 2.0397000312805176, 2.0617001056671143, 2.0199999809265137, 2.1010000705718994, 1.9470000267028809, 2.10260009765625, 2.124500036239624, 2.1261000633239746, 1.9017000198364258, 1.9565999507904053, 2.0464999675750732, 2.0980000495910645, 1.86080002784729, 2.074700117111206, 1.895900011062622, 2.016400098800659, 1.8774000406265259, 1.582200050354004, 1.789199948310852, 1.912500023841858, 1.9068000316619873, 1.5476000308990479, 1.8585000038146973, 1.3029999732971191, 1.5859999656677246, 1.062600016593933, 0.8425999879837036, 1.3504999876022339, 1.026900053024292, 1.5400999784469604, 1.378600001335144, 1.243299961090088, 1.1793999671936035, 1.2541999816894531, 1.0936000347137451, 0.6758999824523926, 0.9509000182151794, 0.7287999987602234, 1.1887999773025513, 1.250100016593933, 1.2685999870300293, 0.7688000202178955, 0.862500011920929, 0.6668999791145325, 0.5340999960899353, 0.375, 0.948199987411499, 0.005799999926239252, 0.23970000445842743, -0.3116999864578247, 0.5625, 2.3245999813079834, 2.324399948120117, 2.324199914932251, 2.324199914932251, 2.3239998817443848, 2.323899984359741, 2.3238000869750977, 2.3238000869750977, 2.323699951171875, 2.3236000537872314, 2.323499917984009, 2.323499917984009, 2.3232998847961426, 2.323199987411499, 2.3231000900268555, 2.3231000900268555, 2.322999954223633, 2.322999954223633, 2.322700023651123, 2.322700023651123, 2.3225998878479004, 2.322499990463257, 2.3224000930786133, 2.3222999572753906, 2.3220999240875244, 2.3220999240875244, 2.322000026702881, 2.322000026702881, 2.322000026702881, 2.322000026702881, 2.2892000675201416, 2.2939999103546143, 2.313999891281128, 2.3087000846862793, 2.285399913787842, 2.2751998901367188, 2.2952001094818115, 2.293100118637085, 2.2511000633239746, 2.277899980545044, 2.2776999473571777, 2.2511000633239746, 2.307300090789795, 2.236299991607666, 2.2284998893737793, 2.2630999088287354, 2.220900058746338, 2.288100004196167, 2.2809998989105225, 2.1161000728607178, 2.1835999488830566, 2.2276999950408936, 2.2704999446868896, 2.24429988861084, 2.228300094604492, 2.254499912261963, 2.1559998989105225, 2.202899932861328, 2.1991000175476074, 2.1465001106262207, 1.9873000383377075, 2.0826001167297363, 2.162600040435791, 2.123199939727783, 2.089200019836426, 2.03439998626709, 2.145400047302246, 2.0157999992370605, 2.11680006980896, 1.9879000186920166, 2.101599931716919, 1.8260999917984009, 1.6520999670028687, 1.7272000312805176, 1.464900016784668, 1.844599962234497, 1.868899941444397, 1.475600004196167, 1.156999945640564, 1.0270999670028687, 0.6955999732017517, 1.3941999673843384, 0.6237000226974487, 1.1649999618530273, 0.9722999930381775, 0.9692999720573425, 1.3975000381469727, 0.8345000147819519, 1.152500033378601, 1.186400055885315, 0.3619000017642975, 1.0227999687194824, 0.9513999819755554, 0.9986000061035156, 1.3104000091552734, 0.621999979019165, 0.7519999742507935, 0.8646000027656555, 0.9690999984741211, 0.904699981212616, 0.5182999968528748, 0.8393999934196472, 2.332900047302246, 2.3327999114990234, 2.33270001411438, 2.33270001411438, 2.3326001167297363, 2.3324999809265137, 2.3324999809265137, 2.3324999809265137, 2.33240008354187, 2.332200050354004, 2.3320999145507812, 2.3320999145507812, 2.3320999145507812, 2.3320999145507812, 2.331899881362915, 2.331899881362915, 2.331899881362915, 2.3317999839782715, 2.3317999839782715, 2.331700086593628, 2.331700086593628, 2.331700086593628, 2.331700086593628, 2.331700086593628, 2.331700086593628, 2.331700086593628, 2.3315999507904053, 2.3315000534057617, 2.3315000534057617, 2.331399917602539, 2.3264999389648438, 2.318000078201294, 2.301300048828125, 2.3303000926971436, 2.29830002784729, 2.264899969100952, 2.303499937057495, 2.300600051879883, 2.3066000938415527, 2.309499979019165, 2.254699945449829, 2.1953001022338867, 2.2251999378204346, 2.2460999488830566, 2.2495999336242676, 2.2186999320983887, 2.187700033187866, 2.1784000396728516, 2.109100103378296, 2.1826999187469482, 2.1277999877929688, 2.041100025177002, 2.0817999839782715, 2.1851000785827637, 2.1391000747680664, 1.9835000038146973, 2.16510009765625, 2.041300058364868, 1.8765000104904175, 1.8737000226974487, 1.9788999557495117, 2.127500057220459, 1.8406000137329102, 1.806399941444397, 1.9462000131607056, 1.423200011253357, 1.7454999685287476, 1.7085000276565552, 1.4632999897003174, 1.569000005722046, 1.3410999774932861, 1.9523999691009521, 1.5750000476837158, 1.082200050354004, 1.5867999792099, 1.3295999765396118, 1.0744999647140503, 1.1912000179290771, 1.3398000001907349, 0.7631000280380249, 0.31130000948905945, 0.9556000232696533, 0.6771000027656555, 0.6193000078201294, 1.030500054359436, 0.4471000134944916, 0.5644000172615051, 0.4185999929904938, 0.3799999952316284, 0.01590000092983246, -0.10570000112056732, 1.0667999982833862, 2.483799934387207, 2.4837000370025635, 2.4837000370025635, 2.483599901199341, 2.4835000038146973, 2.483299970626831, 2.4830000400543213, 2.482800006866455, 2.482800006866455, 2.482800006866455, 2.4827001094818115, 2.482599973678589, 2.4825000762939453, 2.4823999404907227, 2.4823999404907227, 2.4823999404907227, 2.482300043106079, 2.482100009918213, 2.4818999767303467, 2.4816999435424805, 2.4816999435424805, 2.481600046157837, 2.4814999103546143, 2.4814999103546143, 2.4814999103546143, 2.4814999103546143, 2.4814000129699707, 2.4814000129699707, 2.481300115585327, 2.481300115585327, 2.471400022506714, 2.467900037765503, 2.4481000900268555, 2.4326999187469482, 2.442699909210205, 2.4749999046325684, 2.4328999519348145, 2.4330999851226807, 2.3610000610351562, 2.4091999530792236, 2.4672000408172607, 2.25600004196167, 2.2878000736236572, 2.439199924468994, 2.3433001041412354, 2.2746999263763428, 2.3306000232696533, 2.2592999935150146, 2.2753000259399414, 2.3004000186920166, 2.414400100708008, 2.3155999183654785, 2.224100112915039, 2.27239990234375, 2.3550000190734863, 2.32669997215271, 2.172600030899048, 2.146399974822998, 2.0761001110076904, 2.0041000843048096, 1.7620999813079834, 1.871399998664856, 1.7961000204086304, 1.8519999980926514, 1.6195000410079956, 2.090100049972534, 2.1435000896453857, 1.5858999490737915, 2.044600009918213, 1.426900029182434, 1.5205999612808228, 1.4012999534606934, 1.8564000129699707, 1.1583000421524048, 1.1710000038146973, 1.1265000104904175, 1.0397000312805176, 0.7290999889373779, 1.3976999521255493, 0.16949999332427979, 0.8162999749183655, 0.1859000027179718, 0.690500020980835, 0.4560999870300293, 0.23510000109672546, 1.1441999673843384, -0.4984000027179718, 0.5867999792098999, 0.008100000210106373, 2.574700117111206, 2.57450008392334, 2.574399948120117, 2.574399948120117, 2.574399948120117, 2.5743000507354736, 2.5743000507354736, 2.574199914932251, 2.574199914932251, 2.574199914932251, 2.5739998817443848, 2.5739998817443848, 2.5739998817443848, 2.573899984359741, 2.573899984359741, 2.5738000869750977, 2.573699951171875, 2.5736000537872314, 2.5736000537872314, 2.5736000537872314, 2.5736000537872314, 2.5736000537872314, 2.5736000537872314, 2.573499917984009, 2.573499917984009, 2.5734000205993652, 2.5734000205993652, 2.5734000205993652, 2.5732998847961426, 2.573199987411499, 2.553999900817871, 2.5717999935150146, 2.5703001022338867, 2.5687999725341797, 2.5678000450134277, 2.5571000576019287, 2.5199999809265137, 2.5553998947143555, 2.5703001022338867, 2.535599946975708, 2.5134999752044678, 2.5383999347686768, 2.497999906539917, 2.5201001167297363, 2.5088000297546387, 2.5497000217437744, 2.468400001525879, 2.4061999320983887, 2.4570000171661377, 2.5232999324798584, 2.4138998985290527, 2.4916000366210938, 2.5046000480651855, 2.4779000282287598, 2.461400032043457, 2.426500082015991, 2.417799949645996, 2.0276999473571777, 2.4261999130249023, 2.29259991645813, 2.277899980545044, 1.8873000144958496, 2.162400007247925, 2.3122000694274902, 2.092600107192993, 2.0989999771118164, 2.196899890899658, 1.8258999586105347, 2.1201000213623047, 1.9427000284194946, 1.6908999681472778, 1.6734000444412231, 1.7877000570297241, 1.3669999837875366, 1.7070000171661377, 1.5808000564575195, 1.3991999626159668, 1.4955999851226807, 1.4312000274658203, 0.43799999356269836, 1.236799955368042, 1.1101000308990479, 1.2935999631881714, 1.4174000024795532, 0.8849999904632568, 0.2535000145435333, 1.2735999822616577, 0.906499981880188, 0.0697999969124794, 0.29339998960494995, 0.17679999768733978, 0.1858000010251999, 0.8968999981880188, 0.1615000069141388, 0.2736999988555908, -0.4634000062942505, 1.010200023651123, -0.1412999927997589, -0.19859999418258667, 0.30790001153945923, 4.998499870300293, 4.9984002113342285, 4.9984002113342285, 4.998300075531006, 4.998300075531006, 4.998300075531006, 4.998199939727783, 4.998199939727783, 4.9980998039245605, 4.9980998039245605, 4.998000144958496, 4.998000144958496, 4.998000144958496, 4.997900009155273, 4.997900009155273, 4.997900009155273, 4.997900009155273, 4.997900009155273, 4.997900009155273, 4.997799873352051, 4.997799873352051, 4.997799873352051, 4.997700214385986, 4.997700214385986, 4.997700214385986, 4.997600078582764, 4.997600078582764, 4.997600078582764, 4.997600078582764, 4.997499942779541, 4.996099948883057, 4.991499900817871, 4.985400199890137, 3.8824000358581543, -0.19439999759197235, -0.7436000108718872, 1.590399980545044, 1.0753999948501587, 0.46549999713897705, -0.20469999313354492, 0.832099974155426], \"logprob\": [30.0, 29.0, 28.0, 27.0, 26.0, 25.0, 24.0, 23.0, 22.0, 21.0, 20.0, 19.0, 18.0, 17.0, 16.0, 15.0, 14.0, 13.0, 12.0, 11.0, 10.0, 9.0, 8.0, 7.0, 6.0, 5.0, 4.0, 3.0, 2.0, 1.0, -8.066399574279785, -8.151200294494629, -8.471199989318848, -8.54419994354248, -8.672800064086914, -8.681500434875488, -8.694100379943848, -8.81089973449707, -8.864399909973145, -8.869099617004395, -8.905799865722656, -8.92389965057373, -8.98449993133545, -9.049699783325195, -9.096799850463867, -9.151800155639648, -9.263500213623047, -9.432999610900879, -9.4621000289917, -9.467399597167969, -9.471199989318848, -8.16100025177002, -9.491700172424316, -9.517000198364258, -9.541899681091309, -9.562199592590332, -9.607999801635742, -9.61139965057373, -9.661399841308594, -9.688199996948242, -5.958000183105469, -7.256100177764893, -7.895400047302246, -7.888899803161621, -7.500899791717529, -7.859799861907959, -8.271499633789062, -5.843500137329102, -8.47599983215332, -7.477700233459473, -8.461199760437012, -8.923299789428711, -8.817099571228027, -8.576499938964844, -5.800899982452393, -6.267499923706055, -6.946400165557861, -8.11709976196289, -8.129599571228027, -8.368900299072266, -6.685200214385986, -7.743000030517578, -6.873899936676025, -7.217299938201904, -7.328400135040283, -7.922399997711182, -7.301499843597412, -7.779699802398682, -2.9126999378204346, -7.065400123596191, -7.246600151062012, -6.956999778747559, -6.5335001945495605, -6.2179999351501465, -5.3078999519348145, -6.588500022888184, -6.952300071716309, -5.876299858093262, -7.35860013961792, -5.140900135040283, -6.969799995422363, -6.709700107574463, -6.113900184631348, -6.354499816894531, -5.382999897003174, -5.84250020980835, -4.536799907684326, -5.551400184631348, -6.511099815368652, -5.581600189208984, -5.564899921417236, -5.9816999435424805, -4.864099979400635, -6.268700122833252, -5.657899856567383, -6.0366997718811035, -5.964099884033203, -5.192200183868408, -4.543900012969971, -5.606200218200684, -5.1128997802734375, -6.117800235748291, -5.092299938201904, -5.22760009765625, -5.453199863433838, -5.0756001472473145, -5.721199989318848, -5.146299839019775, -5.4781999588012695, -5.610199928283691, -5.543600082397461, -5.360599994659424, -5.503799915313721, -5.670400142669678, -5.672900199890137, -5.602700233459473, -5.739299774169922, -5.754199981689453, -5.741300106048584, -6.574900150299072, -6.885900020599365, -7.0096001625061035, -7.336900234222412, -7.564599990844727, -7.6875, -7.801199913024902, -7.960000038146973, -7.993299961090088, -8.073599815368652, -8.343400001525879, -8.344300270080566, -8.506099700927734, -8.663100242614746, -8.728400230407715, -8.76200008392334, -8.76259994506836, -7.01669979095459, -8.800800323486328, -8.845199584960938, -8.92870044708252, -8.995800018310547, -9.008399963378906, -9.027600288391113, -9.036999702453613, -9.045000076293945, -9.053000450134277, -9.053400039672852, -9.08240032196045, -9.108799934387207, -5.70550012588501, -6.660399913787842, -8.34570026397705, -8.054400444030762, -8.018600463867188, -8.425000190734863, -8.219300270080566, -8.49470043182373, -6.772900104522705, -7.076900005340576, -7.346700191497803, -7.141499996185303, -5.553199768066406, -6.48390007019043, -4.838200092315674, -6.855199813842773, -4.103499889373779, -6.714600086212158, -7.027100086212158, -6.688899993896484, -6.640999794006348, -7.959499835968018, -5.789000034332275, -7.221099853515625, -6.088099956512451, -6.115799903869629, -5.6956000328063965, -6.427499771118164, -6.181399822235107, -5.794099807739258, -6.804699897766113, -5.999499797821045, -6.086400032043457, -6.253699779510498, -5.357800006866455, -5.05679988861084, -5.636499881744385, -5.919899940490723, -5.302599906921387, -6.37470006942749, -6.481400012969971, -5.792099952697754, -5.741600036621094, -5.256100177764893, -5.592100143432617, -5.858500003814697, -6.117700099945068, -5.163700103759766, -5.035900115966797, -5.956999778747559, -5.608099937438965, -6.068399906158447, -5.10699987411499, -6.012599945068359, -5.1697001457214355, -5.855999946594238, -5.736800193786621, -5.587600231170654, -5.802299976348877, -5.80679988861084, -5.636000156402588, -5.611700057983398, -5.722599983215332, -5.867700099945068, -5.866600036621094, -6.735599994659424, -7.267199993133545, -7.67710018157959, -7.7322001457214355, -8.156100273132324, -8.249300003051758, -8.3371000289917, -8.401700019836426, -8.53279972076416, -8.562199592590332, -8.59000015258789, -8.71399974822998, -8.749099731445312, -8.801799774169922, -8.833900451660156, -8.83810043334961, -9.071000099182129, -9.108699798583984, -9.287599563598633, -9.294099807739258, -9.308099746704102, -9.314000129699707, -9.331199645996094, -9.339500427246094, -9.387299537658691, -9.395600318908691, -9.43019962310791, -9.452400207519531, -9.452899932861328, -9.461199760437012, -7.007400035858154, -6.624499797821045, -7.134399890899658, -6.505199909210205, -7.768400192260742, -7.377299785614014, -7.962800025939941, -7.6305999755859375, -7.470600128173828, -7.003900051116943, -7.988100051879883, -4.985499858856201, -6.86359977722168, -7.467800140380859, -8.121399879455566, -5.938399791717529, -7.306399822235107, -7.436500072479248, -5.252200126647949, -4.697700023651123, -5.689300060272217, -4.438000202178955, -5.182300090789795, -7.146900177001953, -7.319900035858154, -7.298699855804443, -5.823400020599365, -6.140999794006348, -4.94980001449585, -5.651299953460693, -3.2114999294281006, -4.950399875640869, -4.5777997970581055, -6.076200008392334, -5.614699840545654, -7.179900169372559, -5.559700012207031, -5.6930999755859375, -4.90749979019165, -5.430699825286865, -5.349999904632568, -5.405600070953369, -5.150199890136719, -4.51140022277832, -6.035399913787842, -5.250999927520752, -4.950699806213379, -5.834799766540527, -5.158100128173828, -5.46019983291626, -5.322700023651123, -5.724599838256836, -5.482999801635742, -5.383299827575684, -5.423900127410889, -5.54580020904541, -5.404399871826172, -5.561800003051758, -5.565100193023682, -5.642199993133545, -7.467899799346924, -7.848599910736084, -8.369000434875488, -8.578100204467773, -8.596199989318848, -8.657899856567383, -8.685999870300293, -8.740900039672852, -8.755800247192383, -8.767600059509277, -8.791500091552734, -8.800000190734863, -8.808799743652344, -7.09089994430542, -8.954000473022461, -9.338399887084961, -9.36359977722168, -9.385499954223633, -9.419899940490723, -9.475299835205078, -9.479499816894531, -9.502699851989746, -9.510199546813965, -9.530799865722656, -9.539400100708008, -9.571900367736816, -9.597599983215332, -9.631099700927734, -9.65820026397705, -9.667499542236328, -6.8744001388549805, -7.147799968719482, -7.206200122833252, -7.761000156402588, -7.97629976272583, -8.355600357055664, -5.029699802398682, -6.778299808502197, -7.523600101470947, -8.651700019836426, -5.726799964904785, -8.821599960327148, -8.451499938964844, -8.972599983215332, -5.619500160217285, -7.269000053405762, -6.691800117492676, -6.396299839019775, -4.95359992980957, -6.390999794006348, -5.833899974822998, -6.843900203704834, -6.952099800109863, -7.599599838256836, -4.920199871063232, -6.889999866485596, -7.42549991607666, -5.2555999755859375, -5.485099792480469, -6.997200012207031, -6.673799991607666, -6.061500072479248, -5.1875, -5.63129997253418, -5.824999809265137, -4.174200057983398, -4.479899883270264, -4.464799880981445, -6.1371002197265625, -4.765200138092041, -4.174600124359131, -5.225200176239014, -5.9899001121521, -5.957600116729736, -5.121500015258789, -6.418799877166748, -5.017600059509277, -4.779799938201904, -5.992199897766113, -5.334000110626221, -5.244900226593018, -4.452400207519531, -4.738699913024902, -5.061699867248535, -4.952300071716309, -4.473999977111816, -5.160099983215332, -5.010900020599365, -4.9217000007629395, -5.241799831390381, -5.00029993057251, -5.163000106811523, -5.34630012512207, -5.409200191497803, -5.382800102233887, -9.253999710083008, -9.5826997756958, -9.586199760437012, -9.668000221252441, -9.866000175476074, -9.878100395202637, -9.882599830627441, -9.913800239562988, -9.943400382995605, -10.055299758911133, -10.126099586486816, -10.156200408935547, -10.230500221252441, -10.488300323486328, -10.50160026550293, -10.51930046081543, -10.519800186157227, -8.192399978637695, -10.586700439453125, -10.661100387573242, -10.724599838256836, -10.741900444030762, -10.767800331115723, -10.798500061035156, -10.81089973449707, -10.816300392150879, -10.843899726867676, -10.92389965057373, -10.934599876403809, -10.938899993896484, -7.11899995803833, -7.246099948883057, -7.383600234985352, -8.194100379943848, -6.729000091552734, -7.245200157165527, -9.98270034790039, -9.191699981689453, -7.499599933624268, -6.539100170135498, -6.204800128936768, -7.179500102996826, -9.14050006866455, -9.30270004272461, -6.5858001708984375, -8.052399635314941, -7.107399940490723, -4.126999855041504, -5.623300075531006, -6.3668999671936035, -5.367000102996826, -8.086899757385254, -4.479700088500977, -8.32610034942627, -8.744999885559082, -8.805000305175781, -4.584199905395508, -5.787899971008301, -7.397799968719482, -8.307900428771973, -4.973299980163574, -8.046299934387207, -5.8007001876831055, -7.395199775695801, -6.137199878692627, -3.233799934387207, -5.467700004577637, -6.582200050354004, -6.795100212097168, -4.900700092315674, -6.696100234985352, -4.503300189971924, -5.886300086975098, -4.141200065612793, -3.6214001178741455, -5.188499927520752, -4.513599872589111, -5.91540002822876, -5.589300155639648, -5.356800079345703, -5.364299774169922, -5.503699779510498, -5.26230001449585, -4.629300117492676, -5.093200206756592, -4.8267998695373535, -5.4745001792907715, -5.578199863433838, -5.604000091552734, -5.127500057220459, -5.2606000900268555, -5.211100101470947, -5.124000072479248, -5.240099906921387, -5.517300128936768, -5.3317999839782715, -5.441699981689453, -5.38100004196167, -5.513999938964844, -8.32960033416748, -8.624899864196777, -8.952500343322754, -8.998900413513184, -9.144200325012207, -9.306900024414062, -9.351099967956543, -9.378800392150879, -9.420299530029297, -9.539400100708008, -9.556400299072266, -9.61050033569336, -9.690799713134766, -9.753000259399414, -9.795700073242188, -9.83180046081543, -9.884699821472168, -9.887200355529785, -9.995400428771973, -10.028300285339355, -10.046500205993652, -10.096199989318848, -10.11520004272461, -10.164400100708008, -10.244199752807617, -10.255900382995605, -10.279800415039062, -10.281900405883789, -10.287199974060059, -10.28909969329834, -5.134099960327148, -5.809100151062012, -8.526100158691406, -8.389900207519531, -6.486199855804443, -6.286099910736084, -7.644700050354004, -7.713200092315674, -5.695000171661377, -7.041900157928467, -7.0920000076293945, -5.85230016708374, -8.988800048828125, -5.711400032043457, -5.825099945068359, -7.364099979400635, -6.115499973297119, -8.303799629211426, -8.15530014038086, -3.78410005569458, -5.40880012512207, -6.67579984664917, -7.949999809265137, -7.486199855804443, -7.30620002746582, -7.8140997886657715, -6.081900119781494, -6.893599987030029, -6.841000080108643, -6.083899974822998, -4.1641998291015625, -5.582300186157227, -6.585299968719482, -6.3343000411987305, -6.02370023727417, -5.476200103759766, -6.679200172424316, -5.598400115966797, -6.434599876403809, -5.657199859619141, -6.48799991607666, -5.3105998039245605, -4.787600040435791, -5.234000205993652, -4.413099765777588, -5.706200122833252, -5.842599868774414, -5.120200157165527, -4.869100093841553, -4.654300212860107, -4.1203999519348145, -5.315000057220459, -4.294300079345703, -5.04640007019043, -4.898099899291992, -4.929200172424316, -5.3516998291015625, -4.849999904632568, -5.180200099945068, -5.230199813842773, -4.707399845123291, -5.174600124359131, -5.166399955749512, -5.195099830627441, -5.339000225067139, -5.0725998878479, -5.1570000648498535, -5.207099914550781, -5.2484002113342285, -5.258200168609619, -5.18720006942749, -5.254799842834473, -5.728099822998047, -6.904799938201904, -7.447800159454346, -7.703800201416016, -7.9953999519348145, -8.073399543762207, -8.225899696350098, -8.303500175476074, -8.454400062561035, -8.759900093078613, -8.873299598693848, -8.918999671936035, -8.93850040435791, -8.955900192260742, -9.129599571228027, -9.14169979095459, -9.196599960327148, -9.228599548339844, -9.267800331115723, -9.295100212097168, -9.29800033569336, -9.300100326538086, -9.318099975585938, -9.345199584960938, -9.367199897766113, -9.373299598693848, -9.40429973602295, -9.482199668884277, -9.520700454711914, -9.581700325012207, -7.207300186157227, -7.549499988555908, -6.0524001121521, -9.240599632263184, -7.125199794769287, -5.787099838256836, -7.858799934387207, -7.978300094604492, -8.259900093078613, -8.42300033569336, -6.679999828338623, -5.447400093078613, -6.263199806213379, -7.275199890136719, -7.549600124359131, -6.993000030517578, -6.689599990844727, -6.564300060272217, -5.688600063323975, -6.718299865722656, -6.000899791717529, -5.033299922943115, -5.6230998039245605, -6.885900020599365, -6.445700168609619, -5.092299938201904, -6.801499843597412, -5.872900009155273, -4.759200096130371, -4.8643999099731445, -5.606400012969971, -6.632699966430664, -5.062399864196777, -5.165299892425537, -6.128200054168701, -4.190899848937988, -5.415200233459473, -5.44789981842041, -4.732699871063232, -5.219099998474121, -4.735400199890137, -6.26800012588501, -5.526899814605713, -4.94379997253418, -5.753399848937988, -5.499300003051758, -5.1894001960754395, -5.347799777984619, -5.530600070953369, -4.982900142669678, -4.757900238037109, -5.361599922180176, -5.218100070953369, -5.240699768066406, -5.473700046539307, -5.247499942779541, -5.313600063323975, -5.292600154876709, -5.372000217437744, -5.321700096130371, -5.309500217437744, -5.497200012207031, -5.984899997711182, -7.062099933624268, -7.440700054168701, -7.568600177764893, -7.915200233459473, -8.486900329589844, -8.834600448608398, -9.04520034790039, -9.071200370788574, -9.071399688720703, -9.139300346374512, -9.286999702453613, -9.28969955444336, -9.374300003051758, -9.40310001373291, -9.419500350952148, -9.467599868774414, -9.581299781799316, -9.706999778747559, -9.785200119018555, -9.797699928283691, -9.820899963378906, -9.856300354003906, -9.862700462341309, -9.885100364685059, -9.891500473022461, -9.90530014038086, -9.917200088500977, -9.946599960327148, -9.9576997756958, -8.211600303649902, -8.021599769592285, -6.128900051116943, -5.919600009918213, -7.5121002197265625, -9.411199569702148, -7.712100028991699, -7.863900184631348, -5.651500225067139, -7.233699798583984, -9.255000114440918, -3.5141000747680664, -4.3871002197265625, -8.501399993896484, -6.24970006942749, -5.054100036621094, -6.1493000984191895, -5.577000141143799, -5.842400074005127, -6.242700099945068, -8.125200271606445, -6.679699897766113, -5.72730016708374, -6.6890997886657715, -7.601500034332275, -7.357699871063232, -6.093599796295166, -6.009200096130371, -5.529099941253662, -5.117700099945068, -3.9433000087738037, -4.707799911499023, -4.415299892425537, -5.062399864196777, -4.276899814605713, -6.264800071716309, -6.558599948883057, -4.985499858856201, -6.297800064086914, -4.736000061035156, -4.983399868011475, -4.87470006942749, -5.88129997253418, -4.701700210571289, -4.77839994430542, -4.768599987030029, -5.00439977645874, -5.0167999267578125, -5.584099769592285, -4.899700164794922, -5.329400062561035, -5.11929988861084, -5.381199836730957, -5.414299964904785, -5.379000186920166, -5.653800010681152, -5.416399955749512, -5.606800079345703, -5.60699987411499, -5.345399856567383, -7.050600051879883, -7.555200099945068, -7.656400203704834, -7.7342000007629395, -7.930099964141846, -8.083600044250488, -8.161299705505371, -8.188599586486816, -8.226400375366211, -8.522100448608398, -8.5447998046875, -8.59529972076416, -8.624799728393555, -8.651399612426758, -8.840399742126465, -8.925000190734863, -8.983599662780762, -8.987500190734863, -8.997200012207031, -8.997400283813477, -9.017800331115723, -9.020600318908691, -9.100600242614746, -9.108599662780762, -9.186400413513184, -9.199600219726562, -9.207799911499023, -9.28279972076416, -9.323599815368652, -6.114500045776367, -8.197199821472168, -8.63659954071045, -8.658699989318848, -8.553500175476074, -7.717700004577637, -5.956399917602539, -7.743800163269043, -8.807900428771973, -7.238900184631348, -6.894700050354004, -7.775599956512451, -6.676300048828125, -7.3678998947143555, -7.22760009765625, -8.372099876403809, -6.829599857330322, -5.891200065612793, -6.795000076293945, -7.9741997718811035, -6.67519998550415, -7.594299793243408, -7.755300045013428, -7.510000228881836, -7.393199920654297, -7.084499835968018, -7.029099941253662, -4.094399929046631, -7.121699810028076, -6.2941999435424805, -6.52269983291626, -4.684100151062012, -6.144400119781494, -6.805099964141846, -5.909599781036377, -5.9506001472473145, -6.4028000831604, -5.353300094604492, -6.3597002029418945, -5.832699775695801, -5.321300029754639, -5.437699794769287, -5.819499969482422, -5.049600124359131, -5.719200134277344, -5.537899971008301, -5.323299884796143, -5.736199855804443, -5.807300090789795, -4.765900135040283, -5.603400230407715, -5.472499847412109, -5.67110013961792, -5.864699840545654, -5.470900058746338, -5.084099769592285, -5.7947998046875, -5.571499824523926, -5.235400199890137, -5.458700180053711, -5.438300132751465, -5.519599914550781, -5.698299884796143, -5.549699783325195, -5.581399917602539, -5.532599925994873, -5.765699863433838, -5.697000026702881, -5.739099979400635, -5.769400119781494, -4.983399868011475, -5.140200138092041, -5.391300201416016, -5.468299865722656, -5.611100196838379, -5.657100200653076, -5.741700172424316, -5.8024001121521, -5.943699836730957, -6.02209997177124, -6.103700160980225, -6.127799987792969, -6.146100044250488, -6.240300178527832, -6.242099761962891, -6.2778000831604, -6.283199787139893, -6.328700065612793, -6.343999862670898, -6.3470001220703125, -6.385300159454346, -6.4567999839782715, -6.474699974060059, -6.490200042724609, -6.55210018157959, -6.588799953460693, -6.589700222015381, -6.618899822235107, -6.6321001052856445, -6.660099983215332, -6.1631999015808105, -6.083000183105469, -6.286799907684326, -5.618800163269043, -4.6585001945495605, -5.559599876403809, -6.1605000495910645, -6.126100063323975, -6.156099796295166, -6.15500020980835, -6.311299800872803]}, \"token.table\": {\"Topic\": [1, 5, 6, 9, 10, 1, 2, 3, 4, 5, 6, 7, 8, 9, 2, 1, 2, 3, 4, 6, 7, 9, 1, 2, 3, 4, 6, 7, 8, 1, 2, 3, 4, 5, 6, 7, 9, 2, 3, 4, 4, 2, 1, 2, 4, 5, 9, 5, 1, 2, 3, 4, 5, 6, 7, 8, 9, 3, 4, 6, 7, 8, 9, 2, 6, 9, 2, 4, 10, 2, 5, 7, 9, 2, 1, 2, 3, 7, 8, 1, 4, 8, 10, 5, 1, 1, 6, 1, 1, 3, 8, 1, 4, 5, 6, 7, 8, 10, 2, 3, 4, 5, 6, 7, 8, 9, 1, 2, 3, 4, 5, 6, 7, 8, 2, 3, 4, 8, 1, 1, 1, 2, 4, 5, 6, 7, 8, 9, 10, 2, 3, 7, 8, 7, 8, 1, 3, 5, 6, 9, 1, 3, 4, 5, 6, 8, 9, 1, 10, 4, 5, 6, 8, 9, 10, 6, 9, 3, 5, 6, 10, 1, 3, 4, 6, 10, 3, 4, 6, 1, 5, 7, 8, 3, 4, 1, 4, 10, 1, 4, 6, 2, 1, 2, 3, 4, 5, 6, 7, 8, 9, 1, 2, 3, 4, 5, 6, 7, 8, 9, 1, 2, 3, 4, 5, 6, 7, 8, 9, 1, 4, 5, 10, 4, 4, 8, 9, 1, 5, 6, 7, 8, 7, 1, 2, 5, 6, 9, 7, 4, 6, 4, 6, 1, 2, 3, 4, 5, 6, 7, 8, 9, 1, 2, 3, 5, 6, 7, 8, 9, 4, 1, 5, 10, 3, 4, 5, 6, 8, 9, 10, 1, 3, 4, 5, 6, 8, 9, 8, 4, 10, 10, 10, 3, 2, 3, 4, 6, 8, 10, 9, 9, 8, 6, 1, 2, 6, 8, 8, 5, 1, 5, 6, 9, 8, 8, 2, 4, 6, 8, 9, 2, 4, 6, 8, 9, 1, 5, 10, 9, 2, 9, 1, 2, 3, 5, 6, 7, 8, 9, 9, 6, 9, 7, 5, 3, 9, 10, 1, 4, 5, 8, 9, 1, 10, 3, 4, 3, 4, 4, 1, 5, 9, 10, 1, 6, 8, 9, 1, 2, 3, 4, 5, 6, 7, 8, 9, 10, 10, 1, 3, 6, 8, 9, 10, 1, 6, 8, 9, 10, 1, 2, 6, 7, 9, 6, 9, 4, 4, 6, 4, 4, 1, 3, 4, 5, 9, 1, 2, 5, 1, 8, 2, 10, 2, 5, 6, 8, 1, 7, 8, 3, 4, 6, 8, 1, 2, 4, 5, 6, 8, 9, 9, 5, 1, 6, 7, 8, 5, 6, 8, 10, 9, 9, 9, 1, 2, 3, 4, 5, 7, 8, 9, 10, 1, 2, 3, 4, 6, 7, 8, 9, 10, 1, 2, 4, 5, 7, 8, 9, 10, 1, 2, 3, 4, 5, 6, 7, 8, 9, 10, 1, 2, 3, 4, 5, 7, 8, 9, 10, 1, 2, 3, 4, 5, 6, 7, 8, 10, 9, 1, 2, 3, 4, 5, 7, 9, 7, 8, 1, 7, 8, 1, 3, 4, 6, 7, 8, 9, 10, 1, 2, 3, 4, 5, 6, 7, 8, 9, 1, 2, 3, 4, 5, 6, 7, 8, 9, 10, 1, 2, 3, 4, 5, 6, 7, 8, 9, 10, 6, 3, 6, 8, 9, 3, 6, 1, 2, 3, 4, 5, 6, 7, 8, 9, 2, 3, 4, 5, 6, 7, 9, 10, 1, 2, 3, 4, 5, 6, 7, 8, 9, 1, 3, 5, 6, 7, 8, 9, 10, 1, 2, 3, 5, 6, 7, 8, 9, 1, 2, 5, 6, 7, 8, 9, 10, 8, 1, 2, 3, 4, 5, 6, 7, 8, 9, 10, 7, 5, 1, 2, 3, 5, 6, 7, 8, 10, 2, 4, 6, 1, 2, 5, 6, 7, 8, 9, 3, 6, 1, 5, 10, 1, 2, 4, 10, 5, 1, 5, 9, 10, 3, 3, 1, 2, 3, 4, 5, 6, 8, 9, 10, 4, 2, 7, 8, 3, 3, 4, 8, 1, 4, 5, 6, 10, 1, 2, 3, 4, 7, 8, 10, 1, 7, 8, 10, 3, 4, 4, 5, 4, 6, 3, 4, 6, 1, 2, 3, 4, 5, 6, 7, 8, 1, 2, 3, 4, 5, 6, 7, 8, 9, 10, 1, 2, 3, 4, 5, 6, 7, 8, 9, 1, 2, 3, 5, 6, 7, 8, 9, 10, 1, 2, 3, 4, 5, 6, 7, 8, 9, 10, 7, 1, 2, 3, 4, 5, 6, 7, 8, 9, 1, 2, 3, 4, 5, 6, 7, 8, 9, 1, 2, 5, 8, 9, 1, 2, 3, 5, 8, 9, 10, 10, 1, 5, 6, 8, 9, 1, 10, 10, 1, 2, 3, 4, 5, 6, 7, 8, 9, 10, 1, 2, 3, 4, 5, 6, 7, 8, 9, 10, 7, 1, 2, 4, 5, 6, 7, 8, 9, 3, 1, 2, 3, 6, 7, 8, 9, 1, 6, 8, 9, 10, 3, 8, 2, 2, 1, 2, 4, 5, 6, 7, 8, 9, 10, 2, 5, 9, 2, 5, 9, 1, 2, 3, 4, 5, 6, 7, 8, 2, 5, 1, 2, 3, 4, 5, 6, 7, 8, 9, 10, 3, 6, 2, 3, 4, 7, 8, 10, 2, 3, 4, 5, 7, 8, 9, 3, 9, 1, 2, 3, 4, 6, 7, 8, 1, 2, 3, 4, 5, 6, 8, 3, 4, 6, 6, 6, 6, 2, 1, 2, 3, 4, 5, 7, 8, 9, 7, 2, 10, 6, 5, 1, 2, 5, 6, 7, 8, 9, 2, 3, 7, 8, 9, 1, 2, 5, 10, 1, 2, 3, 4, 5, 6, 7, 9, 10, 10, 7, 7, 7, 1, 1, 2, 5, 10, 1, 1, 9, 10, 3, 6, 1, 4, 10, 1, 4, 1, 2, 3, 4, 5, 7, 8, 9, 2, 3, 4, 5, 7, 8, 9, 1, 3, 4, 5, 6, 8, 9, 10, 2, 5, 6, 7, 8, 4, 5, 6, 9, 3, 6, 8, 1, 6, 7, 2, 10, 1, 2, 3, 4, 5, 6, 7, 8, 9, 1, 2, 4, 5, 7, 8, 9, 10, 7, 10, 1, 2, 3, 4, 5, 6, 7, 8, 9, 2, 3, 4, 7, 8, 9, 1, 4, 5, 10, 2, 3, 4, 5, 7, 8, 9, 1, 2, 3, 4, 6, 7, 8, 9, 7, 1, 2, 3, 5, 6, 7, 8, 9, 1, 2, 3, 4, 5, 6, 7, 9, 1, 2, 3, 4, 5, 6, 7, 8, 2, 3, 4, 6, 7, 8, 10, 1, 1, 2, 3, 4, 5, 6, 7, 8, 9, 10, 1, 2, 3, 4, 5, 6, 7, 8, 9, 10, 9, 1, 5, 6, 8, 10, 9, 1, 9, 10, 9, 1, 2, 3, 4, 5, 6, 7, 8, 9, 10, 1, 2, 3, 4, 5, 6, 7, 8, 9, 1, 6, 9, 6, 1, 2, 3, 8, 9, 1, 2, 3, 4, 5, 6, 7, 8, 9, 10, 2, 7, 1, 2, 3, 4, 6, 7, 8, 9, 10, 1, 2, 9, 10, 3, 3, 10, 1, 2, 3, 4, 5, 7, 8, 3, 1, 3, 5, 6, 7, 8, 10, 6, 8, 8, 1, 2, 3, 4, 5, 6, 7, 8, 9, 6, 8, 3, 6, 8, 10, 1, 3, 4, 6, 8, 1, 4, 5, 6, 8, 8, 1, 2, 3, 4, 5, 6, 7, 8, 10, 3, 2, 1, 2, 7, 9, 9, 1, 2, 3, 4, 5, 6, 7, 8, 9, 2, 7, 8, 9, 10, 1, 1, 2, 3, 6, 8, 9, 1, 2, 3, 4, 5, 6, 8, 9, 9, 3, 6, 8, 3, 1, 4, 1, 2, 3, 4, 5, 6, 7, 8, 9, 1, 3, 4, 4, 4, 6, 8, 9, 1, 2, 5, 9, 10, 1, 5, 7, 1, 5, 7, 1, 5, 7, 1, 2, 3, 4, 5, 6, 7, 8, 9, 5, 2, 3, 4, 5, 6, 7, 8, 9, 3, 4, 5, 6, 8, 10, 6, 6, 1, 3, 9, 3, 9, 3, 1, 2, 3, 4, 5, 6, 7, 8, 9, 10, 2, 3, 4, 6, 7, 8, 1, 2, 3, 5, 6, 8, 9, 1, 2, 3, 6, 7, 10, 1, 3, 6, 7, 2, 4, 5, 6, 7, 8, 9, 10, 2, 5, 6, 7, 2, 5, 6, 7, 3, 6, 1, 3, 5, 6, 1, 2, 3, 4, 5, 6, 7, 8, 9, 10, 1, 2, 3, 4, 5, 6, 7, 8, 9, 1, 2, 5, 1, 2, 3, 4, 5, 6, 7, 8, 9, 1, 3, 6, 7, 8, 9, 8, 1, 2, 3, 4, 5, 6, 7, 8, 9, 1, 2, 3, 4, 5, 6, 7, 8, 9, 10, 2, 5, 7, 9, 1, 2, 3, 4, 5, 6, 7, 9, 10, 1, 2, 3, 4, 6, 7, 10, 1, 2, 4, 5, 6, 9, 10, 2, 3, 4, 5, 6, 7, 8, 9, 10, 10, 1, 2, 3, 4, 5, 6, 7, 8, 9, 10, 1, 2, 3, 4, 5, 6, 7, 8, 9, 10, 7, 10, 4, 1, 4, 5, 10, 1, 4, 5, 6, 2, 3, 5, 6, 7, 8, 10, 5, 8, 10, 2, 1, 2, 3, 4, 5, 6, 7, 8, 9, 10, 1, 2, 7, 8, 10, 1, 2, 4, 6, 8, 9, 10, 5, 1, 3, 4, 5, 6, 8, 3, 4, 5, 6, 5, 6, 8, 9, 6, 8, 9, 6, 5, 6, 9, 10, 7, 2, 3, 4, 6, 7, 8, 9, 1, 2, 3, 4, 5, 7, 8, 9, 10, 3, 1, 2, 5, 6, 8, 9, 10, 7, 1, 4, 6, 8, 9, 10, 3, 1, 2, 3, 8, 9, 2, 3, 1, 2, 3, 4, 5, 6, 7, 8, 9, 1, 2, 3, 4, 5, 6, 7, 8, 9, 10, 7, 9, 9, 1, 2, 3, 4, 5, 6, 7, 8, 9, 9, 1, 1, 5, 2, 1, 4, 5, 6, 8, 9, 10, 1, 2, 3, 4, 5, 6, 7, 8, 9, 5, 2, 5, 6, 7, 1, 4, 5, 6, 8, 2, 3, 6, 8, 9, 6, 6, 1, 4, 5, 6, 10, 3, 6, 3, 1, 3, 5, 10, 4, 6, 10, 5, 9, 2, 3, 5, 6, 7, 8, 9, 9, 10, 1, 1, 2, 3, 4, 6, 7, 8, 9, 10, 1, 2, 4, 5, 7, 7, 1, 2, 3, 4, 5, 6, 7, 8, 9, 1, 2, 3, 4, 5, 6, 7, 8, 9, 1, 5, 6, 7, 8, 2, 3, 4, 5, 6, 7, 8, 9, 1, 2, 3, 4, 5, 1, 2, 3, 5, 6, 7, 8, 9, 10, 1, 2, 3, 5, 6, 7, 8, 9, 10, 7, 1, 3, 4, 5, 6, 8, 9, 10, 2, 4, 5, 8, 8, 7, 1, 2, 3, 5, 6, 7, 8, 9, 3, 4, 8, 4, 4, 1, 4, 5, 8, 9, 2, 4, 9, 10, 9, 6, 8, 10, 6, 1, 2, 3, 4, 5, 6, 7, 8, 1, 3, 6, 1, 9, 1, 3, 4, 5, 6, 8, 9, 10, 8, 3, 4, 6, 8, 9, 10, 1, 4, 6, 10, 1, 3, 5, 8, 1, 2, 5, 6, 7, 8, 9, 1, 2, 4, 5, 6, 7, 8, 9, 6, 5, 8, 8, 3, 4, 6, 8, 10, 1, 3, 4, 5, 6, 7, 8, 10, 4, 4, 1, 4, 4, 3, 6, 1, 5, 8, 1, 2, 5, 6, 7, 8, 9, 10, 2, 8, 8, 2, 3, 4, 7, 4, 6, 7, 3, 4, 6, 3, 5, 6, 8, 3, 5, 6, 8, 9, 3, 5, 6, 1, 4, 5, 5, 5, 5, 5, 5, 8, 1, 2, 3, 4, 5, 6, 7, 9, 10, 1, 5, 9, 10, 3, 4, 6, 8, 1, 2, 3, 4, 5, 6, 7, 8, 9, 1, 4, 6, 7, 9, 2, 10, 1, 2, 3, 4, 5, 6, 7, 8, 9, 10, 3, 8, 5, 10, 1, 1, 9, 7, 1, 2, 3, 4, 5, 8, 9, 4, 3, 5, 6, 10, 4, 1, 5, 10, 2, 5, 6, 7, 8, 9, 1, 2, 3, 4, 5, 6, 7, 8, 8, 1, 2, 3, 5, 6, 8, 9, 4, 9, 10, 3, 2, 5, 6, 7, 8, 5, 1, 3, 4, 6, 7, 8, 9, 10, 7, 3, 4, 5, 6, 8, 9, 10, 1, 1, 2, 4, 5, 1, 3, 5, 6, 7, 8, 9, 1, 2, 3, 5, 9, 9, 2, 3, 4, 5, 6, 7, 8, 9, 1, 2, 3, 4, 7, 8, 9, 1, 2, 4, 5, 8, 10, 10, 6, 1, 2, 4, 5, 6, 7, 9, 1, 3, 4, 6, 10, 1, 2, 3, 4, 7, 9, 7, 1, 2, 3, 5, 6, 7, 8, 9, 9, 10, 1, 2, 4, 5, 6, 7, 9, 7, 10, 3, 5, 10, 9, 4, 8, 8, 8, 2, 3, 6, 8, 9, 1, 3, 4, 6, 8, 9, 10, 3, 6, 8, 1, 6, 8, 9, 1, 4, 4, 3, 4, 5, 5, 5, 5, 1, 5, 6, 7, 1, 3, 5, 8, 10, 4, 1, 2, 5, 7, 2, 2, 2, 2, 4, 5, 7, 9, 1, 4, 5, 6, 7, 6, 1, 2, 4, 5, 6, 7, 8, 9, 10, 10, 1, 2, 3, 4, 5, 6, 7, 8, 9, 10, 1, 2, 3, 4, 5, 6, 7, 8, 9, 10, 6, 3, 5, 6, 9, 1, 10, 1, 9, 1, 2, 5, 7, 8, 9, 1, 2, 3, 7, 8, 10, 1, 2, 2, 5, 1, 2, 3, 4, 5, 6, 7, 8, 9, 10, 1, 2, 3, 4, 7, 8, 9, 10, 1, 1, 2, 5, 7, 8, 9, 10, 1, 2, 3, 4, 5, 6, 7, 8, 9, 6, 8, 10, 7, 10, 7, 1, 2, 4, 5, 6, 7, 8, 9, 1, 2, 3, 4, 5, 6, 7, 8, 9, 10, 1, 2, 3, 4, 6, 7, 8, 9, 10, 2, 3, 4, 5, 6, 7, 8, 9, 10, 1, 2, 4, 6, 9, 10, 1, 2, 4, 5, 1, 4, 5, 7, 8, 1, 2, 3, 4, 5, 6, 7, 8, 9, 10, 4, 5, 4, 1, 2, 3, 4, 6, 7, 9, 10, 3, 4, 5, 6, 8, 10, 1, 3, 4, 5, 6, 8, 9, 10, 3, 1, 2, 3, 4, 5, 6, 7, 8, 9, 5, 3, 3, 6, 2, 5, 6, 7, 8, 9, 10, 1, 4, 5, 10, 9, 1, 3, 6, 8, 9, 7, 4, 6, 8, 6, 2, 3, 5, 6, 8, 9, 10, 1, 1, 4, 9, 10, 1, 2, 3, 6, 7, 8, 9, 10, 4, 6, 10, 7, 1, 2, 3, 4, 5, 6, 7, 8, 9, 10, 6, 2, 9, 2, 4, 8, 9, 1, 2, 3, 4, 5, 6, 7, 8, 9, 1, 3, 4, 5, 6, 8, 10, 1, 3, 4, 6, 8, 10, 3, 4, 6, 8, 9, 1, 2, 4, 5, 7, 8, 10, 5, 8, 1, 2, 3, 4, 5, 6, 7, 8, 9, 10, 7, 2, 3, 4, 7, 9, 1, 4, 5, 10, 4, 9, 3, 5, 6, 7, 8, 10, 1, 2, 3, 4, 5, 6, 7, 8, 9, 2, 3, 4, 5, 7, 8, 9, 10, 1, 2, 3, 4, 5, 6, 7, 8, 9, 1, 4, 10, 3, 6, 8, 9, 1, 2, 3, 4, 5, 6, 7, 8, 9, 10, 1, 2, 3, 4, 5, 6, 7, 8, 9, 10, 1, 2, 1, 10, 1, 2, 4, 5, 6, 7, 9, 6, 6, 1, 2, 3, 4, 5, 6, 7, 8, 9, 1, 5, 9, 3, 6, 8, 9, 2, 4, 5, 9, 10, 5, 1, 5, 10, 3, 8, 3, 10, 6, 6, 8, 9, 10, 3, 4, 5, 8, 9, 10, 1, 2, 5, 6, 7, 8, 9, 3, 8, 10, 7, 1, 2, 3, 4, 5, 7, 8, 10, 1, 2, 5, 7, 9, 2, 5, 6, 7, 9, 2, 3, 7, 9, 10, 1, 2, 9, 1, 9, 10, 2, 7, 5, 1, 4, 5, 10, 1, 3, 4, 6, 7, 8, 10, 8, 1, 3, 4, 5, 6, 8, 1, 2, 5, 6, 8, 9, 10, 1, 2, 3, 4, 5, 6, 7, 8, 9, 10, 1, 2, 4, 5, 6, 7, 10, 9, 1, 2, 3, 4, 5, 6, 7, 8, 9, 1, 2, 3, 4, 6, 7, 8, 3, 4, 1, 2, 3, 4, 5, 6, 7, 8, 9, 8, 1, 2, 4, 6, 7, 8, 9, 1, 2, 3, 7, 10, 1, 2, 3, 4, 5, 6, 7, 8, 9, 10, 2, 9, 9, 4, 1, 2, 4, 5, 7, 9, 1, 2, 3, 4, 5, 6, 7, 8, 9, 10, 10, 1, 2, 3, 4, 7, 9, 3, 4, 5, 8, 9, 1, 2, 3, 4, 5, 6, 7, 8, 9, 5, 9, 10, 2, 3, 4, 5, 6, 7, 8, 9, 1, 5, 8, 10, 1, 4, 5, 6, 8, 9, 2, 1, 10, 3, 1, 2, 3, 4, 6, 9, 1, 2, 3, 4, 6, 10, 4, 7, 8, 2, 3, 4, 5, 6, 8, 9, 1, 2, 3, 4, 5, 6, 7, 8, 1, 2, 3, 4, 7, 8, 9, 10, 1, 2, 3, 4, 5, 6, 7, 8, 9, 8, 3, 1, 3, 4, 6, 9, 8, 1, 2, 3, 4, 5, 6, 7, 8, 9, 6, 8, 1, 2, 3, 4, 5, 6, 7, 8, 9, 10, 1, 2, 3, 4, 5, 6, 7, 9, 10, 1, 2, 9, 1, 2, 5, 9, 1, 2, 3, 4, 6, 7, 9, 6, 1, 2, 4, 5, 6, 7, 8, 10, 1, 2, 4, 5, 8, 9, 1, 2, 3, 4, 5, 6, 8, 9, 1, 2, 3, 4, 5, 6, 7, 8, 9, 10, 1, 1, 2, 3, 4, 5, 6, 7, 8, 1, 2, 3, 4, 5, 6, 7, 8, 9, 10, 2, 1, 3, 5, 6, 7, 8, 9, 10, 9, 1, 2, 3, 4, 6, 7, 8, 9, 3, 6, 8, 1, 2, 3, 5, 6, 7, 8, 9, 1, 7, 1, 2, 3, 4, 5, 6, 10, 1, 2, 3, 4, 5, 6, 10, 2, 3, 4, 5, 6, 8, 9, 1, 5, 8, 9, 1, 4, 5, 6, 8, 9, 1, 5, 6, 9, 10, 6, 2, 2, 1, 10, 3, 6, 1, 9, 10, 1, 5, 9, 10, 1, 2, 3, 4, 6, 7, 8, 2, 3, 5, 6, 7, 8, 9, 10, 1, 3, 4, 5, 1, 4, 5, 10, 1, 2, 4, 9, 10, 2, 5, 1, 2, 3, 4, 5, 6, 7, 9, 1, 2, 3, 4, 5, 6, 7, 9, 3, 6, 1, 6, 8, 4, 6, 2, 2, 3, 4, 3, 6, 1, 1, 9, 1, 2, 3, 4, 5, 6, 7, 8, 9, 8, 4, 6, 4, 6, 4, 6, 1, 2, 3, 4, 5, 7, 8, 9, 2, 5, 6, 8, 10, 1, 2, 3, 6, 7, 8, 9, 1, 2, 3, 4, 5, 6, 7, 8, 9, 10, 1, 2, 3, 4, 5, 6, 7, 8, 10, 1, 5, 10, 2, 3, 6, 7, 8, 9, 10, 1, 4, 5, 6, 9, 7, 2, 9, 2, 6, 8, 9, 8, 10, 8, 3, 3, 3, 5, 6, 8, 9, 10, 2, 3, 5, 6, 7, 9, 3, 6, 7, 9, 9, 1, 5, 10, 5, 10, 2, 8, 9, 10, 10], \"Freq\": [0.8532660007476807, 0.044454459100961685, 0.0029852627776563168, 0.09481454640626907, 0.004477894399315119, 0.13101711869239807, 0.6737373471260071, 0.05729604512453079, 0.03201204165816307, 0.01817287877202034, 0.012522286735475063, 0.010870207101106644, 0.020758742466568947, 0.04360054433345795, 0.9991738796234131, 0.007784832734614611, 0.013060378842055798, 0.10466443002223969, 0.8418805003166199, 0.02388356439769268, 0.0058046127669513226, 0.0029325387440621853, 0.008983170613646507, 0.001823197235353291, 0.059018462896347046, 0.9095339179039001, 0.010601107031106949, 0.006882267538458109, 0.0031513541471213102, 0.05443964898586273, 0.11071112751960754, 0.45428961515426636, 0.21549171209335327, 0.018883097916841507, 0.09800663590431213, 0.007445618975907564, 0.04073528200387955, 0.9922797083854675, 0.002123785438016057, 0.005191475618630648, 0.9992020726203918, 0.9991136789321899, 0.16953697800636292, 0.038720522075891495, 0.015469051897525787, 0.7566665410995483, 0.019587747752666473, 0.9977834224700928, 0.11497069895267487, 0.1536100208759308, 0.09982223808765411, 0.1819487065076828, 0.1050521582365036, 0.04656779021024704, 0.084339439868927, 0.026897873729467392, 0.18678857386112213, 0.8105111718177795, 0.08045527338981628, 0.09159072488546371, 0.005372367333620787, 0.010256337933242321, 0.0017582293367013335, 0.9773445129394531, 0.0053476146422326565, 0.017311768606305122, 0.995116651058197, 0.001904894015751779, 0.0026668517384678125, 0.029741933569312096, 0.19044750928878784, 0.010607955977320671, 0.7691264152526855, 0.9997823238372803, 0.0019916798919439316, 0.017348580062389374, 0.11305404454469681, 0.009696336463093758, 0.8578898906707764, 0.06807087361812592, 0.22037945687770844, 0.7115370035171509, 0.9995387196540833, 0.9978322982788086, 0.9986473321914673, 0.9888005256652832, 0.01112880278378725, 0.9994646310806274, 0.9989451766014099, 0.9995005130767822, 0.9999258518218994, 0.001313779503107071, 0.029034527018666267, 0.022005805745720863, 0.062076080590486526, 0.000722578726708889, 0.8843706846237183, 0.0004598228260874748, 0.022519174963235855, 0.0014160131104290485, 0.04663707688450813, 0.014297164045274258, 0.2625105679035187, 0.004065327811986208, 0.6445143222808838, 0.004019650164991617, 0.2088540941476822, 0.056137338280677795, 0.057659927755594254, 0.03550035133957863, 0.05713331699371338, 0.138860821723938, 0.1802111268043518, 0.26564016938209534, 0.009998861700296402, 0.026771146804094315, 0.012579213827848434, 0.9505369663238525, 0.9997311234474182, 0.9997827410697937, 0.008099207654595375, 0.010221963748335838, 0.11584892868995667, 0.02051832340657711, 0.20988008379936218, 0.00011407335114199668, 0.056277837604284286, 0.5787139534950256, 0.000312461779685691, 0.002294520614668727, 0.01353767141699791, 0.10485959053039551, 0.8790308237075806, 0.07177425175905228, 0.9280343651771545, 0.1427517831325531, 0.024360215291380882, 0.6801267266273499, 0.014177984558045864, 0.1385709047317505, 0.016656870022416115, 0.010662304237484932, 0.07610596716403961, 0.08121465891599655, 0.8114553689956665, 0.002876120852306485, 0.0010328610660508275, 0.9986410737037659, 0.0010715032694861293, 0.32034969329833984, 0.04812386631965637, 0.6185520887374878, 0.010266424156725407, 0.0017386686522513628, 0.0009521280881017447, 0.9836836457252502, 0.015904733911156654, 0.4167960584163666, 0.27937963604927063, 0.3012418746948242, 0.002579650143161416, 0.9995678067207336, 0.027829885482788086, 0.967561662197113, 0.004174483008682728, 0.0004174482892267406, 0.01668834127485752, 0.9794524312019348, 0.0038697603158652782, 0.008816473186016083, 0.0016793282702565193, 0.9851359128952026, 0.004198320675641298, 0.9998937845230103, 0.9983540177345276, 0.9648738503456116, 0.03247791901230812, 0.00265272194519639, 0.9449255466461182, 0.05493633449077606, 0.998580813407898, 0.9995274543762207, 0.23933786153793335, 0.049462199211120605, 0.05462537333369255, 0.2371286302804947, 0.26922470331192017, 0.00912987906485796, 0.028020139783620834, 0.05630836635828018, 0.0567651093006134, 0.01849556714296341, 0.056887149810791016, 0.03827085345983505, 0.013135232962667942, 0.03858474642038345, 0.010648231022059917, 0.7779728174209595, 0.018664587289094925, 0.02735702134668827, 0.010827398858964443, 0.09616593271493912, 0.012515542097389698, 0.013330508023500443, 0.01565898023545742, 0.009604951366782188, 0.8238137364387512, 0.015076862648129463, 0.002910591196268797, 0.012827211059629917, 0.1127590611577034, 0.873685896396637, 0.0007177681545726955, 0.9998697638511658, 0.9990257620811462, 0.9327446818351746, 0.06659525632858276, 0.08524766564369202, 0.7428724765777588, 0.004311754368245602, 0.15749423205852509, 0.010071732103824615, 0.9990079402923584, 0.0015840064734220505, 0.932510495185852, 0.046405524015426636, 0.0011733381543308496, 0.018304074183106422, 0.9990527629852295, 0.9953025579452515, 0.004343928303569555, 0.9956446886062622, 0.003676679218187928, 0.10979843139648438, 0.148350328207016, 0.04167674854397774, 0.0021437909454107285, 0.2290658801794052, 0.02310933917760849, 0.271869033575058, 0.12419453263282776, 0.04978681728243828, 0.1930616945028305, 0.04306846857070923, 0.0031251495238393545, 0.028224006295204163, 0.093349888920784, 0.5355864763259888, 0.052960123866796494, 0.05058835819363594, 0.9993130564689636, 0.06623072922229767, 0.9289655685424805, 0.004627474583685398, 0.04982957988977432, 0.17840731143951416, 0.22151395678520203, 0.0011704455828294158, 0.07460876554250717, 0.4729313850402832, 0.0015272886957973242, 0.025640055537223816, 0.06024662032723427, 0.14910288155078888, 0.4510754942893982, 0.007117744069546461, 0.07614599913358688, 0.2306680679321289, 0.9989423751831055, 0.9995588660240173, 0.9984000325202942, 0.99967360496521, 0.9996331930160522, 0.9998101592063904, 0.0022810972295701504, 0.8185305595397949, 0.08629832416772842, 0.07905248552560806, 0.013750480487942696, 8.306516974698752e-05, 0.9992976784706116, 0.9991244673728943, 0.9984581470489502, 0.9992206692695618, 0.002823469927534461, 0.013090633787214756, 0.9320017695426941, 0.05184917524456978, 0.9985518455505371, 0.998489260673523, 0.9223266839981079, 0.03136724978685379, 0.020911499857902527, 0.02544540911912918, 0.9970411658287048, 0.9981037974357605, 0.002254249295219779, 0.004243292845785618, 0.011403849348425865, 0.04137210175395012, 0.9405523538589478, 0.004962070379406214, 0.010707625187933445, 0.01619201898574829, 0.047792572528123856, 0.9203334450721741, 0.008086402900516987, 0.9870714545249939, 0.0047723036259412766, 0.9983817338943481, 0.9995638132095337, 0.0004363764019217342, 0.1646745502948761, 0.0012575696455314755, 0.022871000692248344, 0.01068095862865448, 0.21739187836647034, 0.4742211401462555, 0.10588736832141876, 0.0030181671027094126, 0.999957799911499, 0.03806709125638008, 0.9616245031356812, 0.9984163641929626, 0.9989078044891357, 0.9985108971595764, 0.9969731569290161, 0.002585511188954115, 0.8658456802368164, 0.10839568823575974, 0.024139966815710068, 0.0015326963039115071, 8.514978981111199e-05, 0.9974524974822998, 0.002405818784609437, 0.04881216213107109, 0.9511851072311401, 0.9886777997016907, 0.011270116083323956, 0.9994341731071472, 0.9461654424667358, 0.017881743609905243, 0.031246965751051903, 0.0046086967922747135, 0.9994462132453918, 0.0018802940612658858, 0.051342472434043884, 0.946780264377594, 0.10650761425495148, 0.05520876497030258, 0.052125949412584305, 0.1465090662240982, 0.33921027183532715, 0.043573006987571716, 0.02441817708313465, 0.04616082087159157, 0.18456809222698212, 0.0017231201054528356, 0.9989100098609924, 0.0040779709815979, 0.04825599119067192, 0.8850167989730835, 0.04553734511137009, 0.015243844129145145, 0.0018447964685037732, 0.005139673128724098, 0.881729245185852, 0.08076629042625427, 0.031388718634843826, 0.0010095785837620497, 0.03918885812163353, 0.06929044425487518, 0.019121132791042328, 0.862628161907196, 0.009655226022005081, 0.9988560080528259, 0.9989008903503418, 0.9980782866477966, 0.9971959590911865, 0.0027109994553029537, 0.9996922016143799, 0.9987814426422119, 0.9192335605621338, 0.015694981440901756, 0.03800647705793381, 0.022542301565408707, 0.004385362379252911, 0.1779760867357254, 0.0256461501121521, 0.7963758707046509, 0.9991390109062195, 0.0007502920925617218, 0.9990545511245728, 0.000659006938803941, 0.9997676014900208, 0.0038791890256106853, 0.04544192925095558, 0.9504013061523438, 0.005919845309108496, 0.9711365699768066, 0.0228336900472641, 0.9287450313568115, 0.010856812819838524, 0.03851893171668053, 0.021843647584319115, 0.39050599932670593, 0.023329822346568108, 0.04396176338195801, 0.4182334542274475, 0.05248577147722244, 0.061205070465803146, 0.01028161309659481, 0.9987797737121582, 0.9986961483955383, 0.10328403860330582, 0.04598879814147949, 0.8143416047096252, 0.036416467279195786, 0.879649817943573, 0.016911055892705917, 0.10215377062559128, 0.0012373942881822586, 0.9986366629600525, 0.9986702799797058, 0.9998381733894348, 0.22186976671218872, 0.07203131914138794, 0.05741791054606438, 0.04987306892871857, 0.36960655450820923, 0.02343588136136532, 0.08471693098545074, 0.12090647220611572, 0.00015119924501050264, 0.04872719943523407, 0.8273472785949707, 0.029100967571139336, 0.04200183227658272, 0.003383833449333906, 0.009813116863369942, 0.012054906226694584, 0.02529415488243103, 0.002284087473526597, 0.0006020027794875205, 0.601826548576355, 0.0003377088578417897, 0.24514727294445038, 0.11022523790597916, 0.019954189658164978, 0.021319707855582237, 0.0005873197806067765, 0.30086660385131836, 0.01892966218292713, 0.03275717422366142, 0.09812723100185394, 0.11094874143600464, 0.20742067694664001, 0.1180749163031578, 0.09054414182901382, 0.022252272814512253, 8.01594796939753e-05, 0.04560951888561249, 0.07319570332765579, 0.5632224678993225, 0.17815406620502472, 0.004956192336976528, 0.06090829148888588, 0.03728347271680832, 0.03579571843147278, 0.0008872749749571085, 0.7736127376556396, 0.0024249947164207697, 0.0032924723345786333, 0.009837985970079899, 0.19691744446754456, 0.00037459266604855657, 0.0022278407122939825, 0.0008477623341605067, 0.010488594882190228, 0.9995117783546448, 0.007752106990665197, 0.0124732106924057, 0.8500639200210571, 0.032279495149850845, 0.002779584378004074, 0.0006844202871434391, 0.09397509694099426, 0.9682930707931519, 0.031674616038799286, 0.03171636164188385, 0.9248127937316895, 0.04336221516132355, 0.13251513242721558, 0.16266277432441711, 0.06832488626241684, 0.320258766412735, 0.0032624434679746628, 0.0104997418820858, 0.2988930940628052, 0.0035820298362523317, 0.10851282626390457, 0.528761088848114, 0.02884089946746826, 0.015105526894330978, 0.13655869662761688, 0.030718518421053886, 0.028604082763195038, 0.022582171484827995, 0.10032573342323303, 0.7682720422744751, 0.033059339970350266, 0.021647712215781212, 0.033791281282901764, 0.018864119425415993, 0.027536511421203613, 0.05008251592516899, 0.03971334919333458, 0.005445198155939579, 0.0015747824218124151, 0.1616639643907547, 0.11124972999095917, 0.08506915718317032, 0.1085665374994278, 0.0994337797164917, 0.07650277018547058, 0.13886038959026337, 0.02720712125301361, 0.18858790397644043, 0.002860181499272585, 0.9982694983482361, 0.9860039949417114, 0.002433075802400708, 0.002433075802400708, 0.009063207544386387, 0.9832730293273926, 0.01667918637394905, 0.16726866364479065, 0.14971473813056946, 0.024504365399479866, 0.0375552736222744, 0.16987884044647217, 0.0511607751250267, 0.2522713840007782, 0.0503469742834568, 0.09730011224746704, 0.08901043981313705, 0.05798601359128952, 0.012409770861268044, 0.37345969676971436, 3.016962182300631e-05, 0.3666916489601135, 0.09142401069402695, 0.008980490267276764, 0.018726205453276634, 0.0364987850189209, 0.33217036724090576, 0.0392424538731575, 0.012215984985232353, 0.265421986579895, 0.0514318011701107, 0.1500120908021927, 0.09427565336227417, 0.004117148462682962, 0.015401184558868408, 0.011284036561846733, 0.0256178118288517, 0.004879583138972521, 0.0731937512755394, 0.8620088696479797, 0.0033547135535627604, 0.006123830564320087, 0.04887399822473526, 0.0007581885438412428, 0.14026488363742828, 0.020879346877336502, 0.011081216856837273, 0.017788270488381386, 0.7541643381118774, 0.04685737565159798, 0.05924394354224205, 0.07528917491436005, 0.0171472430229187, 0.0021599354222416878, 0.11275744438171387, 0.6621304154396057, 0.024376414716243744, 0.9997037649154663, 0.12658216059207916, 0.11149469017982483, 0.01139459665864706, 0.1392694115638733, 0.14442092180252075, 0.27309367060661316, 0.09581674635410309, 0.03183784335851669, 0.0652141124010086, 0.0008777350303716958, 0.9993918538093567, 0.9969988465309143, 0.053286127746105194, 0.008002170361578465, 0.030250979587435722, 0.0471804253757, 0.18210719525814056, 0.0033766382839530706, 0.6744951009750366, 0.0012488936772570014, 0.9995935559272766, 0.016644135117530823, 0.9828799962997437, 0.0027988587971776724, 0.6051192283630371, 0.18986833095550537, 0.007339560426771641, 0.1639416664838791, 0.022993816062808037, 0.007942506112158298, 0.9996079802513123, 0.9994249939918518, 0.9921107888221741, 0.0001837582531152293, 0.007717846427112818, 0.03446502611041069, 0.9538257122039795, 0.002493214560672641, 0.009190673008561134, 0.9968372583389282, 0.005818232893943787, 0.011959700845181942, 0.9810187220573425, 0.0012929405784234405, 0.9992901682853699, 0.999436616897583, 0.05440814793109894, 0.025258734822273254, 0.008142484351992607, 0.05275239422917366, 0.21960178017616272, 0.510230541229248, 0.06574629992246628, 0.06116743013262749, 0.0026982624549418688, 0.99912029504776, 0.9957324862480164, 0.0017180496361106634, 0.002208920894190669, 0.9989039301872253, 0.9413375854492188, 0.05341650918126106, 0.005136203020811081, 0.007625517901033163, 0.9626630544662476, 0.006494790315628052, 0.022531820461153984, 0.0006756787770427763, 0.14492690563201904, 0.1404353678226471, 0.03640639781951904, 0.000573918514419347, 0.14357943832874298, 0.5339438319206238, 0.00014971787459217012, 0.007082503754645586, 0.8145617246627808, 0.17831678688526154, 0.9986762404441833, 0.002670472953468561, 0.9966205358505249, 0.9962623119354248, 0.003573679132387042, 0.9973382353782654, 0.0024948306381702423, 0.018258119001984596, 0.9138423204421997, 0.06778912246227264, 0.004839740693569183, 0.000681653618812561, 0.05146484449505806, 0.009406819939613342, 0.0030674412846565247, 0.049079060554504395, 0.8569067120552063, 0.024539530277252197, 0.10251837223768234, 0.057005155831575394, 0.10614937543869019, 0.048138875514268875, 0.1060691624879837, 0.2719402611255646, 0.11667340993881226, 0.1352081000804901, 0.05608537420630455, 0.00020855545881204307, 0.08363495022058487, 0.003223882522433996, 0.01424398086965084, 0.031148698180913925, 0.21556614339351654, 0.2416413575410843, 0.02775948867201805, 0.34752318263053894, 0.03525088354945183, 0.05848968029022217, 0.005452560726553202, 0.010356731712818146, 0.20689177513122559, 0.08615202456712723, 0.044082701206207275, 0.5420205593109131, 0.04387901350855827, 0.0026714412961155176, 0.1789797842502594, 0.04421227052807808, 0.10648660361766815, 0.04142030328512192, 0.056421004235744476, 0.30959609150886536, 0.10124554485082626, 0.11508292704820633, 0.04649604856967926, 6.122735067037866e-05, 0.9994992017745972, 0.16814835369586945, 0.22674937546253204, 0.058401837944984436, 0.08014246076345444, 0.1832633912563324, 0.08671112358570099, 0.03240225464105606, 0.06053131818771362, 0.1036473736166954, 0.06608520448207855, 0.296907901763916, 0.10073991864919662, 0.24972736835479736, 0.08442544937133789, 0.0915079414844513, 0.006780943367630243, 0.038520704954862595, 0.06529653817415237, 0.5384520888328552, 0.003638054244220257, 0.39669865369796753, 0.05377687141299248, 0.007426856551319361, 0.3033393323421478, 0.05222539231181145, 0.0014742215862497687, 0.33333462476730347, 0.2582223117351532, 0.031630080193281174, 0.019777921959757805, 0.9992114305496216, 0.037456247955560684, 0.24453920125961304, 0.04045547544956207, 0.056099168956279755, 0.6214533448219299, 0.9989303350448608, 0.9993160963058472, 0.99971604347229, 0.2785826623439789, 0.035608261823654175, 0.03567738085985184, 0.06439270824193954, 0.10387785732746124, 0.17803503572940826, 0.15853123366832733, 0.10700072348117828, 0.037028320133686066, 0.0012629717821255326, 0.08134794235229492, 0.08131729811429977, 0.1413034051656723, 0.0984707772731781, 0.04836886376142502, 0.10138530284166336, 0.2080923467874527, 0.17295120656490326, 0.06524314731359482, 0.0015219541965052485, 0.9990407824516296, 0.07559634000062943, 0.009838506579399109, 0.7964156866073608, 0.0023337851744145155, 0.00782504491508007, 0.013087501749396324, 0.07417776435613632, 0.020637983456254005, 0.9996534585952759, 0.017608167603611946, 0.002367484848946333, 0.009617906995117664, 0.8355741500854492, 0.0035512272734194994, 0.049273278564214706, 0.08197416365146637, 0.01456594280898571, 0.8444954752922058, 0.08200543373823166, 0.057523127645254135, 0.001398988883011043, 0.9970712065696716, 0.0029061429668217897, 0.9999507665634155, 0.9993728995323181, 0.130117267370224, 0.1437768191099167, 0.15397942066192627, 0.3288748562335968, 0.013449687510728836, 0.08728338032960892, 0.02441851794719696, 0.11804164946079254, 5.741806671721861e-05, 0.06061222031712532, 0.03148994222283363, 0.9077627062797546, 0.1027006283402443, 0.04245878383517265, 0.8548276424407959, 0.028640296310186386, 0.007146062329411507, 0.1601978987455368, 0.06891045719385147, 0.015903491526842117, 0.12522423267364502, 0.5557814836502075, 0.03816837817430496, 0.9995954036712646, 0.9985702037811279, 0.05851445719599724, 0.02941380813717842, 0.03813588619232178, 0.0315595306456089, 0.07548306882381439, 0.03339209780097008, 0.5906538963317871, 0.07447399944067001, 0.06770047545433044, 0.0006959103047847748, 0.9970217943191528, 0.002828122116625309, 0.02080029435455799, 0.01765403151512146, 0.007341280579566956, 0.09840811789035797, 0.8545600175857544, 0.0012235468020662665, 0.07813535630702972, 0.035581521689891815, 0.048616714775562286, 0.0015157198067754507, 0.02463044784963131, 0.7135630249977112, 0.09791550040245056, 0.9919751882553101, 0.007904184982180595, 0.005759820342063904, 0.040396928787231445, 0.8583695888519287, 0.022457217797636986, 0.006932634394615889, 0.03801655024290085, 0.028069350868463516, 0.7634236216545105, 0.04516018182039261, 0.0063707553781569, 0.0171351358294487, 0.0050212848000228405, 0.15189386904239655, 0.011015444062650204, 0.030929643660783768, 0.9664157032966614, 0.002532251412048936, 0.998551607131958, 0.9985613822937012, 0.9956300258636475, 0.9993036985397339, 0.048631392419338226, 0.04775302857160568, 0.12592746317386627, 0.03813386708498001, 0.0003856233670376241, 0.7018774151802063, 0.028214776888489723, 0.009062149561941624, 0.9994894862174988, 0.9996260404586792, 0.9996774196624756, 0.9988940954208374, 0.9986690282821655, 0.0019013079581782222, 0.8645431399345398, 0.02410367876291275, 0.017326435074210167, 0.03854748606681824, 0.011162517592310905, 0.0424114353954792, 0.9396589994430542, 0.008556080982089043, 0.03603620082139969, 0.0021138552110642195, 0.013589069247245789, 0.11554298549890518, 0.8724044561386108, 0.011875486001372337, 0.00016904606309253722, 0.1476866751909256, 0.06100831180810928, 0.09552443772554398, 0.3071001470088959, 0.030948102474212646, 0.11983305215835571, 0.14744991064071655, 0.08952949941158295, 0.0009174923761747777, 0.9986312389373779, 0.9993953108787537, 0.9986380338668823, 0.9995577931404114, 0.9992867112159729, 0.1473311483860016, 0.8059820532798767, 0.046522948890924454, 0.00015270113362930715, 0.9996174573898315, 0.9913141131401062, 0.00794273242354393, 0.0006109794485382736, 0.9611097574234009, 0.038817521184682846, 0.05427387356758118, 0.9456971287727356, 0.9995473027229309, 0.9684156179428101, 0.03131929785013199, 0.0002558292471803725, 0.30365103483200073, 0.07607265561819077, 0.09094730019569397, 0.024303779006004333, 0.059279292821884155, 0.025582924485206604, 0.41990718245506287, 0.2448015660047531, 0.001295520574785769, 0.07078724354505539, 0.08656668663024902, 0.037777379155159, 0.027257753536105156, 0.5315262079238892, 0.044051192700862885, 0.6250107884407043, 0.18295817077159882, 0.02411196008324623, 0.030261922627687454, 0.04967474937438965, 0.04154755175113678, 0.0023880854714661837, 0.17111855745315552, 0.19438989460468292, 0.010287471115589142, 0.6112273931503296, 0.01298387162387371, 0.8049191832542419, 0.05118544027209282, 0.11925390362739563, 0.02462213858962059, 0.09029609709978104, 0.8680939078330994, 0.04159877449274063, 0.0187549889087677, 0.012333945371210575, 0.9688383340835571, 0.999334454536438, 0.9990221858024597, 0.07761514186859131, 0.058505214750766754, 0.002644718624651432, 8.264745702035725e-05, 0.1455146223306656, 0.02169954963028431, 0.6318030953407288, 0.04195735976099968, 0.020175162702798843, 0.08654838800430298, 0.004178198054432869, 0.001364309573546052, 0.014069441705942154, 0.8455308079719543, 0.03402246907353401, 0.01330201793462038, 0.001023232121951878, 0.9995747208595276, 0.9987676739692688, 0.4518711268901825, 0.04767826572060585, 0.0225557591766119, 0.006750904954969883, 0.07565760612487793, 0.20407423377037048, 0.10228324681520462, 0.05184484273195267, 0.037288203835487366, 0.01660950295627117, 0.0437246598303318, 0.017137719318270683, 0.04748087376356125, 0.8688589334487915, 0.006103845313191414, 0.030059460550546646, 0.03350239247083664, 0.9310928583145142, 0.005296821240335703, 0.3095410466194153, 0.17655731737613678, 0.11435861885547638, 0.02367257885634899, 0.19532686471939087, 0.08173058182001114, 0.09880693256855011, 0.004006099887192249, 0.01010134071111679, 0.18164047598838806, 0.052044861018657684, 0.550029456615448, 0.12247875332832336, 0.02976451814174652, 0.04994424432516098, 0.9993410706520081, 0.003050838131457567, 0.013510854914784431, 0.026476917788386345, 0.004794174339622259, 0.01329293753951788, 0.8920432925224304, 0.04314756765961647, 0.0035956306383013725, 0.0713101476430893, 0.09203167259693146, 0.010147672146558762, 0.10894062370061874, 0.3652931749820709, 0.040671318769454956, 0.03388700634241104, 0.277719110250473, 0.01668623276054859, 0.03434417024254799, 0.15819662809371948, 0.32315537333488464, 0.004101866390556097, 0.42767730355262756, 0.030090970918536186, 0.0057505774311721325, 0.001848061685450375, 0.0729072242975235, 0.651295006275177, 0.25775304436683655, 0.012460536323487759, 0.003378859721124172, 0.0003608875849749893, 0.9995273947715759, 0.1727343648672104, 0.10819340497255325, 0.08773092925548553, 0.3150402307510376, 0.1424103081226349, 0.0005597002455033362, 0.09651488065719604, 0.008842429146170616, 0.062477584928274155, 0.005496758036315441, 0.6528786420822144, 0.06839558482170105, 0.010037356987595558, 0.05028329789638519, 0.1760237216949463, 0.011420710943639278, 0.006691571790724993, 0.010342981666326523, 0.013720938935875893, 0.00019302610598970205, 0.998569905757904, 0.10898457467556, 0.8536459803581238, 0.010379483923316002, 0.005455882288515568, 0.021557388827204704, 0.9992527365684509, 0.9937944412231445, 0.002261193236336112, 0.003768655238673091, 0.9982702136039734, 0.015566305257380009, 0.017170242965221405, 0.18759311735630035, 0.04373883828520775, 0.03365565836429596, 0.31097015738487244, 0.2863163948059082, 0.10361617058515549, 0.0005721912602894008, 0.000797463406343013, 0.047317031770944595, 0.8991506099700928, 0.005144536029547453, 0.008193150162696838, 0.01213094312697649, 0.0063512795604765415, 0.00920935533940792, 0.0036837419029325247, 0.008828278630971909, 0.999303936958313, 0.9888318777084351, 0.010549020022153854, 0.9968847632408142, 0.0014614538522437215, 0.001547421794384718, 0.9738441109657288, 0.005845815408974886, 0.017279542982578278, 0.2779826819896698, 0.08050024509429932, 0.0493520088493824, 0.06489701569080353, 0.10194822400808334, 0.18213795125484467, 0.1517142504453659, 0.060174647718667984, 0.031232336536049843, 5.822100865771063e-05, 0.08300843089818954, 0.91680508852005, 0.0539093092083931, 0.015254311263561249, 0.5674173831939697, 0.2657329738140106, 0.016847778111696243, 0.005693510640412569, 0.002560289343819022, 0.06526052206754684, 0.007340689655393362, 0.9662931561470032, 0.007802960462868214, 0.02468283288180828, 0.0011147086042910814, 0.9995797872543335, 0.9997382760047913, 0.9990198612213135, 0.154472216963768, 0.04088713601231575, 0.23105846345424652, 0.3692184388637543, 0.0008137015393003821, 0.19011124968528748, 0.013434266671538353, 0.9995676279067993, 0.015081742778420448, 0.8796236515045166, 0.0003100049798376858, 0.10000760853290558, 0.001162518747150898, 0.0025420410092920065, 0.0012710205046460032, 0.01475466787815094, 0.9831973910331726, 0.9967153072357178, 0.02465016208589077, 0.0205799862742424, 0.014703841879963875, 0.23225601017475128, 0.03239966556429863, 1.3477398169925436e-05, 0.0008355986792594194, 0.6188955903053284, 0.05564817786216736, 0.042975299060344696, 0.9565073847770691, 0.14918041229248047, 0.02867925725877285, 0.8219404220581055, 0.0001896434259833768, 0.003497170750051737, 0.1176646500825882, 0.033016595989465714, 0.04695020616054535, 0.7988418936729431, 0.06753720343112946, 0.07552783191204071, 0.03305710852146149, 0.012113642878830433, 0.8117600083351135, 0.9988175630569458, 0.014273417182266712, 0.6783598065376282, 0.027444295585155487, 0.03794822096824646, 0.044533658772706985, 0.006481144577264786, 0.13582095503807068, 0.05295169726014137, 0.002190179890021682, 0.9998981952667236, 0.9997896552085876, 0.0016445209039375186, 0.9983416199684143, 0.004006063099950552, 0.9959073066711426, 0.9982710480690002, 0.28242912888526917, 0.10087068378925323, 0.0510597825050354, 0.014867333695292473, 0.11549326777458191, 0.19685880839824677, 0.0838695839047432, 0.09114949405193329, 0.06339797377586365, 0.00865404587239027, 0.011600104160606861, 0.04271784424781799, 0.9362940788269043, 0.0005523858708329499, 0.9996892213821411, 0.07931552082300186, 0.009344483725726604, 0.002702019177377224, 0.8120130896568298, 0.0028708954341709614, 0.09372629225254059, 0.006010608747601509, 0.8742202520370483, 9.534069249639288e-05, 0.005877960938960314, 0.07381027191877365, 0.006404407322406769, 0.004501738585531712, 0.029074765741825104, 0.9995871782302856, 0.9417083859443665, 0.0009932469110935926, 0.05727723613381386, 0.9997073411941528, 0.9968721866607666, 0.0027358413208276033, 0.23554277420043945, 0.06200685352087021, 0.03952569514513016, 0.06792346388101578, 0.18089249730110168, 0.14303207397460938, 0.1367432326078415, 0.06254071742296219, 0.07179276645183563, 0.013050638139247894, 0.032851606607437134, 0.9540466070175171, 0.9995914697647095, 0.9993982315063477, 0.007658194284886122, 0.012721463106572628, 0.979552686214447, 0.27542850375175476, 0.32945510745048523, 0.3940006494522095, 0.0003519648453220725, 0.0007599241216666996, 0.21829412877559662, 0.7693485021591187, 0.012340214103460312, 0.08818167448043823, 0.8931693434715271, 0.01862221769988537, 0.008329714648425579, 0.9847573041915894, 0.006478666793555021, 0.11745462566614151, 0.10805132240056992, 0.11235569417476654, 0.1423996537923813, 0.16534633934497833, 0.08953745663166046, 0.0898570716381073, 0.08409501612186432, 0.09090553224086761, 0.993779182434082, 0.03731144592165947, 0.014752599410712719, 0.15514414012432098, 0.15408270061016083, 0.08245601505041122, 0.0037754829972982407, 0.18233835697174072, 0.3701317012310028, 0.023517996072769165, 0.10056576132774353, 0.002193843014538288, 0.028168944641947746, 0.8451560735702515, 0.00043876859126612544, 0.9980069398880005, 0.9985977411270142, 0.0110717061907053, 0.9459719061851501, 0.04283696040511131, 0.9953386187553406, 0.004565773531794548, 0.9993890523910522, 0.12643961608409882, 0.12833411991596222, 0.1271156370639801, 0.09684523940086365, 0.17054742574691772, 0.021519772708415985, 0.04725002497434616, 0.26905348896980286, 0.012714901939034462, 0.0001752628304529935, 0.12068324536085129, 0.10358186811208725, 0.011302148923277855, 0.016889728605747223, 0.01498487126082182, 0.7325231432914734, 0.051958709955215454, 0.07864970713853836, 0.00028114282758906484, 0.8566773533821106, 0.004990285262465477, 0.0018449998460710049, 0.005605285055935383, 0.596518337726593, 0.0067544253543019295, 0.09001384675502777, 0.1160251572728157, 0.18815623223781586, 0.002535328734666109, 0.8498777747154236, 0.10282951593399048, 0.03814714774489403, 0.009139420464634895, 0.0006107564549893141, 0.6716600060462952, 0.08585014939308167, 0.22489164769649506, 0.007701084017753601, 0.00796759594231844, 0.000582994834985584, 0.0007384601049125195, 0.06151353195309639, 0.13388453423976898, 0.7899441123008728, 0.014633974991738796, 0.002899973653256893, 0.03343499079346657, 0.9514756202697754, 0.012168516404926777, 0.035952143371105194, 0.9637773633003235, 0.0016994167817756534, 0.026826508343219757, 0.01747971586883068, 0.9539797902107239, 0.1373552680015564, 0.4116266965866089, 0.023138377815485, 0.08008918911218643, 0.08337698131799698, 0.02304830215871334, 0.17623449862003326, 0.02463589794933796, 0.0396786592900753, 0.0008219472365453839, 0.1784178912639618, 0.1693991720676422, 0.07075627148151398, 0.10745565593242645, 0.22339321672916412, 0.027619309723377228, 0.04080996662378311, 0.10046154260635376, 0.08168347924947739, 0.00877038948237896, 0.9467008709907532, 0.044520165771245956, 0.1977810561656952, 0.09454616904258728, 0.04046061635017395, 0.28144311904907227, 0.11430457979440689, 0.06544041633605957, 0.09857027232646942, 0.009297545067965984, 0.09815609455108643, 0.0010932121658697724, 0.02767648920416832, 0.964796245098114, 0.0016033778665587306, 0.003133875085040927, 0.001694478909485042, 0.9987633228302002, 0.08475552499294281, 0.05196963623166084, 0.14887596666812897, 0.11675572395324707, 0.07248468697071075, 0.2577039301395416, 0.11121229827404022, 0.10912259668111801, 0.0471191368997097, 0.02417019195854664, 0.1809132993221283, 0.0038343346677720547, 0.07948500663042068, 0.16945835947990417, 0.045926570892333984, 0.41913869976997375, 0.06098087131977081, 0.015390741638839245, 0.0006995791336521506, 0.04747048392891884, 0.06319600343704224, 0.02689504250884056, 0.8622580170631409, 0.03463592007756233, 0.0020813087467104197, 0.06609731912612915, 0.6454737186431885, 0.008913887664675713, 0.22188536822795868, 0.011914966627955437, 0.008898120373487473, 9.460494038648903e-05, 0.0715136006474495, 0.0007878185715526342, 0.011385248973965645, 0.6775748133659363, 0.2329401671886444, 0.005590970627963543, 0.00020330802362877876, 0.18628619611263275, 0.0011807756964117289, 0.00396941602230072, 0.8040831089019775, 0.001155652804300189, 0.003316221060231328, 0.9990346431732178, 0.0018417676910758018, 0.02577309124171734, 0.08010134845972061, 0.2214006781578064, 0.4231325089931488, 0.17058886587619781, 0.04521656036376953, 0.03157038614153862, 0.00037301622796803713, 0.999130368232727, 0.009174345061182976, 6.717194992233999e-06, 0.0058130607940256596, 0.16347771883010864, 0.552928626537323, 0.19603730738162994, 0.048499491065740585, 0.012566528283059597, 0.008289018645882607, 0.0032067890278995037, 0.0023632366210222244, 0.17036978900432587, 0.01198398694396019, 0.023597408086061478, 0.29331400990486145, 0.15110032260417938, 0.19463840126991272, 0.047600340098142624, 0.10479346662759781, 0.00023772202257532626, 0.9980758428573608, 0.998831570148468, 0.9998452067375183, 0.10035292059183121, 0.8386420607566833, 0.05926845967769623, 0.0017236911226063967, 0.1039586141705513, 0.8643168807029724, 0.031116561964154243, 0.0006103462656028569, 0.019315756857395172, 0.04232081398367882, 0.7305823564529419, 0.1336941421031952, 0.016354208812117577, 0.05623907223343849, 0.0014858273789286613, 0.9305733442306519, 0.006623297929763794, 0.06255336850881577, 0.9997516870498657, 0.06872784346342087, 0.4732579290866852, 0.04714958742260933, 0.01726544462144375, 0.05137002840638161, 0.0006678813952021301, 0.2273923009634018, 0.10286084562540054, 0.010067957453429699, 0.0012505013728514314, 0.0033664985094219446, 0.972341001033783, 0.016832493245601654, 0.006732997018843889, 0.0005771140567958355, 0.9338754415512085, 0.0009680140647105873, 0.042721688747406006, 0.007034235633909702, 0.0009034798131324351, 0.0131004573777318, 0.0014197540003806353, 0.9956169128417969, 0.05316130444407463, 0.6687139868736267, 0.2362818568944931, 0.020622191950678825, 0.013973507098853588, 0.007254390977323055, 0.023308997973799706, 0.924018383026123, 0.008519024588167667, 0.04413327947258949, 0.013486198149621487, 0.9011232256889343, 0.019116798415780067, 0.06625037640333176, 0.9467992186546326, 0.009859379380941391, 0.043022748082876205, 0.9982378482818604, 0.06483135372400284, 0.8172338008880615, 0.11767018586397171, 0.00025625040871091187, 0.9990473985671997, 0.05128999426960945, 0.7097123265266418, 0.17119473218917847, 0.0004652774368878454, 0.05966499075293541, 0.002216910244897008, 0.0054738521575927734, 0.0016836472786962986, 0.06791490316390991, 0.6243603229522705, 0.16194193065166473, 0.012229826301336288, 0.1045965850353241, 0.006750178523361683, 0.02019597217440605, 0.0003351705090608448, 0.9989867210388184, 0.04539376124739647, 0.8707731366157532, 0.055187519639730453, 0.011986837722361088, 0.012317301705479622, 0.0036351061426103115, 0.0006909705698490143, 0.9997532367706299, 0.0806431919336319, 0.21020537614822388, 0.08009061962366104, 0.007573504466563463, 0.6174843907356262, 0.004030534531921148, 0.9993724226951599, 0.001310699968598783, 0.9809994101524353, 0.0056002638302743435, 0.0021447818726301193, 0.009770672768354416, 0.9994221329689026, 0.9988178014755249, 0.03349582105875015, 0.0038727272767573595, 0.03592263162136078, 0.03953378647565842, 0.20197035372257233, 0.1909116506576538, 0.015454579144716263, 0.381634384393692, 0.09719600528478622, 0.06215531378984451, 0.7970924973487854, 0.022566990926861763, 0.016993878409266472, 0.02811264991760254, 0.0059025585651397705, 0.023143520578742027, 0.01847638003528118, 0.023582780733704567, 0.0019492169376462698, 0.9767476320266724, 0.022436775267124176, 0.999760627746582, 0.07726183533668518, 0.5667529702186584, 0.050517354160547256, 0.0594705231487751, 0.05784093216061592, 0.0060007330030202866, 0.09271420538425446, 0.07083932310342789, 0.018596520647406578, 0.9990752339363098, 0.9993221759796143, 0.9993094205856323, 0.9958385825157166, 0.9998449683189392, 0.4676430821418762, 0.16025298833847046, 0.0012722096871584654, 0.038166292011737823, 0.000166598882060498, 0.31870368123054504, 0.013812562450766563, 0.18070363998413086, 0.07440967857837677, 0.0055838958360254765, 0.4371093213558197, 0.03284013643860817, 0.18948182463645935, 0.035132214426994324, 0.010733759962022305, 0.03400568291544914, 0.9979240298271179, 0.07662367820739746, 0.08557900786399841, 0.03828534483909607, 0.7994880676269531, 0.0030706662219017744, 0.14644287526607513, 0.004466423764824867, 0.013678423129022121, 0.8323180675506592, 0.05238233134150505, 0.004157328046858311, 0.005939039867371321, 0.03824741765856743, 0.8991706371307373, 0.9995532035827637, 0.9979853630065918, 0.11738055944442749, 0.7344323992729187, 0.02822520211338997, 0.11037235707044601, 0.009564138948917389, 0.14986315369606018, 0.8501153588294983, 0.9984979033470154, 0.008260169066488743, 0.02335634082555771, 0.9470711350440979, 0.021362505853176117, 0.9468905329704285, 0.05208583176136017, 0.0010030620032921433, 0.9987078309059143, 0.9995648860931396, 0.8103969097137451, 0.011844338849186897, 0.02286386303603649, 0.0004948888090439141, 0.026361076161265373, 0.021181240677833557, 0.10686298459768295, 0.9937967658042908, 0.0049076383002102375, 0.9993441700935364, 0.23642167448997498, 0.11621745675802231, 0.08361639082431793, 0.00031593095627613366, 0.07185173034667969, 0.03752056136727333, 0.10917671024799347, 0.3398965895175934, 0.00496462918817997, 0.013869012705981731, 0.011445302516222, 0.0008079036488197744, 0.007809735368937254, 0.965983510017395, 0.9994544386863708, 0.2074577659368515, 0.20401689410209656, 0.013883483596146107, 0.01171150989830494, 0.05677424371242523, 0.17775888741016388, 0.2841227054595947, 0.0013374784030020237, 0.04294220358133316, 0.021694445982575417, 0.06455942988395691, 0.2806068956851959, 0.5055528283119202, 0.022567620500922203, 0.011978382244706154, 0.04488122835755348, 0.017169808968901634, 0.03098979778587818, 0.7345518469810486, 0.15490113198757172, 0.014861011877655983, 0.07696390151977539, 0.018706833943724632, 0.0077683161944150925, 0.2468201071023941, 0.6220178604125977, 0.010357755236327648, 0.10530023276805878, 0.0008884266717359424, 0.0063706692308187485, 0.0004767167556565255, 0.024065501987934113, 0.011698507703840733, 0.007604030426591635, 0.9506708979606628, 0.005932814907282591, 0.26766344904899597, 0.53947514295578, 0.0028788328636437654, 0.16897842288017273, 0.0020174498204141855, 0.005961677525192499, 0.0001020058844005689, 0.011526664718985558, 0.001394080463796854, 0.05389570817351341, 0.03876786306500435, 0.04525122418999672, 0.010011723265051842, 0.7340313196182251, 0.02211841009557247, 0.01808284781873226, 0.07625669240951538, 0.001587762264534831, 0.9998358488082886, 0.011549674905836582, 0.7869048118591309, 0.09223342686891556, 0.004334970843046904, 0.07627703994512558, 0.00039967818884178996, 0.027895487844944, 0.00040992634603753686, 0.00973047036677599, 0.03709741681814194, 0.952369749546051, 0.9989683628082275, 0.9995124936103821, 0.9992069602012634, 0.3327906131744385, 0.033380646258592606, 0.04862625524401665, 0.00994897447526455, 0.05670164152979851, 0.1909436285495758, 0.2573491632938385, 0.0702594444155693, 0.9985536336898804, 0.19047309458255768, 0.8094046115875244, 0.9996429681777954, 0.9997367262840271, 0.0025996495969593525, 0.09973201155662537, 0.18008482456207275, 0.032141122967004776, 0.6853621602058411, 0.9807447791099548, 0.007914550602436066, 0.006155761890113354, 0.005276367533951998, 0.9986257553100586, 0.997582197189331, 0.9988977909088135, 0.9994779825210571, 0.9974470138549805, 0.013569798320531845, 0.04402516782283783, 0.0382557213306427, 0.20988838374614716, 0.01948845200240612, 0.03761743754148483, 0.6335694789886475, 0.003581034019589424, 0.0028868147637695074, 0.9900170564651489, 0.006896279752254486, 0.006619119085371494, 0.9928678870201111, 0.036462027579545975, 0.3715682029724121, 0.1630949229001999, 0.05955542251467705, 0.013087430037558079, 0.3374963402748108, 0.01828959584236145, 0.0004569469892885536, 0.9976627230644226, 0.6346211433410645, 0.32404375076293945, 0.00553699629381299, 0.030878927558660507, 0.002984305378049612, 0.0019360989099368453, 0.013672555796802044, 0.9543443918228149, 0.03029409423470497, 0.001662153867073357, 0.006553288549184799, 0.9933406114578247, 0.9967051148414612, 0.9988024830818176, 0.5579635500907898, 0.05500318482518196, 0.3182750642299652, 0.017377786338329315, 0.013819629326462746, 0.001567283645272255, 0.035994574427604675, 0.4123212695121765, 0.03109559416770935, 0.015148596838116646, 0.40410614013671875, 0.04716865345835686, 0.05728522688150406, 0.0018594324355944991, 0.031022056937217712, 0.9989441633224487, 0.01186309289187193, 0.9874838590621948, 0.9975055456161499, 0.7482649087905884, 0.02212871052324772, 0.17191430926322937, 0.05734897777438164, 0.00032207882031798363, 0.08894272148609161, 0.27438610792160034, 0.09793557226657867, 0.0025521740317344666, 0.0010515395551919937, 0.0014896810753270984, 0.5316189527511597, 0.0020264042541384697, 0.9993060827255249, 0.9991146922111511, 0.999259889125824, 0.9990375638008118, 0.9992298483848572, 0.9984787106513977, 0.9977406859397888, 0.0161761287599802, 0.9164687991142273, 0.06738268584012985, 0.040551070123910904, 0.8504451513290405, 0.05845924839377403, 0.013302297331392765, 0.014010894112288952, 0.022675102576613426, 0.000450925319455564, 0.00012883580347988755, 0.9993117451667786, 0.998002827167511, 0.9972507357597351, 0.16310785710811615, 0.03132586181163788, 0.05862833559513092, 0.7469232082366943, 0.9634959697723389, 0.003273485694080591, 0.033098578453063965, 0.02167701907455921, 0.9770423769950867, 0.0011823829263448715, 0.015575547702610493, 0.01199738122522831, 0.961123526096344, 0.011225620284676552, 0.042195163667201996, 0.025784224271774292, 0.9287545680999756, 0.000614641816355288, 0.0026429598219692707, 0.01805507019162178, 0.011058731004595757, 0.9706857204437256, 0.07463619858026505, 0.8853283524513245, 0.03997664153575897, 0.9970192313194275, 0.9973579049110413, 0.9967730045318604, 0.9938006401062012, 0.997551441192627, 0.9988788962364197, 0.49987339973449707, 0.013905567117035389, 0.018974239006638527, 0.23433645069599152, 0.03784608095884323, 0.051485415548086166, 0.05241722986102104, 0.08555302768945694, 0.005611377768218517, 0.03904036059975624, 0.9387378692626953, 0.01757405884563923, 0.0045999218709766865, 0.22133870422840118, 0.007415032014250755, 3.0895967938704416e-05, 0.7711942195892334, 0.08262499421834946, 0.08278315514326096, 0.02239084430038929, 0.07350511848926544, 0.10267618298530579, 0.07992126047611237, 0.40265023708343506, 0.1055261418223381, 0.04792112484574318, 0.058037422597408295, 0.004313591867685318, 0.008235039189457893, 0.9201676249504089, 0.009019329212605953, 0.9951921701431274, 0.004618885461241007, 0.13910913467407227, 0.0060495114885270596, 0.10116264969110489, 0.1306842714548111, 0.07832759618759155, 0.2531905770301819, 0.14839328825473785, 0.08854015916585922, 0.05195172503590584, 0.002597586251795292, 0.9869863986968994, 0.012873735278844833, 0.9938039779663086, 0.004123668186366558, 0.9990856051445007, 0.9991066455841064, 0.999718964099884, 0.9986538290977478, 0.006788188125938177, 0.0008102030842565, 0.047911468893289566, 0.02380245365202427, 0.2756442129611969, 0.18985028564929962, 0.45520275831222534, 0.999569833278656, 0.009527088142931461, 0.9659129977226257, 0.0101956557482481, 0.014207061380147934, 0.9990083575248718, 0.02948133647441864, 0.9047254323959351, 0.06545397639274597, 0.2952806353569031, 0.3983347415924072, 0.009329384192824364, 0.24673224985599518, 0.041186049580574036, 0.009132680483162403, 0.5775271058082581, 0.13734693825244904, 5.317341856425628e-05, 0.05265231803059578, 0.16452918946743011, 0.003488176269456744, 0.06203211098909378, 0.0023715344723314047, 0.9985764622688293, 0.023455871269106865, 0.02393619529902935, 0.017932133749127388, 0.0033622749615460634, 0.9072538614273071, 0.005043412558734417, 0.019052891060709953, 0.9862784743309021, 0.013515351340174675, 0.9997814297676086, 0.9990372657775879, 0.608138918876648, 0.2537553310394287, 0.010206247679889202, 0.12362567335367203, 0.004252603277564049, 0.996833860874176, 0.21394725143909454, 0.0085342051461339, 0.00951248500496149, 0.021753856912255287, 0.7051209807395935, 0.023440102115273476, 0.016489164903759956, 0.0011971057392656803, 0.9987437129020691, 0.01537101250141859, 0.08039214462041855, 0.01261995080858469, 0.003930088598281145, 0.03668082505464554, 0.8449690341949463, 0.006069803144782782, 0.9989801645278931, 0.10263460874557495, 0.7260636687278748, 0.0013337418204173446, 0.16995681822299957, 0.0012802747078239918, 0.36398449540138245, 0.0052781132981181145, 0.19525396823883057, 0.01948191598057747, 0.001509757828898728, 0.4132026135921478, 0.0011539497645571828, 0.9923967719078064, 0.0020194121170789003, 0.004038824234157801, 0.9996306300163269, 0.9994603395462036, 0.0012305721174925566, 0.00112887192517519, 0.10713095963001251, 0.38944047689437866, 0.02247573807835579, 0.0064071109518408775, 0.20978711545467377, 0.2624067962169647, 0.004342002794146538, 0.026181241497397423, 0.17529542744159698, 0.7704082131385803, 0.010932542383670807, 0.003657103283330798, 0.009175064973533154, 0.718111515045166, 0.005134375765919685, 0.007270706817507744, 0.2639243006706238, 3.7794447962369304e-06, 0.005554839037358761, 0.9988625049591064, 0.9992275834083557, 0.0007365505443885922, 0.6517064571380615, 0.012900467030704021, 0.13451796770095825, 0.003910216968506575, 0.17535319924354553, 0.02087254263460636, 0.0005286550731398165, 0.7513167262077332, 0.0751962885260582, 0.17270377278327942, 0.000244747701799497, 0.04034683108329773, 0.9456173777580261, 0.0010987033601850271, 0.006470142398029566, 0.0031129929702728987, 0.003235071199014783, 0.9981572031974792, 0.36676961183547974, 0.020552679896354675, 0.04970749095082283, 0.07759839296340942, 0.23214437067508698, 0.0759006068110466, 0.16640691459178925, 0.010922443121671677, 0.995672881603241, 0.0038039078935980797, 0.22741228342056274, 0.06532104313373566, 0.0016202951082959771, 0.27487149834632874, 0.04830794408917427, 0.2819313704967499, 0.10053545981645584, 0.9999708533287048, 0.999304473400116, 0.9992197751998901, 0.9866374135017395, 0.013332937844097614, 0.998687207698822, 0.9994786977767944, 0.9969289898872375, 0.9999281167984009, 0.9998759627342224, 0.018814504146575928, 0.29552921652793884, 0.00010481617937330157, 0.05083584785461426, 0.6347143650054932, 0.0708940252661705, 0.01708007976412773, 0.06562961637973785, 0.7998390793800354, 0.011347724124789238, 0.024040795862674713, 0.01111374981701374, 0.12119276821613312, 0.784713864326477, 0.0940728709101677, 0.010251571424305439, 0.928792417049408, 0.004532273858785629, 0.05636565759778023, 0.812740683555603, 0.18720726668834686, 0.9992557168006897, 0.0006069887895137072, 0.014567730948328972, 0.9846875667572021, 0.9963221549987793, 0.9990973472595215, 0.9938420057296753, 0.08194044977426529, 0.9076432585716248, 0.0025822895113378763, 0.007809850852936506, 0.0008525954908691347, 0.0037204166874289513, 0.967928409576416, 0.001550173619762063, 0.025965409353375435, 0.9991779923439026, 0.007788707036525011, 0.860102117061615, 0.011089007370173931, 0.12101098895072937, 0.9996451735496521, 0.9995508193969727, 0.9999144673347473, 0.0020723738707602024, 0.013263192027807236, 0.07232584804296494, 0.019065838307142258, 0.8929858803749084, 0.044084642082452774, 0.043934181332588196, 0.004062407184392214, 0.9078727960586548, 0.9992877244949341, 0.9986037015914917, 0.06229370832443237, 0.17121055722236633, 0.06371529400348663, 0.19945265352725983, 0.013168584555387497, 0.3709048628807068, 0.08652693778276443, 0.028962356969714165, 0.0037624528631567955, 0.999539315700531, 0.17686542868614197, 0.02372182160615921, 0.015721268951892853, 0.023015351966023445, 0.29411205649375916, 0.14156483113765717, 0.07079847157001495, 0.23593832552433014, 0.014978098683059216, 0.003284630598500371, 0.1361691802740097, 0.14556804299354553, 0.10073953121900558, 0.058068662881851196, 0.16140718758106232, 0.0434718132019043, 0.15067613124847412, 0.10273372381925583, 0.0904252901673317, 0.010747401975095272, 0.9964674115180969, 0.006994328927248716, 0.010853269137442112, 0.968593955039978, 0.013506289571523666, 0.9929963946342468, 0.0069391075521707535, 0.999685525894165, 0.998465895652771, 0.17675544321537018, 0.6318508386611938, 0.09920097142457962, 0.020689839497208595, 0.003923935350030661, 0.06756627559661865, 0.056113775819540024, 0.0018754205666482449, 0.08186359703540802, 0.7470722794532776, 0.11294199526309967, 0.00011907432053703815, 0.9997074604034424, 0.9999328851699829, 0.022550638765096664, 0.975827693939209, 0.221869558095932, 0.06767427921295166, 0.07972357422113419, 0.09870700538158417, 0.1475687325000763, 0.09062603861093521, 0.09565006196498871, 0.09561967849731445, 0.10015762597322464, 0.002403783146291971, 0.5969467759132385, 0.07939569652080536, 0.03504093736410141, 0.0195742417126894, 0.02658919058740139, 0.06421636044979095, 0.17804446816444397, 0.00018593839195091277, 0.9986832141876221, 0.15210697054862976, 0.03608928620815277, 0.5550210475921631, 0.11098507791757584, 0.07062860578298569, 0.07135575264692307, 0.003807936329394579, 0.09722981601953506, 0.02985972911119461, 0.09185395389795303, 0.025217359885573387, 0.12097090482711792, 0.39552071690559387, 0.026749340817332268, 0.19669726490974426, 0.015904763713479042, 0.1857016682624817, 0.8112388253211975, 0.003050268394872546, 0.9973663687705994, 0.001153024728409946, 0.9985352754592896, 0.07448667287826538, 0.007441860623657703, 0.0005218377918936312, 0.015995461493730545, 0.002631877548992634, 0.8714237213134766, 0.025501985102891922, 0.002019285224378109, 0.016066526994109154, 0.05800142511725426, 0.11807797849178314, 0.2337978482246399, 0.021851735189557076, 0.2053355723619461, 0.05438566952943802, 0.05912545323371887, 0.23116463422775269, 0.0021851735655218363, 0.07155218720436096, 0.1833864450454712, 0.19255100190639496, 0.026215774938464165, 0.0970241129398346, 0.009574622847139835, 0.21033652126789093, 0.209192156791687, 0.00017165657482109964, 0.0747939720749855, 0.04198797419667244, 0.4737933576107025, 0.00943445973098278, 0.22124271094799042, 0.0019272892968729138, 0.0002861477551050484, 0.17415456473827362, 0.002373343100771308, 0.052205655723810196, 0.9251108169555664, 0.017309419810771942, 0.002718466566875577, 0.0011095781810581684, 0.0015534095000475645, 0.876484751701355, 0.0020963833667337894, 0.04841335117816925, 0.07298034429550171, 0.9434992074966431, 0.03739600628614426, 0.015298365615308285, 0.0019997863564640284, 0.0017998077673837543, 0.11096348613500595, 0.5443899035453796, 0.08762095868587494, 0.03220510855317116, 0.021168064326047897, 0.018746504560112953, 0.013722177594900131, 0.14142243564128876, 0.02960234321653843, 0.00016473201685585082, 0.9955976605415344, 0.004160183947533369, 0.9986633062362671, 0.03672296926379204, 0.017516111955046654, 0.017414668574929237, 0.8412806391716003, 0.06827226281166077, 0.0008453722111880779, 0.013390696607530117, 0.0045311953872442245, 0.8831073641777039, 0.0777944028377533, 0.006239934824407101, 0.024815184995532036, 0.0068663377314805984, 0.001156435813754797, 0.008532287552952766, 0.6497362852096558, 0.10695783793926239, 0.001327079371549189, 0.1824481338262558, 0.050677474588155746, 0.00010116749035660177, 0.0002187003119615838, 0.9992265105247498, 0.0946408063173294, 0.32734668254852295, 0.09777294099330902, 0.0787067711353302, 0.06658149510622025, 0.05973917990922928, 0.11367113143205643, 0.09715010225772858, 0.06438586115837097, 0.9962242841720581, 0.9996639490127563, 0.0774344801902771, 0.9224405288696289, 0.8964899182319641, 0.047334808856248856, 0.004776907619088888, 0.03284456208348274, 0.016697019338607788, 0.0014445935375988483, 0.0004165392310824245, 0.5902913212776184, 0.19183054566383362, 0.2177211344242096, 0.00014128562179394066, 0.9997594952583313, 0.0014583291485905647, 0.2677006125450134, 0.633716881275177, 0.09629832953214645, 0.0008020810200832784, 0.9991194009780884, 0.012904243543744087, 0.002737263683229685, 0.9842418432235718, 0.999382495880127, 0.010257379151880741, 0.01603618450462818, 0.03814011439681053, 0.1424475461244583, 0.04789184778928757, 0.7432265877723694, 0.0019503467483446002, 0.9997060894966125, 0.9868310689926147, 0.013003284111618996, 0.012828699313104153, 0.9869545698165894, 0.05729269981384277, 0.0038006450049579144, 0.031173374503850937, 0.0353379100561142, 0.6835095882415771, 0.18162231147289276, 0.007196966093033552, 8.08647891972214e-05, 0.9976258873939514, 0.0006338157108984888, 0.0012676314217969775, 0.9989727735519409, 0.115900918841362, 0.01490809302777052, 0.2513022720813751, 0.03431104123592377, 0.0909208431839943, 0.12242382019758224, 0.009116459637880325, 0.26193976402282715, 0.09517194330692291, 0.00399759178981185, 0.9964473843574524, 0.024097755551338196, 0.9753566384315491, 0.018131282180547714, 0.008671482093632221, 0.0228611808270216, 0.9499214887619019, 0.6028653979301453, 0.1591987907886505, 0.001332050422206521, 0.003414551727473736, 0.13579410314559937, 0.07505447417497635, 0.0075514125637710094, 0.00023451591550838202, 0.014549368061125278, 0.0019362930906936526, 0.3494910001754761, 0.6010174751281738, 0.0033505139872431755, 0.029143525287508965, 0.013910911977291107, 0.0011564891319721937, 0.006919204257428646, 0.12386966496706009, 0.023600848391652107, 0.7478109002113342, 0.09746534377336502, 0.00031812433735467494, 0.013515306636691093, 0.006584379822015762, 0.0109162088483572, 0.964842677116394, 0.004100798163563013, 0.9017587900161743, 0.007184119429439306, 0.0063746413215994835, 0.05494333431124687, 0.023879608139395714, 0.002833173843100667, 0.002934358548372984, 0.9992288947105408, 0.9981075525283813, 0.035648949444293976, 0.08855541795492172, 0.2606446146965027, 0.026988372206687927, 0.034306760877370834, 0.0322587713599205, 0.15603502094745636, 0.3387402296066284, 0.023760180920362473, 0.0030662030912935734, 0.9990833401679993, 0.038199882954359055, 0.16140329837799072, 0.79109126329422, 0.0012822917196899652, 0.008003981783986092, 0.9355390667915344, 0.03351152688264847, 0.030460160225629807, 0.00042826234130188823, 0.9997628331184387, 0.999174952507019, 0.5068820118904114, 0.03820861876010895, 0.39422768354415894, 0.00010705193562898785, 0.0600472129881382, 0.0005263386992737651, 0.15788894891738892, 0.12939634919166565, 0.07333439588546753, 0.06398288160562515, 0.31734710931777954, 0.0678144246339798, 0.0687265619635582, 0.0590534433722496, 0.062455255538225174, 0.007564479019492865, 0.012399506755173206, 0.019963985309004784, 0.012867412529885769, 0.8648461103439331, 0.002885419875383377, 0.07775036245584488, 0.0016376706771552563, 0.034247737377882004, 0.6018438935279846, 0.050661660730838776, 0.08004391193389893, 0.05203422158956528, 0.020285489037632942, 0.03537418320775032, 0.04946895316243172, 0.07603982090950012, 0.9947745203971863, 0.0015274848556146026, 0.0036277766339480877, 0.9598082900047302, 0.004818730987608433, 0.0296766459941864, 0.005686620716005564, 0.021981028839945793, 0.8172698020935059, 0.005694893654435873, 8.405747212236747e-05, 0.017694098874926567, 0.005820980295538902, 0.07287783175706863, 0.051022887229919434, 0.007502129767090082, 0.9989593625068665, 0.06396247446537018, 0.0032777113374322653, 0.004968633409589529, 0.016428226605057716, 0.8354196548461914, 0.027238227427005768, 0.0012694313190877438, 0.028145672753453255, 0.019056346267461777, 0.00023305964714381844, 0.028452517464756966, 0.9715072512626648, 0.002292107790708542, 0.9978309273719788, 0.04188493266701698, 0.14586241543293, 0.5256349444389343, 0.04375167936086655, 0.22525519132614136, 0.017380278557538986, 0.00023374361626338214, 0.9983944296836853, 0.9983254075050354, 0.25738728046417236, 0.049712277948856354, 0.0843392014503479, 0.10573939234018326, 0.0832056775689125, 0.1404130458831787, 0.1324489712715149, 0.09882751107215881, 0.04792633280158043, 0.9932873845100403, 0.006250664126127958, 0.00037882811739109457, 0.010081141255795956, 0.9537525177001953, 0.027818845584988594, 0.008294609375298023, 0.9995973110198975, 0.018702145665884018, 0.926115870475769, 0.04891330376267433, 0.0061141629703342915, 0.9987329840660095, 0.04516944661736488, 0.9508454203605652, 0.0034305909648537636, 0.979588508605957, 0.02025643363595009, 0.9991040229797363, 0.9995381236076355, 0.9985961318016052, 0.012432385236024857, 0.05159439891576767, 0.9324288964271545, 0.003418905893340707, 0.0028358756098896265, 0.040950044989585876, 0.03970225900411606, 0.006352361757308245, 0.8889902830123901, 0.021212350577116013, 0.07509496062994003, 0.005231503397226334, 0.12146896868944168, 0.1641874611377716, 0.05638252571225166, 0.48590201139450073, 0.09173440933227539, 0.006321652792394161, 0.9909191131591797, 0.0015804131980985403, 0.9984382390975952, 0.01621125638484955, 0.22849488258361816, 0.015442620031535625, 0.02145196497440338, 0.024037381634116173, 0.6792656779289246, 0.014883611351251602, 0.000279504427453503, 0.9995466470718384, 0.018467649817466736, 0.7289356589317322, 0.08934502303600311, 0.16321562230587006, 0.012761757709085941, 0.765051007270813, 0.00994762685149908, 0.1610599309206009, 0.05117792263627052, 0.9536719918251038, 0.007652617525309324, 0.016368098556995392, 0.020619552582502365, 0.0017005816334858537, 0.0011577856494113803, 0.9965487718582153, 0.00219369912520051, 0.9867018461227417, 0.00813873391598463, 0.0050268652848899364, 0.025761285796761513, 0.9742833375930786, 0.9983561038970947, 0.7508916258811951, 0.16367992758750916, 0.052165307104587555, 0.03324861451983452, 0.007603725418448448, 0.17360560595989227, 3.4879474242188735e-06, 0.017457177862524986, 0.005019156262278557, 0.79621821641922, 9.068663348443806e-05, 0.9986168146133423, 0.0157304797321558, 0.007196348626166582, 0.009825783781707287, 0.009179957211017609, 0.00793443527072668, 0.9500564336776733, 0.04038229584693909, 0.9347236156463623, 0.009576157666742802, 0.004929737653583288, 0.005250832065939903, 0.0002833182516042143, 0.0048352982848882675, 0.2818707227706909, 0.022554056718945503, 0.008040294051170349, 0.06805387884378433, 0.5341229438781738, 0.03968606889247894, 0.01408082339912653, 0.014609970152378082, 0.012307834811508656, 0.00466611934825778, 0.311320424079895, 0.023501915857195854, 0.09773334860801697, 0.5301573276519775, 0.010010424070060253, 0.027227601036429405, 5.6449760450050235e-05, 0.9989455938339233, 0.24694882333278656, 0.01671212911605835, 0.1171247661113739, 0.12050577998161316, 0.0993274375796318, 0.22636373341083527, 0.0355464331805706, 0.10474862903356552, 0.03272008150815964, 0.018119582906365395, 0.0067018973641097546, 0.28311359882354736, 0.5038065910339355, 0.050484366714954376, 0.05269550532102585, 0.0850798562169075, 0.061908017843961716, 0.9380316734313965, 0.3104933500289917, 0.0751330628991127, 0.030411865562200546, 0.09936201572418213, 0.13682229816913605, 0.16656561195850372, 0.08134707808494568, 0.050448041409254074, 0.049416691064834595, 0.9964654445648193, 0.07162977010011673, 0.009822143241763115, 0.0041524507105350494, 0.010540836490690708, 0.8605155348777771, 0.0028747734613716602, 0.04048639535903931, 0.013700510375201702, 0.0220028143376112, 0.029826797544956207, 0.9342654943466187, 0.0001708293129922822, 0.07069144397974014, 0.48712873458862305, 0.01883588172495365, 0.034561946988105774, 0.08275146037340164, 0.0018962295725941658, 0.186538428068161, 0.01820380426943302, 0.06631746888160706, 0.033095527440309525, 0.035429827868938446, 0.964478611946106, 0.9984580278396606, 0.9992324709892273, 0.010862112045288086, 0.8369091749191284, 0.0013065736275166273, 0.004446250852197409, 0.14549770951271057, 0.0009555538999848068, 0.07745474576950073, 0.2708999514579773, 0.01833513006567955, 0.06292719393968582, 0.06403879821300507, 0.006324661895632744, 0.17652833461761475, 0.04773522540926933, 0.2722415626049042, 0.0035137010272592306, 0.998563289642334, 0.01490652747452259, 0.01839528977870941, 0.050111304968595505, 0.012633546255528927, 0.897933304309845, 0.006026043090969324, 0.03895767778158188, 0.03478363901376724, 0.015981042757630348, 0.40737664699554443, 0.5028975605964661, 0.054285310208797455, 0.08339069038629532, 0.10733668506145477, 0.1961335390806198, 0.10426342487335205, 0.2585473656654358, 0.04264392703771591, 0.13162972033023834, 0.021775048226118088, 0.007571203634142876, 0.9826791286468506, 0.009779470972716808, 0.18990038335323334, 0.01002013310790062, 0.017021648585796356, 0.2660995125770569, 0.0552469901740551, 0.37043049931526184, 0.019149355590343475, 0.07213237881660461, 0.03072364069521427, 0.9487887620925903, 0.004083919804543257, 0.016398508101701736, 0.08815814554691315, 0.13066783547401428, 0.009006869047880173, 0.7137944102287292, 0.00848374329507351, 0.04985620826482773, 0.9998332262039185, 0.9953038692474365, 0.004372744355350733, 0.9993977546691895, 0.01314012985676527, 0.03562947362661362, 0.06985016167163849, 0.7070055603981018, 0.15990999341011047, 0.014446457847952843, 0.07399909943342209, 0.0011851009912788868, 0.005228386726230383, 0.8040213584899902, 0.10934299975633621, 0.0061694965697824955, 0.003909292630851269, 0.9935618042945862, 0.00225536129437387, 0.0028524352237582207, 0.01515152771025896, 0.007239545229822397, 0.10499781370162964, 0.31347501277923584, 0.5027118921279907, 0.05356721207499504, 0.021114397794008255, 0.04050836339592934, 0.7251014709472656, 0.03027265891432762, 8.68905262905173e-05, 0.03779738023877144, 0.03312266990542412, 0.11200188845396042, 0.024020787328481674, 0.05488269403576851, 0.7134878635406494, 0.011568411253392696, 0.13755904138088226, 0.03150886669754982, 0.025590145960450172, 0.001377191860228777, 0.14520564675331116, 0.061487503349781036, 0.10644698888063431, 0.2002193033695221, 0.23553837835788727, 0.06310315430164337, 0.05669967085123062, 0.06516071408987045, 0.0661374181509018, 0.9969382882118225, 0.9995216131210327, 0.003923714626580477, 0.8555566668510437, 0.03053557686507702, 0.07815399020910263, 0.031816788017749786, 0.997166633605957, 0.09637046605348587, 0.06179444119334221, 0.1660020798444748, 0.26474010944366455, 0.13564275205135345, 0.09684570878744125, 0.0556638166308403, 0.09123352915048599, 0.03170297294855118, 0.9694310426712036, 0.030528446659445763, 0.1607964038848877, 0.3644215166568756, 0.10231436789035797, 0.12732696533203125, 0.06474489718675613, 0.031158775091171265, 0.0384252667427063, 0.0950712189078331, 0.01544323842972517, 0.00029563880525529385, 0.022927993908524513, 0.004032289143651724, 0.41669097542762756, 0.11961252242326736, 0.009041006676852703, 0.10846496373414993, 0.008679366670548916, 0.3086690306663513, 0.00188052945304662, 0.9809554815292358, 0.015462215058505535, 0.003553596790879965, 0.8366100192070007, 0.07636095583438873, 0.018662678077816963, 0.06834980845451355, 0.5585179328918457, 0.012292367406189442, 0.0002331043069716543, 0.24329873919487, 0.07495080679655075, 0.020155752077698708, 0.09055325388908386, 0.9971724152565002, 0.19470582902431488, 0.009283258579671383, 0.005030513275414705, 0.7610630989074707, 0.01056764554232359, 0.016996711492538452, 0.0022334051318466663, 0.00012843863805755973, 0.011224587447941303, 0.01626419834792614, 0.0027488786727190018, 0.0032070251181721687, 0.9595876932144165, 0.007101269904524088, 0.005998585373163223, 0.013924585655331612, 0.7181782126426697, 0.15614022314548492, 0.0017897419165819883, 0.03211701661348343, 0.07133399695158005, 0.0005310223205015063, 0.07995686680078506, 0.28438472747802734, 0.10102862119674683, 0.14276789128780365, 0.015299373306334019, 0.07733617722988129, 0.14187034964561462, 0.05420897528529167, 0.10214883834123611, 0.0009968915255740285, 0.9996381402015686, 0.04569214954972267, 0.06639021635055542, 0.38956645131111145, 0.18617595732212067, 0.018118424341082573, 0.0742713212966919, 0.031067412346601486, 0.18870481848716736, 0.32428494095802307, 0.037516020238399506, 0.0834607481956482, 4.13172019761987e-05, 0.037929192185401917, 0.007864040322601795, 0.10553790628910065, 0.19595371186733246, 0.19190461933612823, 0.015507723204791546, 0.9995482563972473, 0.05157794803380966, 0.09231492877006531, 0.08148729056119919, 0.2409949004650116, 0.10575612634420395, 0.020601842552423477, 0.4060496687889099, 0.0012134419521316886, 0.9990794062614441, 0.025453882291913033, 0.007359115872532129, 0.8240694403648376, 0.04545336216688156, 0.03413331136107445, 0.004199024755507708, 0.040605004876852036, 0.018744099885225296, 0.9325144290924072, 0.031964823603630066, 0.035579219460487366, 0.06687022000551224, 0.035147763788700104, 0.0501185804605484, 0.3730945587158203, 0.23252056539058685, 0.06685317307710648, 0.13745544850826263, 0.03793402388691902, 0.9984436631202698, 0.9996923208236694, 0.256728857755661, 0.021248532459139824, 0.05370348319411278, 0.1970583200454712, 0.13855208456516266, 0.004948288667947054, 0.32746025919914246, 0.6496976613998413, 0.000976153532974422, 0.031601980328559875, 0.0907822772860527, 0.22295188903808594, 0.0038649332709610462, 0.0001349155354546383, 0.802596390247345, 0.01537922490388155, 0.006122185382992029, 0.05923030152916908, 0.02884065732359886, 0.040605578571558, 0.047170333564281464, 0.006388287525624037, 0.9716715812683105, 0.010429857298731804, 0.011472842656075954, 0.14255152642726898, 0.48087915778160095, 0.0024090914521366358, 0.18590836226940155, 0.05700835958123207, 0.13124103844165802, 0.0036940346471965313, 0.07828275114297867, 0.9151355028152466, 0.001816233736462891, 0.0010466431267559528, 0.9988654851913452, 0.9998718500137329, 0.9997478127479553, 0.9995542168617249, 0.9997378587722778, 0.1634397953748703, 0.8365569114685059, 0.9955076575279236, 0.0008349239360541105, 0.003339695744216442, 0.9608655571937561, 0.028715521097183228, 0.001919196336530149, 0.00850964430719614, 0.0028733506333082914, 0.04530191794037819, 0.8706252574920654, 0.02970372885465622, 0.003880889154970646, 0.01735205203294754, 0.030300788581371307, 0.0405726358294487, 0.0007524598622694612, 0.4385787546634674, 0.010549487546086311, 0.31926873326301575, 0.04174647480249405, 0.1409357339143753, 0.0075998445972800255, 0.9646531343460083, 0.0004787700017914176, 0.01060133520513773, 0.024257678538560867, 0.9710060954093933, 0.01484718732535839, 0.008549106307327747, 0.005579669028520584, 0.901386559009552, 0.06640085577964783, 0.020170699805021286, 0.004602709785103798, 0.007445560302585363, 0.998987078666687, 0.9926169514656067, 0.3850758373737335, 0.015311267226934433, 0.015546566806733608, 0.09579206258058548, 0.07466553896665573, 0.36252912878990173, 0.010428804904222488, 0.04063956439495087, 0.4670758843421936, 0.033101290464401245, 0.024310659617185593, 0.11348612606525421, 0.19386160373687744, 0.10577444732189178, 0.0010883043287321925, 0.06130053102970123, 0.9931934475898743, 0.006608701776713133, 0.004292306024581194, 0.9400150179862976, 0.055634889751672745, 0.9991911053657532, 0.9990524649620056, 0.9998086094856262, 0.9997896552085876, 0.9586541652679443, 0.04124518856406212, 0.9930247068405151, 0.006747925654053688, 0.9996925592422485, 0.985985517501831, 0.013834457844495773, 0.6626182794570923, 0.01927625946700573, 0.1135324165225029, 0.09050591289997101, 0.040527649223804474, 0.012350806966423988, 0.010050656273961067, 0.03575233742594719, 0.015401005744934082, 0.9984445571899414, 0.9993855357170105, 0.0005622738390229642, 0.9933047294616699, 0.006101916078478098, 0.9974684119224548, 0.0023932186886668205, 0.18169334530830383, 0.06622851639986038, 0.07019969820976257, 0.03922133147716522, 0.2462131530046463, 0.04975840821862221, 0.032386474311351776, 0.3143402338027954, 0.06633678823709488, 0.21418999135494232, 0.7133758664131165, 0.00594518193975091, 0.00015322634135372937, 0.18167562782764435, 0.026248792186379433, 0.05381050705909729, 0.15761825442314148, 0.46584606170654297, 0.09687628597021103, 0.017917528748512268, 0.2229955792427063, 0.029265031218528748, 0.013727479614317417, 0.007412046194076538, 0.12456465512514114, 0.030665524303913116, 0.46865007281303406, 0.05875466763973236, 0.03493306785821915, 0.009023934602737427, 0.04740821197628975, 0.0012021446600556374, 0.1013735756278038, 0.11184316873550415, 0.010731873102486134, 0.03868719935417175, 0.02078617364168167, 0.6651575565338135, 0.0027977183926850557, 0.02174128219485283, 0.9740093946456909, 0.003478605067357421, 0.024789996445178986, 0.06367143988609314, 0.6072044372558594, 0.16132651269435883, 0.05922510847449303, 0.08311215788125992, 0.0006566886440850794, 0.9560850262641907, 0.030403798446059227, 0.006374990101903677, 0.004249993246048689, 0.0027788416482508183, 0.9999224543571472, 0.05292316898703575, 0.9468319416046143, 0.05503586307168007, 0.05484309419989586, 0.03855402022600174, 0.8514655232429504, 0.006316871382296085, 0.9931524991989136, 0.9991052746772766, 0.9994560480117798, 0.99916011095047, 0.18915584683418274, 0.24515819549560547, 0.11291491985321045, 0.42132556438446045, 0.03144616261124611, 0.9998093843460083, 0.0253906287252903, 0.0020531504414975643, 0.03308994323015213, 0.9079716205596924, 0.0005817259661853313, 0.03089991584420204, 0.012235229834914207, 0.9569432735443115, 0.0011122935684397817, 0.029290398582816124, 0.9995788335800171, 0.0008234222186729312, 0.9946940541267395, 0.004352374467998743, 0.9964906573295593, 0.0031032580882310867, 0.0463937409222126, 0.027290435507893562, 0.9261953830718994, 0.9996383786201477, 0.9998672008514404], \"Term\": [\"abdominal\", \"abdominal\", \"abdominal\", \"abdominal\", \"abdominal\", \"access\", \"access\", \"access\", \"access\", \"access\", \"access\", \"access\", \"access\", \"access\", \"accountability\", \"activate\", \"activate\", \"activate\", \"activate\", \"activate\", \"activate\", \"activate\", \"activation\", \"activation\", \"activation\", \"activation\", \"activation\", \"activation\", \"activation\", \"activity\", \"activity\", \"activity\", \"activity\", \"activity\", \"activity\", \"activity\", \"activity\", \"actor\", \"actor\", \"actor\", \"adipocyte\", \"administrator\", \"adult\", \"adult\", \"adult\", \"adult\", \"adult\", \"aeroallergen\", \"affect\", \"affect\", \"affect\", \"affect\", \"affect\", \"affect\", \"affect\", \"affect\", \"affect\", \"affinity\", \"affinity\", \"affinity\", \"affinity\", \"affinity\", \"affinity\", \"agency\", \"agency\", \"agency\", \"agenda\", \"agenda\", \"agenda\", \"airborne\", \"airborne\", \"airborne\", \"airborne\", \"airline\", \"alignment\", \"alignment\", \"alignment\", \"alignment\", \"alignment\", \"allele\", \"allele\", \"allele\", \"allerding\", \"allergic_sensitization\", \"alloantibody\", \"allogeneic\", \"allogeneic\", \"allogeneic_hematopoietic\", \"allosct\", \"amphipathic\", \"amplicon\", \"amplification\", \"amplification\", \"amplification\", \"amplification\", \"amplification\", \"amplification\", \"amplification\", \"amplify\", \"amplify\", \"amplify\", \"amplify\", \"amplify\", \"amplify\", \"amplify\", \"amplify\", \"analysis\", \"analysis\", \"analysis\", \"analysis\", \"analysis\", \"analysis\", \"analysis\", \"analysis\", \"ancestral\", \"ancestral\", \"ancestral\", \"ancestral\", \"aneurysm\", \"angiography\", \"animal\", \"animal\", \"animal\", \"animal\", \"animal\", \"animal\", \"animal\", \"animal\", \"animal\", \"annotate\", \"annotate\", \"annotate\", \"annotate\", \"annotation\", \"annotation\", \"antibiotic\", \"antibiotic\", \"antibiotic\", \"antibiotic\", \"antibiotic\", \"antibody\", \"antibody\", \"antibody\", \"antibody\", \"antibody\", \"antibody\", \"antibody\", \"anticoagulation\", \"anticoagulation\", \"antigen\", \"antigen\", \"antigen\", \"antigen\", \"antigen\", \"antigen\", \"antiserum\", \"antiserum\", \"antiviral\", \"antiviral\", \"antiviral\", \"antiviral\", \"apheresis\", \"apoptosis\", \"apoptosis\", \"apoptosis\", \"apoptosis\", \"apoptotic\", \"apoptotic\", \"apoptotic\", \"approximation\", \"approximation\", \"approximation\", \"approximation\", \"aptamer\", \"arachidonic\", \"arterial\", \"arterial\", \"arterial\", \"artery\", \"artery\", \"asmase\", \"asset\", \"associate\", \"associate\", \"associate\", \"associate\", \"associate\", \"associate\", \"associate\", \"associate\", \"associate\", \"assume\", \"assume\", \"assume\", \"assume\", \"assume\", \"assume\", \"assume\", \"assume\", \"assume\", \"assumption\", \"assumption\", \"assumption\", \"assumption\", \"assumption\", \"assumption\", \"assumption\", \"assumption\", \"assumption\", \"asthma\", \"asthma\", \"asthma\", \"asthma\", \"astrocyte\", \"astrocytic\", \"astroviruse\", \"astroviruse\", \"asymptomatic\", \"asymptomatic\", \"asymptomatic\", \"asymptomatic\", \"asymptomatic\", \"asymptotic\", \"authority\", \"authority\", \"authority\", \"authority\", \"authority\", \"autocorrelation\", \"autoimmunity\", \"autoimmunity\", \"autoreactive\", \"autoreactive\", \"available\", \"available\", \"available\", \"available\", \"available\", \"available\", \"available\", \"available\", \"available\", \"average\", \"average\", \"average\", \"average\", \"average\", \"average\", \"average\", \"average\", \"axonal\", \"azithromycin\", \"azithromycin\", \"azithromycin\", \"bacteria\", \"bacteria\", \"bacteria\", \"bacteria\", \"bacteria\", \"bacteria\", \"bacteria\", \"bacterial\", \"bacterial\", \"bacterial\", \"bacterial\", \"bacterial\", \"bacterial\", \"bacterial\", \"beaudette\", \"beclin\", \"behandele\", \"bereit\", \"besonder\", \"bilayer\", \"bind\", \"bind\", \"bind\", \"bind\", \"bind\", \"bind\", \"bioaerosol\", \"biocide\", \"bioedit\", \"biolegend\", \"bioscience\", \"bioscience\", \"bioscience\", \"bioscience\", \"blastn\", \"blastomycosis\", \"bleed\", \"bleed\", \"bleed\", \"bleed\", \"bootstrap_replicate\", \"branch_length\", \"breed\", \"breed\", \"breed\", \"breed\", \"breed\", \"breeding\", \"breeding\", \"breeding\", \"breeding\", \"breeding\", \"bronchiolitis\", \"bronchiolitis\", \"bronchiolitis\", \"bushmeat\", \"business\", \"business\", \"calculate\", \"calculate\", \"calculate\", \"calculate\", \"calculate\", \"calculate\", \"calculate\", \"calculate\", \"calf\", \"calve\", \"calve\", \"cantilever\", \"carbapenemase\", \"carboxylate\", \"carcass\", \"carcass\", \"cardiac\", \"cardiac\", \"cardiac\", \"cardiac\", \"cardiac\", \"cardiac_output\", \"cardiac_output\", \"caspase\", \"caspase\", \"catalytic\", \"catalytic\", \"catenin\", \"catheter\", \"catheter\", \"catheter\", \"catheter\", \"catheterization\", \"cattle\", \"cattle\", \"cattle\", \"cause\", \"cause\", \"cause\", \"cause\", \"cause\", \"cause\", \"cause\", \"cause\", \"cause\", \"cause\", \"cellule\", \"centrifugation\", \"centrifugation\", \"centrifugation\", \"centrifugation\", \"centrifugation\", \"centrifugation\", \"centrifuge\", \"centrifuge\", \"centrifuge\", \"centrifuge\", \"centrifuge\", \"certify\", \"certify\", \"certify\", \"certify\", \"certify\", \"chadox\", \"cheetah\", \"chemoattractant\", \"chemokine\", \"chemokine\", \"chemotactic\", \"chemotaxis\", \"chemotherapy\", \"chemotherapy\", \"chemotherapy\", \"chemotherapy\", \"chemotherapy\", \"child\", \"child\", \"child\", \"chimerism\", \"chimerism\", \"china\", \"china\", \"citizen\", \"clade\", \"clade\", \"clade\", \"classifier\", \"classifier\", \"classifier\", \"cleavage\", \"cleavage\", \"cleavage\", \"cleavage\", \"clinical\", \"clinical\", \"clinical\", \"clinical\", \"clinical\", \"clinical\", \"clinical\", \"coccidiosis\", \"codetection\", \"coefficient\", \"coefficient\", \"coefficient\", \"coefficient\", \"coinfection\", \"coinfection\", \"coinfection\", \"coinfection\", \"coliform\", \"colostral\", \"colostrum\", \"common\", \"common\", \"common\", \"common\", \"common\", \"common\", \"common\", \"common\", \"common\", \"communication\", \"communication\", \"communication\", \"communication\", \"communication\", \"communication\", \"communication\", \"communication\", \"communication\", \"community\", \"community\", \"community\", \"community\", \"community\", \"community\", \"community\", \"community\", \"compare\", \"compare\", \"compare\", \"compare\", \"compare\", \"compare\", \"compare\", \"compare\", \"compare\", \"compare\", \"complex\", \"complex\", \"complex\", \"complex\", \"complex\", \"complex\", \"complex\", \"complex\", \"complex\", \"complication\", \"complication\", \"complication\", \"complication\", \"complication\", \"complication\", \"complication\", \"complication\", \"complication\", \"compost\", \"compound\", \"compound\", \"compound\", \"compound\", \"compound\", \"compound\", \"compound\", \"computation\", \"computation\", \"compute\", \"compute\", \"compute\", \"concentration\", \"concentration\", \"concentration\", \"concentration\", \"concentration\", \"concentration\", \"concentration\", \"concentration\", \"concern\", \"concern\", \"concern\", \"concern\", \"concern\", \"concern\", \"concern\", \"concern\", \"concern\", \"conclusion\", \"conclusion\", \"conclusion\", \"conclusion\", \"conclusion\", \"conclusion\", \"conclusion\", \"conclusion\", \"conclusion\", \"conclusion\", \"condition\", \"condition\", \"condition\", \"condition\", \"condition\", \"condition\", \"condition\", \"condition\", \"condition\", \"condition\", \"confluency\", \"conformation\", \"conformation\", \"conformation\", \"conformation\", \"conformational\", \"conformational\", \"consider\", \"consider\", \"consider\", \"consider\", \"consider\", \"consider\", \"consider\", \"consider\", \"consider\", \"contact\", \"contact\", \"contact\", \"contact\", \"contact\", \"contact\", \"contact\", \"contact\", \"contain\", \"contain\", \"contain\", \"contain\", \"contain\", \"contain\", \"contain\", \"contain\", \"contain\", \"contaminant\", \"contaminant\", \"contaminant\", \"contaminant\", \"contaminant\", \"contaminant\", \"contaminant\", \"contaminant\", \"contaminate\", \"contaminate\", \"contaminate\", \"contaminate\", \"contaminate\", \"contaminate\", \"contaminate\", \"contaminate\", \"contamination\", \"contamination\", \"contamination\", \"contamination\", \"contamination\", \"contamination\", \"contamination\", \"contamination\", \"contig\", \"control\", \"control\", \"control\", \"control\", \"control\", \"control\", \"control\", \"control\", \"control\", \"control\", \"convolution\", \"copathogen\", \"copy\", \"copy\", \"copy\", \"copy\", \"copy\", \"copy\", \"copy\", \"copy\", \"corporate\", \"counterstaine\", \"counterstaine\", \"country\", \"country\", \"country\", \"country\", \"country\", \"country\", \"country\", \"covalent\", \"coverslip\", \"creatinine\", \"creatinine\", \"creatinine\", \"crisis\", \"crisis\", \"crisis\", \"crisis\", \"crswnp\", \"cryptosporidium\", \"cryptosporidium\", \"cryptosporidium\", \"cryptosporidium\", \"crystallization\", \"crystallography\", \"culture\", \"culture\", \"culture\", \"culture\", \"culture\", \"culture\", \"culture\", \"culture\", \"culture\", \"cuprizone\", \"customer\", \"customer\", \"customer\", \"cyclization\", \"cysteine\", \"cysteine\", \"cysteine\", \"cytokine\", \"cytokine\", \"cytokine\", \"cytokine\", \"cytokine\", \"database\", \"database\", \"database\", \"database\", \"database\", \"database\", \"database\", \"dataset\", \"dataset\", \"dataset\", \"dautre\", \"demyelinate\", \"demyelinate\", \"demyelinating\", \"demyelinating\", \"demyelination\", \"demyelination\", \"dendritic\", \"dendritic\", \"dendritic\", \"denote\", \"denote\", \"denote\", \"denote\", \"denote\", \"denote\", \"denote\", \"denote\", \"describe\", \"describe\", \"describe\", \"describe\", \"describe\", \"describe\", \"describe\", \"describe\", \"describe\", \"describe\", \"detect\", \"detect\", \"detect\", \"detect\", \"detect\", \"detect\", \"detect\", \"detect\", \"detect\", \"detection\", \"detection\", \"detection\", \"detection\", \"detection\", \"detection\", \"detection\", \"detection\", \"detection\", \"determine\", \"determine\", \"determine\", \"determine\", \"determine\", \"determine\", \"determine\", \"determine\", \"determine\", \"determine\", \"deterministic\", \"develop\", \"develop\", \"develop\", \"develop\", \"develop\", \"develop\", \"develop\", \"develop\", \"develop\", \"development\", \"development\", \"development\", \"development\", \"development\", \"development\", \"development\", \"development\", \"development\", \"diagnosis\", \"diagnosis\", \"diagnosis\", \"diagnosis\", \"diagnosis\", \"diagnostic\", \"diagnostic\", \"diagnostic\", \"diagnostic\", \"diagnostic\", \"diagnostic\", \"diagnostic\", \"diagnostico\", \"diarrhea\", \"diarrhea\", \"diarrhea\", \"diarrhea\", \"diarrhea\", \"diastolic\", \"diese\", \"dieser\", \"difference\", \"difference\", \"difference\", \"difference\", \"difference\", \"difference\", \"difference\", \"difference\", \"difference\", \"difference\", \"different\", \"different\", \"different\", \"different\", \"different\", \"different\", \"different\", \"different\", \"different\", \"different\", \"differential_equation\", \"differentiation\", \"differentiation\", \"differentiation\", \"differentiation\", \"differentiation\", \"differentiation\", \"differentiation\", \"differentiation\", \"diffraction\", \"dilute\", \"dilute\", \"dilute\", \"dilute\", \"dilute\", \"dilute\", \"dilute\", \"dilution\", \"dilution\", \"dilution\", \"dilution\", \"dilution\", \"dimerization\", \"dimerization\", \"disaster\", \"discourse\", \"disease\", \"disease\", \"disease\", \"disease\", \"disease\", \"disease\", \"disease\", \"disease\", \"disease\", \"disinfectant\", \"disinfectant\", \"disinfectant\", \"disinfection\", \"disinfection\", \"disinfection\", \"display\", \"display\", \"display\", \"display\", \"display\", \"display\", \"display\", \"display\", \"distancing\", \"distemper\", \"distribution\", \"distribution\", \"distribution\", \"distribution\", \"distribution\", \"distribution\", \"distribution\", \"distribution\", \"distribution\", \"distribution\", \"disulfide\", \"disulfide\", \"divergence\", \"divergence\", \"divergence\", \"divergence\", \"divergence\", \"divergence\", \"diversity\", \"diversity\", \"diversity\", \"diversity\", \"diversity\", \"diversity\", \"diversity\", \"docking\", \"docking\", \"domain\", \"domain\", \"domain\", \"domain\", \"domain\", \"domain\", \"domain\", \"donor\", \"donor\", \"donor\", \"donor\", \"donor\", \"donor\", \"donor\", \"downregulate\", \"downregulate\", \"downregulate\", \"dulbeccos\", \"dulbeccos_modifie\", \"dulbeccos_modified\", \"duty\", \"dynamic\", \"dynamic\", \"dynamic\", \"dynamic\", \"dynamic\", \"dynamic\", \"dynamic\", \"dynamic\", \"dynamical\", \"earthquake\", \"ebenfall\", \"ebioscience\", \"echinacea\", \"economic\", \"economic\", \"economic\", \"economic\", \"economic\", \"economic\", \"economic\", \"economy\", \"economy\", \"economy\", \"economy\", \"economy\", \"education\", \"education\", \"education\", \"education\", \"effect\", \"effect\", \"effect\", \"effect\", \"effect\", \"effect\", \"effect\", \"effect\", \"effect\", \"egalement\", \"eigenvalue\", \"eigenvector\", \"embedding\", \"embolization\", \"emergency\", \"emergency\", \"emergency\", \"emergency\", \"endoscopic\", \"endoscopy\", \"endoscopy\", \"endoscopy\", \"endosome\", \"endosome\", \"endothelial\", \"endothelial\", \"enfant\", \"engraftment\", \"engraftment\", \"environment\", \"environment\", \"environment\", \"environment\", \"environment\", \"environment\", \"environment\", \"environment\", \"environmental\", \"environmental\", \"environmental\", \"environmental\", \"environmental\", \"environmental\", \"environmental\", \"enzyme\", \"enzyme\", \"enzyme\", \"enzyme\", \"enzyme\", \"enzyme\", \"enzyme\", \"enzyme\", \"epidemic\", \"epidemic\", \"epidemic\", \"epidemic\", \"epidemic\", \"epithelial\", \"epithelial\", \"epithelial\", \"epithelial\", \"epitope\", \"epitope\", \"epitope\", \"equation\", \"equation\", \"equation\", \"equity\", \"ersten\", \"estimate\", \"estimate\", \"estimate\", \"estimate\", \"estimate\", \"estimate\", \"estimate\", \"estimate\", \"estimate\", \"estimation\", \"estimation\", \"estimation\", \"estimation\", \"estimation\", \"estimation\", \"estimation\", \"estimation\", \"estimator\", \"estudio\", \"evaluate\", \"evaluate\", \"evaluate\", \"evaluate\", \"evaluate\", \"evaluate\", \"evaluate\", \"evaluate\", \"evaluate\", \"evolutionary\", \"evolutionary\", \"evolutionary\", \"evolutionary\", \"evolutionary\", \"evolutionary\", \"exacerbation\", \"exacerbation\", \"exacerbation\", \"exacerbation\", \"example\", \"example\", \"example\", \"example\", \"example\", \"example\", \"example\", \"experiment\", \"experiment\", \"experiment\", \"experiment\", \"experiment\", \"experiment\", \"experiment\", \"experiment\", \"exponent\", \"exponential\", \"exponential\", \"exponential\", \"exponential\", \"exponential\", \"exponential\", \"exponential\", \"exponential\", \"exposure\", \"exposure\", \"exposure\", \"exposure\", \"exposure\", \"exposure\", \"exposure\", \"exposure\", \"express\", \"express\", \"express\", \"express\", \"express\", \"express\", \"express\", \"express\", \"expression\", \"expression\", \"expression\", \"expression\", \"expression\", \"expression\", \"expression\", \"extracorporeal\", \"factor\", \"factor\", \"factor\", \"factor\", \"factor\", \"factor\", \"factor\", \"factor\", \"factor\", \"factor\", \"failure\", \"failure\", \"failure\", \"failure\", \"failure\", \"failure\", \"failure\", \"failure\", \"failure\", \"failure\", \"farrow\", \"febrile\", \"febrile\", \"febrile\", \"febrile\", \"febrile\", \"feedlot\", \"femoral\", \"femoral\", \"femoral\", \"fertilizer\", \"figure\", \"figure\", \"figure\", \"figure\", \"figure\", \"figure\", \"figure\", \"figure\", \"figure\", \"figure\", \"financial\", \"financial\", \"financial\", \"financial\", \"financial\", \"financial\", \"financial\", \"financial\", \"financial\", \"fistula\", \"flask\", \"flask\", \"fluorescence_microscope\", \"fold\", \"fold\", \"fold\", \"fold\", \"fold\", \"follow\", \"follow\", \"follow\", \"follow\", \"follow\", \"follow\", \"follow\", \"follow\", \"follow\", \"follow\", \"forecast\", \"forecast\", \"formation\", \"formation\", \"formation\", \"formation\", \"formation\", \"formation\", \"formation\", \"formation\", \"formation\", \"fracture\", \"fracture\", \"fracture\", \"fracture\", \"frameshifte\", \"frameshifting\", \"frecuente\", \"function\", \"function\", \"function\", \"function\", \"function\", \"function\", \"function\", \"functionalize\", \"fusion\", \"fusion\", \"fusion\", \"fusion\", \"fusion\", \"fusion\", \"fusion\", \"genbank\", \"genbank\", \"geneious\", \"genetic\", \"genetic\", \"genetic\", \"genetic\", \"genetic\", \"genetic\", \"genetic\", \"genetic\", \"genetic\", \"genogroup\", \"genogroup\", \"genome\", \"genome\", \"genome\", \"genome\", \"genomic\", \"genomic\", \"genomic\", \"genomic\", \"genomic\", \"genotype\", \"genotype\", \"genotype\", \"genotype\", \"genotype\", \"gisaid\", \"global\", \"global\", \"global\", \"global\", \"global\", \"global\", \"global\", \"global\", \"global\", \"glycan\", \"governance\", \"government\", \"government\", \"graze\", \"graze\", \"groundwater\", \"group\", \"group\", \"group\", \"group\", \"group\", \"group\", \"group\", \"group\", \"group\", \"habitat\", \"habitat\", \"habitat\", \"habitat\", \"habitat\", \"haploidentical\", \"harvest\", \"harvest\", \"harvest\", \"harvest\", \"harvest\", \"harvest\", \"health\", \"health\", \"health\", \"health\", \"health\", \"health\", \"health\", \"health\", \"heifer\", \"helicase\", \"helicase\", \"helicase\", \"helix\", \"hemodynamic\", \"hemodynamic\", \"high\", \"high\", \"high\", \"high\", \"high\", \"high\", \"high\", \"high\", \"high\", \"homeostasis\", \"homeostasis\", \"homeostasis\", \"homeostatic\", \"homing\", \"horse\", \"horse\", \"horse\", \"hospital\", \"hospital\", \"hospital\", \"hospital\", \"hospital\", \"hospitalization\", \"hospitalization\", \"hospitalization\", \"hospitalize\", \"hospitalize\", \"hospitalize\", \"hospitalized\", \"hospitalized\", \"hospitalized\", \"however\", \"however\", \"however\", \"however\", \"however\", \"however\", \"however\", \"however\", \"however\", \"huanan_seafood\", \"human\", \"human\", \"human\", \"human\", \"human\", \"human\", \"human\", \"human\", \"hybridization\", \"hybridization\", \"hybridization\", \"hybridization\", \"hybridization\", \"hybridization\", \"hybridoma\", \"hyclone\", \"hydrogen\", \"hydrogen\", \"hydrogen\", \"hydrophobic\", \"hydrophobic\", \"hydroxyl\", \"identify\", \"identify\", \"identify\", \"identify\", \"identify\", \"identify\", \"identify\", \"identify\", \"identify\", \"identify\", \"identity\", \"identity\", \"identity\", \"identity\", \"identity\", \"identity\", \"illness\", \"illness\", \"illness\", \"illness\", \"illness\", \"illness\", \"illness\", \"image\", \"image\", \"image\", \"image\", \"image\", \"image\", \"imaging\", \"imaging\", \"imaging\", \"imaging\", \"immune\", \"immune\", \"immune\", \"immune\", \"immune\", \"immune\", \"immune\", \"immune\", \"immunization\", \"immunization\", \"immunization\", \"immunization\", \"immunize\", \"immunize\", \"immunize\", \"immunize\", \"immunogen\", \"immunogen\", \"immunogenicity\", \"immunogenicity\", \"immunogenicity\", \"immunogenicity\", \"impact\", \"impact\", \"impact\", \"impact\", \"impact\", \"impact\", \"impact\", \"impact\", \"impact\", \"impact\", \"include\", \"include\", \"include\", \"include\", \"include\", \"include\", \"include\", \"include\", \"include\", \"income\", \"income\", \"income\", \"increase\", \"increase\", \"increase\", \"increase\", \"increase\", \"increase\", \"increase\", \"increase\", \"increase\", \"incubate\", \"incubate\", \"incubate\", \"incubate\", \"incubate\", \"incubate\", \"indel\", \"indicate\", \"indicate\", \"indicate\", \"indicate\", \"indicate\", \"indicate\", \"indicate\", \"indicate\", \"indicate\", \"individual\", \"individual\", \"individual\", \"individual\", \"individual\", \"individual\", \"individual\", \"individual\", \"individual\", \"individual\", \"indoor\", \"indoor\", \"indoor\", \"indoor\", \"induce\", \"induce\", \"induce\", \"induce\", \"induce\", \"induce\", \"induce\", \"induce\", \"induce\", \"induction\", \"induction\", \"induction\", \"induction\", \"induction\", \"induction\", \"induction\", \"infant\", \"infant\", \"infant\", \"infant\", \"infant\", \"infant\", \"infeccion\", \"infect\", \"infect\", \"infect\", \"infect\", \"infect\", \"infect\", \"infect\", \"infect\", \"infect\", \"infectie\", \"infection\", \"infection\", \"infection\", \"infection\", \"infection\", \"infection\", \"infection\", \"infection\", \"infection\", \"infection\", \"infectious\", \"infectious\", \"infectious\", \"infectious\", \"infectious\", \"infectious\", \"infectious\", \"infectious\", \"infectious\", \"infectious\", \"infector\", \"infektion\", \"inflammasome\", \"inflammation\", \"inflammation\", \"inflammation\", \"inflammation\", \"inflammatory\", \"inflammatory\", \"inflammatory\", \"inflammatory\", \"influenza\", \"influenza\", \"influenza\", \"influenza\", \"influenza\", \"influenza\", \"influenza\", \"influenzae\", \"influenzae\", \"influenzae\", \"informal\", \"information\", \"information\", \"information\", \"information\", \"information\", \"information\", \"information\", \"information\", \"information\", \"information\", \"infrastructure\", \"infrastructure\", \"infrastructure\", \"infrastructure\", \"infrastructure\", \"infusion\", \"infusion\", \"infusion\", \"infusion\", \"infusion\", \"infusion\", \"infusion\", \"inhaled_corticosteroid\", \"inhibitor\", \"inhibitor\", \"inhibitor\", \"inhibitor\", \"inhibitor\", \"inhibitor\", \"innate\", \"innate\", \"innate\", \"innate\", \"inoculate\", \"inoculate\", \"inoculate\", \"inoculate\", \"inoculated\", \"inoculated\", \"inoculated\", \"inoculated_intranasally\", \"inoculation\", \"inoculation\", \"inoculation\", \"inoculation\", \"integer\", \"interact\", \"interact\", \"interact\", \"interact\", \"interact\", \"interact\", \"interact\", \"interaction\", \"interaction\", \"interaction\", \"interaction\", \"interaction\", \"interaction\", \"interaction\", \"interaction\", \"interaction\", \"intermolecular\", \"international\", \"international\", \"international\", \"international\", \"international\", \"international\", \"international\", \"international_license\", \"intestinal\", \"intestinal\", \"intestinal\", \"intestinal\", \"intestinal\", \"intestinal\", \"intramolecular\", \"investment\", \"investment\", \"investment\", \"investment\", \"investment\", \"investor\", \"isgylation\", \"isolate\", \"isolate\", \"isolate\", \"isolate\", \"isolate\", \"isolate\", \"isolate\", \"isolate\", \"isolate\", \"issue\", \"issue\", \"issue\", \"issue\", \"issue\", \"issue\", \"issue\", \"issue\", \"issue\", \"issue\", \"kernel\", \"kernel\", \"kitten\", \"knowledge\", \"knowledge\", \"knowledge\", \"knowledge\", \"knowledge\", \"knowledge\", \"knowledge\", \"knowledge\", \"knowledge\", \"lameness\", \"laparoscopic\", \"laparoscopy\", \"laryngitis\", \"leadership\", \"lesion\", \"lesion\", \"lesion\", \"lesion\", \"lesion\", \"lesion\", \"lesion\", \"level\", \"level\", \"level\", \"level\", \"level\", \"level\", \"level\", \"level\", \"level\", \"levofloxacin\", \"license\", \"license\", \"license\", \"license\", \"lineage\", \"lineage\", \"lineage\", \"lineage\", \"lineage\", \"livestock\", \"livestock\", \"livestock\", \"livestock\", \"livestock\", \"lncrna\", \"lsectin\", \"lymphocyte\", \"lymphocyte\", \"lymphocyte\", \"lymphocyte\", \"lymphocyte\", \"lysate\", \"lysate\", \"macrodomain\", \"macrolide\", \"macrolide\", \"macrolide\", \"macrolide\", \"macrophage\", \"macrophage\", \"macrophage\", \"maculopapular\", \"manure\", \"market\", \"market\", \"market\", \"market\", \"market\", \"market\", \"market\", \"mastitis\", \"mastitis\", \"matched_unrelated\", \"material\", \"material\", \"material\", \"material\", \"material\", \"material\", \"material\", \"material\", \"material\", \"mathematical\", \"mathematical\", \"mathematical\", \"mathematical\", \"mathematical\", \"mathematically\", \"measure\", \"measure\", \"measure\", \"measure\", \"measure\", \"measure\", \"measure\", \"measure\", \"measure\", \"mechanism\", \"mechanism\", \"mechanism\", \"mechanism\", \"mechanism\", \"mechanism\", \"mechanism\", \"mechanism\", \"mechanism\", \"median\", \"median\", \"median\", \"median\", \"median\", \"mediate\", \"mediate\", \"mediate\", \"mediate\", \"mediate\", \"mediate\", \"mediate\", \"mediate\", \"mediator\", \"mediator\", \"mediator\", \"mediator\", \"mediator\", \"medical\", \"medical\", \"medical\", \"medical\", \"medical\", \"medical\", \"medical\", \"medical\", \"medical\", \"medium\", \"medium\", \"medium\", \"medium\", \"medium\", \"medium\", \"medium\", \"medium\", \"medium\", \"medrxiv\", \"membrane\", \"membrane\", \"membrane\", \"membrane\", \"membrane\", \"membrane\", \"membrane\", \"membrane\", \"meningococcal\", \"meningococcal\", \"meningococcal\", \"metagenome\", \"metagenomic\", \"metapopulation\", \"method\", \"method\", \"method\", \"method\", \"method\", \"method\", \"method\", \"method\", \"micelle\", \"microarray\", \"microarray\", \"microglia\", \"microglial\", \"microorganism\", \"microorganism\", \"microorganism\", \"microorganism\", \"microorganism\", \"migrant\", \"migrant\", \"migrant\", \"migrant\", \"milk\", \"mimotope\", \"minion\", \"mittel\", \"mockinfecte\", \"model\", \"model\", \"model\", \"model\", \"model\", \"model\", \"model\", \"model\", \"moiety\", \"moiety\", \"moiety\", \"moisture\", \"moisture\", \"molecular\", \"molecular\", \"molecular\", \"molecular\", \"molecular\", \"molecular\", \"molecular\", \"molecular\", \"molecular_beacon\", \"molecule\", \"molecule\", \"molecule\", \"molecule\", \"molecule\", \"molecule\", \"monocyte\", \"monocyte\", \"monocyte\", \"monocyte\", \"monomer\", \"monomer\", \"mononucleosis\", \"monophyletic\", \"month\", \"month\", \"month\", \"month\", \"month\", \"month\", \"month\", \"mortality\", \"mortality\", \"mortality\", \"mortality\", \"mortality\", \"mortality\", \"mortality\", \"mortality\", \"muench\", \"multiplexe\", \"multiplexe\", \"multiplexing\", \"mutant\", \"mutant\", \"mutant\", \"mutant\", \"mutant\", \"mutation\", \"mutation\", \"mutation\", \"mutation\", \"mutation\", \"mutation\", \"mutation\", \"mutation\", \"myelin\", \"myelination\", \"myeloablative\", \"myocyte\", \"myofibroblast\", \"nanostructure\", \"nanovaccine\", \"nasopharyngeal\", \"nasopharyngeal\", \"nasopharyngeal\", \"national\", \"national\", \"national\", \"national\", \"national\", \"national\", \"national\", \"national\", \"negotiation\", \"neighbor_joine\", \"neighbor_joining\", \"network\", \"network\", \"network\", \"network\", \"neuron\", \"neuron\", \"neuron\", \"neuronal\", \"neuronal\", \"neuronal\", \"neutralization\", \"neutralization\", \"neutralization\", \"neutralization\", \"neutralize\", \"neutralize\", \"neutralize\", \"neutralize\", \"neutralize\", \"neutralizing\", \"neutralizing\", \"neutralizing\", \"neutrophil\", \"neutrophil\", \"neutrophil\", \"nocardia\", \"nonasthmatic\", \"nonatopic\", \"nonrespiratory\", \"nonsuppurative\", \"nonsynonymous\", \"normal\", \"normal\", \"normal\", \"normal\", \"normal\", \"normal\", \"normal\", \"normal\", \"normal\", \"nosocomial\", \"nosocomial\", \"nosocomial\", \"nosocomial\", \"nucleotide\", \"nucleotide\", \"nucleotide\", \"nucleotide\", \"number\", \"number\", \"number\", \"number\", \"number\", \"number\", \"number\", \"number\", \"number\", \"numerical\", \"numerical\", \"numerical\", \"numerical\", \"numerical\", \"obligation\", \"obligation\", \"observe\", \"observe\", \"observe\", \"observe\", \"observe\", \"observe\", \"observe\", \"observe\", \"observe\", \"observe\", \"oligomer\", \"oligomer\", \"omalizumab\", \"omalizumab\", \"oncologic\", \"oncologist\", \"oocyst\", \"ordinary_differential\", \"organism\", \"organism\", \"organism\", \"organism\", \"organism\", \"organism\", \"organism\", \"organoid\", \"oseltamivir\", \"oseltamivir\", \"oseltamivir\", \"oseltamivir\", \"osteoclast\", \"otitis\", \"otitis\", \"otitis\", \"outbreak\", \"outbreak\", \"outbreak\", \"outbreak\", \"outbreak\", \"outbreak\", \"outcome\", \"outcome\", \"outcome\", \"outcome\", \"outcome\", \"outcome\", \"outcome\", \"outcome\", \"outgroup\", \"overnight\", \"overnight\", \"overnight\", \"overnight\", \"overnight\", \"overnight\", \"overnight\", \"oxidative_stress\", \"oxidative_stress\", \"paciente\", \"palmitoylation\", \"pandemic\", \"pandemic\", \"pandemic\", \"pandemic\", \"pandemic\", \"parainfl\", \"parameter\", \"parameter\", \"parameter\", \"parameter\", \"parameter\", \"parameter\", \"parameter\", \"parameter\", \"parameterize\", \"parasite\", \"parasite\", \"parasite\", \"parasite\", \"parasite\", \"parasite\", \"parasite\", \"parenteral_nutrition\", \"participant\", \"participant\", \"participant\", \"participant\", \"particle\", \"particle\", \"particle\", \"particle\", \"particle\", \"particle\", \"particle\", \"partnership\", \"partnership\", \"partnership\", \"partnership\", \"parvum\", \"pasture\", \"pathogen\", \"pathogen\", \"pathogen\", \"pathogen\", \"pathogen\", \"pathogen\", \"pathogen\", \"pathogen\", \"pathway\", \"pathway\", \"pathway\", \"pathway\", \"pathway\", \"pathway\", \"pathway\", \"patient\", \"patient\", \"patient\", \"patient\", \"patient\", \"patient\", \"patienten\", \"pcaggs\", \"people\", \"people\", \"people\", \"people\", \"people\", \"people\", \"people\", \"peptide\", \"peptide\", \"peptide\", \"peptide\", \"peptide\", \"perceive\", \"perceive\", \"perceive\", \"perceive\", \"perceive\", \"perceive\", \"percolation\", \"perform\", \"perform\", \"perform\", \"perform\", \"perform\", \"perform\", \"perform\", \"perform\", \"perfringen\", \"perfringen\", \"period\", \"period\", \"period\", \"period\", \"period\", \"period\", \"period\", \"perpetuity\", \"peuvent\", \"pharmacophore\", \"pharyngitis\", \"pharyngitis\", \"photocatalytic\", \"photoreceptor\", \"phylodynamic\", \"phylogenetic\", \"phylogeny\", \"plant\", \"plant\", \"plant\", \"plant\", \"plant\", \"plaque\", \"plaque\", \"plaque\", \"plaque\", \"plaque\", \"plaque\", \"plaque\", \"plasmid\", \"plasmid\", \"plasmid\", \"plate\", \"plate\", \"plate\", \"plate\", \"platelet\", \"platelet\", \"pluripotent\", \"pneumococcal\", \"pneumococcal\", \"pneumococcal\", \"pneumococcal_conjugate\", \"pneumococcus\", \"pneumolysin\", \"pneumonia\", \"pneumonia\", \"pneumonia\", \"pneumonia\", \"pneumoniae\", \"pneumoniae\", \"pneumoniae\", \"pneumoniae\", \"pneumoniae\", \"podocyte\", \"policy\", \"policy\", \"policy\", \"policy\", \"policymaker\", \"politic\", \"political\", \"pollutant\", \"pollutant\", \"pollutant\", \"pollutant\", \"pollutant\", \"polyclonal\", \"polyclonal\", \"polyclonal\", \"polyclonal\", \"polynomial\", \"polyvinylidene_difluoride\", \"population\", \"population\", \"population\", \"population\", \"population\", \"population\", \"population\", \"population\", \"population\", \"posible\", \"positive\", \"positive\", \"positive\", \"positive\", \"positive\", \"positive\", \"positive\", \"positive\", \"positive\", \"positive\", \"possible\", \"possible\", \"possible\", \"possible\", \"possible\", \"possible\", \"possible\", \"possible\", \"possible\", \"possible\", \"postchallenge\", \"postinfection\", \"postinfection\", \"postinfection\", \"postinfection\", \"postoperative\", \"postoperative\", \"postoperatively\", \"poult\", \"practice\", \"practice\", \"practice\", \"practice\", \"practice\", \"practice\", \"prediction\", \"prediction\", \"prediction\", \"prediction\", \"prediction\", \"prediction\", \"preoperative\", \"preparedness\", \"preschool\", \"preschool\", \"present\", \"present\", \"present\", \"present\", \"present\", \"present\", \"present\", \"present\", \"present\", \"present\", \"pressure\", \"pressure\", \"pressure\", \"pressure\", \"pressure\", \"pressure\", \"pressure\", \"pressure\", \"pretransplant\", \"prevalence\", \"prevalence\", \"prevalence\", \"prevalence\", \"prevalence\", \"prevalence\", \"prevalence\", \"previously\", \"previously\", \"previously\", \"previously\", \"previously\", \"previously\", \"previously\", \"previously\", \"previously\", \"primer\", \"primer\", \"primer\", \"prior\", \"prior\", \"probabilit\", \"probability\", \"probability\", \"probability\", \"probability\", \"probability\", \"probability\", \"probability\", \"probability\", \"produce\", \"produce\", \"produce\", \"produce\", \"produce\", \"produce\", \"produce\", \"produce\", \"produce\", \"produce\", \"product\", \"product\", \"product\", \"product\", \"product\", \"product\", \"product\", \"product\", \"product\", \"production\", \"production\", \"production\", \"production\", \"production\", \"production\", \"production\", \"production\", \"production\", \"professional\", \"professional\", \"professional\", \"professional\", \"professional\", \"professional\", \"prognosis\", \"prognosis\", \"prognosis\", \"prognosis\", \"prognostic\", \"prognostic\", \"prognostic\", \"prognostic\", \"prognostic\", \"program\", \"program\", \"program\", \"program\", \"program\", \"program\", \"program\", \"program\", \"program\", \"program\", \"proinflammatory\", \"proinflammatory\", \"proinflammatory_cytokine\", \"proliferation\", \"proliferation\", \"proliferation\", \"proliferation\", \"proliferation\", \"proliferation\", \"proliferation\", \"proliferation\", \"protease\", \"protease\", \"protease\", \"protease\", \"protease\", \"protease\", \"protein\", \"protein\", \"protein\", \"protein\", \"protein\", \"protein\", \"protein\", \"protein\", \"protomer\", \"provide\", \"provide\", \"provide\", \"provide\", \"provide\", \"provide\", \"provide\", \"provide\", \"provide\", \"pruritic\", \"pseudoknot\", \"pseudotype\", \"pseudotype\", \"public\", \"public\", \"public\", \"public\", \"public\", \"public\", \"public\", \"pulmonary\", \"pulmonary\", \"pulmonary\", \"pulmonary\", \"puppy\", \"purify\", \"purify\", \"purify\", \"purify\", \"purify\", \"quadratic\", \"quasispecie\", \"quasispecie\", \"quasispecie\", \"rabbit_polyclonal\", \"rabie\", \"rabie\", \"rabie\", \"rabie\", \"rabie\", \"rabie\", \"rabie\", \"radiologist\", \"radiotherapy\", \"radiotherapy\", \"rahman\", \"rahman\", \"random\", \"random\", \"random\", \"random\", \"random\", \"random\", \"random\", \"random\", \"rante\", \"rante\", \"rante\", \"reachability\", \"reaction\", \"reaction\", \"reaction\", \"reaction\", \"reaction\", \"reaction\", \"reaction\", \"reaction\", \"reaction\", \"reaction\", \"reactogenicity\", \"reactor\", \"reactor\", \"rear\", \"rear\", \"rear\", \"rear\", \"receive\", \"receive\", \"receive\", \"receive\", \"receive\", \"receive\", \"receive\", \"receive\", \"receive\", \"receptor\", \"receptor\", \"receptor\", \"receptor\", \"receptor\", \"receptor\", \"receptor\", \"recombinant\", \"recombinant\", \"recombinant\", \"recombinant\", \"recombinant\", \"recombinant\", \"recombination\", \"recombination\", \"recombination\", \"recombination\", \"recombination\", \"recurrence\", \"recurrence\", \"recurrence\", \"recurrence\", \"recurrence\", \"recurrence\", \"recurrence\", \"recurrent_wheeze\", \"refseq\", \"region\", \"region\", \"region\", \"region\", \"region\", \"region\", \"region\", \"region\", \"region\", \"region\", \"regularization\", \"regulate\", \"regulate\", \"regulate\", \"regulate\", \"regulate\", \"relapse\", \"relapse\", \"relapse\", \"relapse\", \"remyelination\", \"replacer\", \"replication\", \"replication\", \"replication\", \"replication\", \"replication\", \"replication\", \"report\", \"report\", \"report\", \"report\", \"report\", \"report\", \"report\", \"report\", \"report\", \"reproduction\", \"reproduction\", \"reproduction\", \"reproduction\", \"reproduction\", \"reproduction\", \"reproduction\", \"reproduction\", \"research\", \"research\", \"research\", \"research\", \"research\", \"research\", \"research\", \"research\", \"research\", \"resection\", \"resection\", \"resection\", \"residue\", \"residue\", \"residue\", \"residue\", \"resource\", \"resource\", \"resource\", \"resource\", \"resource\", \"resource\", \"resource\", \"resource\", \"resource\", \"respiratoire\", \"respiratory\", \"respiratory\", \"respiratory\", \"respiratory\", \"respiratory\", \"respiratory\", \"respiratory\", \"respiratory\", \"respiratory\", \"respiratory\", \"respondent\", \"respondent\", \"responsable\", \"responsable\", \"response\", \"response\", \"response\", \"response\", \"response\", \"response\", \"response\", \"restimulate\", \"restimulation\", \"result\", \"result\", \"result\", \"result\", \"result\", \"result\", \"result\", \"result\", \"result\", \"resuscitation\", \"resuscitation\", \"resuscitation\", \"resuspend\", \"resuspend\", \"resuspend\", \"resuspend\", \"revenue\", \"rhinitis\", \"rhinitis\", \"rhinitis\", \"rhinitis\", \"rhinorrhea\", \"rhinosinusitis\", \"rhinosinusitis\", \"rhinosinusitis\", \"ribosome\", \"ribosome\", \"ribosylation\", \"risque\", \"risultati\", \"ruminant\", \"ruminant\", \"ruminant\", \"ruminant\", \"salmonella\", \"salmonella\", \"salmonella\", \"salmonella\", \"salmonella\", \"salmonella\", \"sample\", \"sample\", \"sample\", \"sample\", \"sample\", \"sample\", \"sample\", \"sanger\", \"sanger\", \"sanger\", \"scalar\", \"scenario\", \"scenario\", \"scenario\", \"scenario\", \"scenario\", \"scenario\", \"scenario\", \"scenario\", \"scintigraphy\", \"season\", \"season\", \"season\", \"season\", \"seasonal\", \"seasonal\", \"seasonal\", \"seasonal\", \"seasonal\", \"sector\", \"sector\", \"sector\", \"sector\", \"sector\", \"security\", \"security\", \"security\", \"sedation\", \"sedation\", \"sedation\", \"semantic\", \"semantic\", \"sensitisation\", \"sepsis\", \"sepsis\", \"sepsis\", \"sepsis\", \"sequence\", \"sequence\", \"sequence\", \"sequence\", \"sequence\", \"sequence\", \"sequence\", \"sequencer\", \"sequencing\", \"sequencing\", \"sequencing\", \"sequencing\", \"sequencing\", \"sequencing\", \"service\", \"service\", \"service\", \"service\", \"service\", \"service\", \"service\", \"severe\", \"severe\", \"severe\", \"severe\", \"severe\", \"severe\", \"severe\", \"severe\", \"severe\", \"severe\", \"severity\", \"severity\", \"severity\", \"severity\", \"severity\", \"severity\", \"severity\", \"shellfish\", \"show\", \"show\", \"show\", \"show\", \"show\", \"show\", \"show\", \"show\", \"show\", \"signal\", \"signal\", \"signal\", \"signal\", \"signal\", \"signal\", \"signal\", \"signaling\", \"signaling\", \"significant\", \"significant\", \"significant\", \"significant\", \"significant\", \"significant\", \"significant\", \"significant\", \"significant\", \"simplot\", \"simulate\", \"simulate\", \"simulate\", \"simulate\", \"simulate\", \"simulate\", \"simulate\", \"simulation\", \"simulation\", \"simulation\", \"simulation\", \"simulation\", \"situation\", \"situation\", \"situation\", \"situation\", \"situation\", \"situation\", \"situation\", \"situation\", \"situation\", \"situation\", \"slaughter\", \"slaughter\", \"slaughterhouse\", \"smooth_muscle\", \"social\", \"social\", \"social\", \"social\", \"social\", \"social\", \"source\", \"source\", \"source\", \"source\", \"source\", \"source\", \"source\", \"source\", \"source\", \"source\", \"souvent\", \"spatial\", \"spatial\", \"spatial\", \"spatial\", \"spatial\", \"spatial\", \"specie\", \"specie\", \"specie\", \"specie\", \"specie\", \"specific\", \"specific\", \"specific\", \"specific\", \"specific\", \"specific\", \"specific\", \"specific\", \"specific\", \"spore\", \"spore\", \"spore\", \"spread\", \"spread\", \"spread\", \"spread\", \"spread\", \"spread\", \"spread\", \"spread\", \"sputum\", \"sputum\", \"sputum\", \"sputum\", \"stain\", \"stain\", \"stain\", \"stain\", \"stain\", \"stain\", \"stakeholder\", \"stenosis\", \"stenosis\", \"steric\", \"stimulate\", \"stimulate\", \"stimulate\", \"stimulate\", \"stimulate\", \"stimulate\", \"stimulation\", \"stimulation\", \"stimulation\", \"stimulation\", \"stimulation\", \"stimulation\", \"stochastic\", \"stochastic\", \"stochastic\", \"strain\", \"strain\", \"strain\", \"strain\", \"strain\", \"strain\", \"strain\", \"structural\", \"structural\", \"structural\", \"structural\", \"structural\", \"structural\", \"structural\", \"structural\", \"structure\", \"structure\", \"structure\", \"structure\", \"structure\", \"structure\", \"structure\", \"structure\", \"study\", \"study\", \"study\", \"study\", \"study\", \"study\", \"study\", \"study\", \"study\", \"sublineage\", \"substituent\", \"substrate\", \"substrate\", \"substrate\", \"substrate\", \"substrate\", \"substring\", \"suggest\", \"suggest\", \"suggest\", \"suggest\", \"suggest\", \"suggest\", \"suggest\", \"suggest\", \"suggest\", \"supernatant\", \"supernatant\", \"support\", \"support\", \"support\", \"support\", \"support\", \"support\", \"support\", \"support\", \"support\", \"support\", \"surface\", \"surface\", \"surface\", \"surface\", \"surface\", \"surface\", \"surface\", \"surface\", \"surface\", \"surgery\", \"surgery\", \"surgery\", \"surgical\", \"surgical\", \"surgical\", \"surgical\", \"survival\", \"survival\", \"survival\", \"survival\", \"survival\", \"survival\", \"survival\", \"svegfr\", \"symptom\", \"symptom\", \"symptom\", \"symptom\", \"symptom\", \"symptom\", \"symptom\", \"symptom\", \"synonymous\", \"synonymous\", \"synonymous\", \"synonymous\", \"synonymous\", \"synonymous\", \"synthesis\", \"synthesis\", \"synthesis\", \"synthesis\", \"synthesis\", \"synthesis\", \"synthesis\", \"synthesis\", \"system\", \"system\", \"system\", \"system\", \"system\", \"system\", \"system\", \"system\", \"system\", \"system\", \"systolic\", \"target\", \"target\", \"target\", \"target\", \"target\", \"target\", \"target\", \"target\", \"technique\", \"technique\", \"technique\", \"technique\", \"technique\", \"technique\", \"technique\", \"technique\", \"technique\", \"technique\", \"telehealth\", \"temperature\", \"temperature\", \"temperature\", \"temperature\", \"temperature\", \"temperature\", \"temperature\", \"temperature\", \"tender_procedure\", \"terminal\", \"terminal\", \"terminal\", \"terminal\", \"terminal\", \"terminal\", \"terminal\", \"terminal\", \"terminus\", \"terminus\", \"terminus\", \"test\", \"test\", \"test\", \"test\", \"test\", \"test\", \"test\", \"test\", \"thalassemia\", \"theorem\", \"therapie\", \"therapie\", \"therapie\", \"therapie\", \"therapie\", \"therapie\", \"therapie\", \"therapy\", \"therapy\", \"therapy\", \"therapy\", \"therapy\", \"therapy\", \"therapy\", \"threat\", \"threat\", \"threat\", \"threat\", \"threat\", \"threat\", \"threat\", \"throat\", \"throat\", \"throat\", \"throat\", \"tissue\", \"tissue\", \"tissue\", \"tissue\", \"tissue\", \"tissue\", \"titer\", \"titer\", \"titer\", \"titer\", \"titer\", \"titere\", \"tourism\", \"tourist\", \"tracheostomy\", \"traitement\", \"transfecte\", \"transfecte\", \"transfuse\", \"transfuse\", \"transfuse\", \"transfusion\", \"transfusion\", \"transfusion\", \"transfusion\", \"translation\", \"translation\", \"translation\", \"translation\", \"translation\", \"translation\", \"translation\", \"transmission\", \"transmission\", \"transmission\", \"transmission\", \"transmission\", \"transmission\", \"transmission\", \"transmission\", \"transplant\", \"transplant\", \"transplant\", \"transplant\", \"transplantation\", \"transplantation\", \"transplantation\", \"transplantation\", \"trauma\", \"trauma\", \"trauma\", \"trauma\", \"trauma\", \"travel_restriction\", \"travelers_returne\", \"treat\", \"treat\", \"treat\", \"treat\", \"treat\", \"treat\", \"treat\", \"treat\", \"treatment\", \"treatment\", \"treatment\", \"treatment\", \"treatment\", \"treatment\", \"treatment\", \"treatment\", \"trimer\", \"trimer\", \"triplicate\", \"triplicate\", \"triplicate\", \"trophoblast\", \"trypsinize\", \"tweet\", \"twitter\", \"ubiquitin\", \"ubiquitin\", \"ubiquitination\", \"ubiquitination\", \"ultrasonography\", \"ultrasound\", \"ultrasound\", \"undergo\", \"undergo\", \"undergo\", \"undergo\", \"undergo\", \"undergo\", \"undergo\", \"undergo\", \"undergo\", \"unigene\", \"upregulate\", \"upregulate\", \"upregulated\", \"upregulated\", \"upregulation\", \"upregulation\", \"usually\", \"usually\", \"usually\", \"usually\", \"usually\", \"usually\", \"usually\", \"usually\", \"vaccine\", \"vaccine\", \"vaccine\", \"vaccine\", \"vaccine\", \"value\", \"value\", \"value\", \"value\", \"value\", \"value\", \"value\", \"variable\", \"variable\", \"variable\", \"variable\", \"variable\", \"variable\", \"variable\", \"variable\", \"variable\", \"variable\", \"variant\", \"variant\", \"variant\", \"variant\", \"variant\", \"variant\", \"variant\", \"variant\", \"variant\", \"varicella\", \"varicella\", \"varicella\", \"vector\", \"vector\", \"vector\", \"vector\", \"vector\", \"vector\", \"vector\", \"venous\", \"venous\", \"venous\", \"venous\", \"venous\", \"version_poste\", \"veterinarian\", \"veterinarian\", \"veterinary\", \"veterinary\", \"veterinary\", \"veterinary\", \"virale\", \"virale\", \"virome\", \"viroporin\", \"virtual_screene\", \"virus\", \"virus\", \"virus\", \"virus\", \"virus\", \"wahrend\", \"wash\", \"wash\", \"wash\", \"wash\", \"wash\", \"wash\", \"washed\", \"washed\", \"washed\", \"washed\", \"wastewater\", \"wheeze\", \"wheeze\", \"wheeze\", \"wheezing\", \"wheezing\", \"wildlife\", \"wildlife\", \"wildlife\", \"worden\", \"wurden\"]}, \"R\": 30, \"lambda.step\": 0.01, \"plot.opts\": {\"xlab\": \"PC1\", \"ylab\": \"PC2\"}, \"topic.order\": [6, 1, 2, 7, 9, 8, 4, 3, 10, 5]};\n",
       "\n",
       "function LDAvis_load_lib(url, callback){\n",
       "  var s = document.createElement('script');\n",
       "  s.src = url;\n",
       "  s.async = true;\n",
       "  s.onreadystatechange = s.onload = callback;\n",
       "  s.onerror = function(){console.warn(\"failed to load library \" + url);};\n",
       "  document.getElementsByTagName(\"head\")[0].appendChild(s);\n",
       "}\n",
       "\n",
       "if(typeof(LDAvis) !== \"undefined\"){\n",
       "   // already loaded: just create the visualization\n",
       "   !function(LDAvis){\n",
       "       new LDAvis(\"#\" + \"ldavis_el1930427027715753688693654853\", ldavis_el1930427027715753688693654853_data);\n",
       "   }(LDAvis);\n",
       "}else if(typeof define === \"function\" && define.amd){\n",
       "   // require.js is available: use it to load d3/LDAvis\n",
       "   require.config({paths: {d3: \"https://cdnjs.cloudflare.com/ajax/libs/d3/3.5.5/d3.min\"}});\n",
       "   require([\"d3\"], function(d3){\n",
       "      window.d3 = d3;\n",
       "      LDAvis_load_lib(\"https://cdn.rawgit.com/bmabey/pyLDAvis/files/ldavis.v1.0.0.js\", function(){\n",
       "        new LDAvis(\"#\" + \"ldavis_el1930427027715753688693654853\", ldavis_el1930427027715753688693654853_data);\n",
       "      });\n",
       "    });\n",
       "}else{\n",
       "    // require.js not available: dynamically load d3 & LDAvis\n",
       "    LDAvis_load_lib(\"https://cdnjs.cloudflare.com/ajax/libs/d3/3.5.5/d3.min.js\", function(){\n",
       "         LDAvis_load_lib(\"https://cdn.rawgit.com/bmabey/pyLDAvis/files/ldavis.v1.0.0.js\", function(){\n",
       "                 new LDAvis(\"#\" + \"ldavis_el1930427027715753688693654853\", ldavis_el1930427027715753688693654853_data);\n",
       "            })\n",
       "         });\n",
       "}\n",
       "</script>"
      ],
      "text/plain": [
       "PreparedData(topic_coordinates=              x         y  topics  cluster       Freq\n",
       "topic                                                \n",
       "5     -0.014581 -0.113776       1        1  15.220592\n",
       "0     -0.038060 -0.158563       2        1  13.895149\n",
       "1     -0.080871  0.188165       3        1  11.792665\n",
       "6     -0.054947  0.105410       4        1  11.613102\n",
       "8     -0.018414 -0.141029       5        1  11.364284\n",
       "7     -0.083848  0.129686       6        1   9.778212\n",
       "3     -0.067463 -0.071284       7        1   9.701550\n",
       "2     -0.081601  0.050737       8        1   8.342007\n",
       "9     -0.042549 -0.030074       9        1   7.617773\n",
       "4      0.482333  0.040727      10        1   0.674676, topic_info=     Category          Freq        Term         Total  loglift  logprob\n",
       "379   Default  1.058356e+06     patient  1.058356e+06  30.0000  30.0000\n",
       "208   Default  6.721520e+05     protein  6.721520e+05  29.0000  29.0000\n",
       "124   Default  7.443580e+05   infection  7.443580e+05  28.0000  28.0000\n",
       "694   Default  2.867010e+05    sequence  2.867010e+05  27.0000  27.0000\n",
       "16    Default  2.517270e+05    antibody  2.517270e+05  26.0000  26.0000\n",
       "...       ...           ...         ...           ...      ...      ...\n",
       "1548  Topic10  1.309108e+03   situation  3.955217e+04   1.5904  -6.1605\n",
       "529   Topic10  1.354920e+03  diagnostic  6.851073e+04   1.0754  -6.1261\n",
       "196   Topic10  1.314800e+03    possible  1.223551e+05   0.4655  -6.1561\n",
       "333   Topic10  1.316259e+03      factor  2.394139e+05  -0.2047  -6.1550\n",
       "259   Topic10  1.125855e+03   technique  7.260898e+04   0.8321  -6.3113\n",
       "\n",
       "[942 rows x 6 columns], token_table=       Topic      Freq       Term\n",
       "term                             \n",
       "1771       1  0.853266  abdominal\n",
       "1771       5  0.044454  abdominal\n",
       "1771       6  0.002985  abdominal\n",
       "1771       9  0.094815  abdominal\n",
       "1771      10  0.004478  abdominal\n",
       "...      ...       ...        ...\n",
       "12211      2  0.046394   wildlife\n",
       "12211      8  0.027290   wildlife\n",
       "12211      9  0.926195   wildlife\n",
       "8006      10  0.999638     worden\n",
       "8007      10  0.999867     wurden\n",
       "\n",
       "[3205 rows x 3 columns], R=30, lambda_step=0.01, plot_opts={'xlab': 'PC1', 'ylab': 'PC2'}, topic_order=[6, 1, 2, 7, 9, 8, 4, 3, 10, 5])"
      ]
     },
     "execution_count": 10,
     "metadata": {},
     "output_type": "execute_result"
    }
   ],
   "source": [
    "pyLDAvis.enable_notebook()\n",
    "vis = pyLDAvis.gensim.prepare(lda_saved_mod, d_corpus, id2word1)\n",
    "vis"
   ]
  },
  {
   "cell_type": "markdown",
   "metadata": {},
   "source": [
    "### Hyperparameter selection"
   ]
  },
  {
   "cell_type": "code",
   "execution_count": null,
   "metadata": {},
   "outputs": [],
   "source": [
    "def compute_coherence_values(corpus, dictionary, texts, limit, start=2, step=3):\n",
    "    \"\"\"\n",
    "    Compute c_v coherence for various number of topics\n",
    "    \n",
    "    THIS DOES NOT TAKE INTO ACCOUNT ALTERATIONS TO ANY HYPERPARAMTERS OTHER THAN K\n",
    "\n",
    "    Parameters:\n",
    "    ----------\n",
    "    dictionary : Gensim dictionary\n",
    "    corpus : Gensim corpus\n",
    "    texts : List of input texts\n",
    "    limit : Max num of topics\n",
    "\n",
    "    Returns:\n",
    "    -------\n",
    "    model_list : List of LDA topic models\n",
    "    coherence_values : Coherence values corresponding to the LDA model with respective number of topics\n",
    "    \"\"\"\n",
    "    #changed this to a dictionary as it is easier to handle in a dataframe\n",
    "    #if this does not work for some reason, use data strucutre: list\n",
    "    model_res = {\n",
    "        'model_list' : [],\n",
    "        'coherence_values' : []\n",
    "        }\n",
    "    tbar = tqdm.tqdm(total = limit//2)\n",
    "    for num_topics in range(start, limit, step):\n",
    "        #better results, however this is about ~5 to 7x slower than Multicore\n",
    "        model = gensim.models.ldamodel.LdaModel(corpus=corpus,\n",
    "                                           id2word=dictionary,\n",
    "                                           num_topics= num_topics, \n",
    "                                           random_state=100,\n",
    "                                           update_every=1,\n",
    "                                           chunksize=100,\n",
    "                                           passes=50,\n",
    "                                           alpha='auto',\n",
    "                                           per_word_topics=True)\n",
    "            \n",
    "#this version is faster, but produces worst results because we lose access to asymmetric alpha 'auto'    \n",
    "    \n",
    "#         model = gensim.models.ldamulticore.LdaMulticore(corpus=corpus,\n",
    "#                                            id2word=id2word,\n",
    "#                                            num_topics=20, \n",
    "#                                            random_state=100,\n",
    "#                                            chunksize=100,\n",
    "#                                            workers=11, # Num. Processing Cores - 1         \n",
    "#                                            passes=50,\n",
    "#                                            eval_every= 1,\n",
    "#                                            #important to note that we lose access to auto-configured alpha when using multicore\n",
    "#                             \n",
    "\n",
    "# per_word_topics=True)\n",
    "        \n",
    "        model_res['model_list'].append(model)\n",
    "        coherencemodel = CoherenceModel(model=model, texts=texts, dictionary=dictionary, coherence='c_v')\n",
    "        model_res['coherence_values'].append(coherencemodel.get_coherence())\n",
    "        tbar.update(1)\n",
    "    \n",
    "    \n",
    "    pd.DataFrame(model_res).to_csv('topic_tuning.csv', index=False)\n",
    "    tbar.close()\n",
    "    return model_res\n",
    "\n",
    "\n",
    "# supporting function\n",
    "def fine_tuned_coherence_values(corpus, dictionary, k, a, b):\n",
    "    \"\"\"\n",
    "    Compute c_v coherence for various number of topics, alphas, and eta values\n",
    "    \n",
    "    THIS DOES NOT TAKE INTO ACCOUNT ALTERATIONS TO ANY HYPERPARAMTERS OTHER THAN K\n",
    "\n",
    "    Parameters:\n",
    "    ----------\n",
    "    dictionary : Gensim dictionary\n",
    "    corpus : Gensim corpus\n",
    "    k: number of topics passed as vector\n",
    "    a = alpha (auto sets it to 1.0/num_topics)\n",
    "    b = eta (auto sets: A-priori belief on word probability, can be scalar, vector, etc.)\n",
    "\n",
    "    Returns:\n",
    "    -------\n",
    "    model_list : List of LDA topic models\n",
    "    coherence_values : Coherence values corresponding to the LDA \n",
    "    model with respective number of topics\n",
    "    \"\"\"\n",
    "    \n",
    "    lda_model = gensim.models.LdaMulticore(corpus=corpus,\n",
    "                                           id2word=dictionary,\n",
    "                                           num_topics=10, \n",
    "                                           random_state=100,\n",
    "                                           chunksize=100,\n",
    "                                           workers=11, # Num. Processing Cores - 1        \n",
    "                                           passes=50,\n",
    "                                           alpha=a,\n",
    "                                           eta=b,\n",
    "                                           per_word_topics=True)\n",
    "    \n",
    "    coherence_model_lda = CoherenceModel(model=lda_model, texts=texts, dictionary=dictionary, coherence='c_v')\n",
    "    \n",
    "    return coherence_model_lda.get_coherence()"
   ]
  },
  {
   "cell_type": "code",
   "execution_count": null,
   "metadata": {},
   "outputs": [],
   "source": [
    "model_list, coherence_values = compute_coherence_values(corpus=f_corpus, dictionary=id2word, texts= corpus_lemmatized, start=2, limit=20, step=2)"
   ]
  },
  {
   "cell_type": "code",
   "execution_count": null,
   "metadata": {},
   "outputs": [],
   "source": [
    "\n",
    "\n",
    "\n",
    "\n",
    "# Show graph\n",
    "limit=10; start=2; step=2;\n",
    "\n",
    "x = range(start, limit, step)\n",
    "plt.plot(x, coherence_values)\n",
    "plt.xlabel(\"Num Topics\")\n",
    "plt.ylabel(\"Coherence score\")\n",
    "plt.legend((\"coherence_values\"), loc='best')\n",
    "plt.show()\n",
    "\n"
   ]
  },
  {
   "cell_type": "code",
   "execution_count": null,
   "metadata": {},
   "outputs": [],
   "source": [
    "for m, cv in zip(x, coherence_values):\n",
    "    print(\"Num Topics =\", m, \" has Coherence Value of\", round(cv, 4))"
   ]
  },
  {
   "cell_type": "code",
   "execution_count": null,
   "metadata": {},
   "outputs": [],
   "source": [
    "\n",
    "best_model = model_list[4]\n",
    "\n",
    "best_coh =  coherence_values[4]\n",
    "\n",
    "print(f'The best overall model = {best_model, best_coh}')\n"
   ]
  },
  {
   "cell_type": "code",
   "execution_count": null,
   "metadata": {},
   "outputs": [],
   "source": [
    "#is our perplexity better than our manual model?\n",
    "#-12.14, actually better \n",
    "print('\\nBest Model Perplexity: ', best_model.log_perplexity(f_corpus))  # a measure of how good the model is. lower the better."
   ]
  },
  {
   "cell_type": "code",
   "execution_count": null,
   "metadata": {},
   "outputs": [],
   "source": [
    "pyLDAvis.enable_notebook()\n",
    "vis = pyLDAvis.gensim.prepare(best_model, f_corpus, id2word)\n",
    "vis"
   ]
  },
  {
   "cell_type": "markdown",
   "metadata": {},
   "source": [
    "Since we have strong overlap between 11 of our topics, we should probably try to play with the hyperparameters to see how this will affect the model topics output."
   ]
  },
  {
   "cell_type": "code",
   "execution_count": null,
   "metadata": {},
   "outputs": [],
   "source": [
    "pprint(best_model.print_topics())\n"
   ]
  },
  {
   "cell_type": "code",
   "execution_count": null,
   "metadata": {},
   "outputs": [],
   "source": [
    "\n",
    "grid = {}\n",
    "grid['Validation_Set'] = {}\n",
    "# Topics range\n",
    "min_topics = 4\n",
    "max_topics = 15\n",
    "step_size = 1\n",
    "topics_range = range(min_topics, max_topics, step_size)\n",
    "# Alpha parameter\n",
    "\n",
    "alpha = list(np.arange(0.01, 1, 0.3))\n",
    "alpha.append('symmetric')\n",
    "alpha.append('asymmetric')\n",
    "# Beta parameter\n",
    "beta = list(np.arange(0.01, 1, 0.3))\n",
    "beta.append('symmetric')\n",
    "# Validation sets\n",
    "num_of_docs = len(corpus)\n",
    "\n",
    "\n",
    "model_results = {'Topics': [],\n",
    "                 'Alpha': [],\n",
    "                 'Beta': [],\n",
    "                 'Coherence': []\n",
    "                }\n",
    "# Can take a long time to run\n",
    "if 1 == 1:\n",
    "    pbar = tqdm.tqdm(total= 540)\n",
    "    #we removed the different validation sets:\n",
    "    # iterate through validation corpuses\n",
    "    for k in topics_range:\n",
    "        # iterate through alpha values\n",
    "        for a in alpha:\n",
    "             # iterare through beta values\n",
    "            for b in beta:\n",
    "                # get the coherence score for the given parameters\n",
    "                cv = fine_tuned_coherence_values(corpus=f_corpus, dictionary=id2word, \\\n",
    "                                                  k=k, a=a, b=b)\n",
    "                # Save the model results\n",
    "                   \n",
    "                model_results['Topics'].append(k)\n",
    "                model_results['Alpha'].append(a)\n",
    "                model_results['Beta'].append(b)\n",
    "                model_results['Coherence'].append(cv)\n",
    "                    \n",
    "                pbar.update(1)\n",
    "    pd.DataFrame(model_results).to_csv('lda_tuning_results2.csv', index=False)\n",
    "    pbar.close()"
   ]
  },
  {
   "cell_type": "markdown",
   "metadata": {},
   "source": [
    "\n",
    "# Assigning topics to each observation\n",
    "The next step is to use the full list of papers in order to assign each paper entry (that includes the body of the paper).\n",
    "\n",
    "This can also be done using the abstracts, as the abstract should determine some amount of information, where I = len(abstract)/len(full_paper).\n"
   ]
  },
  {
   "cell_type": "code",
   "execution_count": null,
   "metadata": {},
   "outputs": [],
   "source": [
    "#inspiration https://github.com/RaRe-Technologies/gensim/blob/develop/docs/notebooks/topic_methods.ipynb\n",
    "\n",
    "#we are using the best model from our coherence test\n",
    "topics = best_model.get_document_topics(f_corpus, per_word_topics=True) \n",
    "\n",
    "all_topics = [(doc_topics, word_topics, word_phis) for doc_topics, word_topics, word_phis in topics]"
   ]
  },
  {
   "cell_type": "code",
   "execution_count": null,
   "metadata": {},
   "outputs": [],
   "source": [
    "all_doc_tops = []\n",
    "for i in range(len(all_topics)):\n",
    "    all_doc_tops.append(all_topics[i][0])"
   ]
  },
  {
   "cell_type": "code",
   "execution_count": null,
   "metadata": {},
   "outputs": [],
   "source": [
    "#test this out for arbitrary observation in the corpus\n",
    "\n",
    "doc_topics, word_topics, phi_values = all_topics[2]\n",
    "print('Document topic:', doc_topics, \"\\n\")\n",
    "print('Word topic:', word_topics, \"\\n\")\n",
    "print('Phi value:', phi_values)"
   ]
  },
  {
   "cell_type": "code",
   "execution_count": null,
   "metadata": {},
   "outputs": [],
   "source": [
    "df['topics_by_doc'] = all_doc_tops"
   ]
  },
  {
   "cell_type": "code",
   "execution_count": null,
   "metadata": {},
   "outputs": [],
   "source": [
    "df"
   ]
  },
  {
   "cell_type": "markdown",
   "metadata": {},
   "source": [
    "## Next steps\n",
    "The next step would be to one, test out our LDA by 1) staying current with the CORD19 dataset, tuning our hyperparameters, and lasty, we could extend this code base doing something like a Author Topic model, where we can attribute topics not only by the contents of the document, but the author of the document as well.\n",
    "\n"
   ]
  },
  {
   "cell_type": "markdown",
   "metadata": {},
   "source": [
    "\\# Bibliography\n",
    "\n",
    "-SPACY\n",
    "\n",
    "-GENSIM\n",
    "\n",
    "-https://towardsdatascience.com/evaluate-topic-model-in-python-latent-dirichlet-allocation-lda-7d57484bb5d0\n",
    "\n",
    "-https://github.com/RaRe-Technologies/gensim/blob/develop/docs/notebooks/topic_methods.ipynb\n",
    "\n",
    "-https://radimrehurek.com/gensim/models/ldamulticore.html"
   ]
  },
  {
   "cell_type": "code",
   "execution_count": null,
   "metadata": {},
   "outputs": [],
   "source": []
  }
 ],
 "metadata": {
  "kernelspec": {
   "display_name": "Python 3",
   "language": "python",
   "name": "python3"
  },
  "language_info": {
   "codemirror_mode": {
    "name": "ipython",
    "version": 3
   },
   "file_extension": ".py",
   "mimetype": "text/x-python",
   "name": "python",
   "nbconvert_exporter": "python",
   "pygments_lexer": "ipython3",
   "version": "3.7.7"
  }
 },
 "nbformat": 4,
 "nbformat_minor": 4
}
